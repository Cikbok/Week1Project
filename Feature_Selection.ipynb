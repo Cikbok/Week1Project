{
 "cells": [
  {
   "cell_type": "code",
   "execution_count": 1,
   "metadata": {
    "colab": {},
    "colab_type": "code",
    "id": "DilfRAW4jmVw"
   },
   "outputs": [],
   "source": [
    "## The purpose of feature selection : \n",
    "# 1) Improve Interpretability \n",
    "# 2) Improve Prediction Result "
   ]
  },
  {
   "cell_type": "code",
   "execution_count": 2,
   "metadata": {
    "colab": {},
    "colab_type": "code",
    "id": "33mfWuoSjmV-"
   },
   "outputs": [],
   "source": [
    "import pandas as pd \n",
    "import numpy as np \n",
    "import seaborn as sns \n",
    "import matplotlib.pyplot as plt\n",
    "from sklearn.feature_selection import VarianceThreshold\n",
    "pd.options.display.max_columns=999"
   ]
  },
  {
   "cell_type": "code",
   "execution_count": 3,
   "metadata": {
    "colab": {
     "base_uri": "https://localhost:8080/",
     "height": 75,
     "resources": {
      "http://localhost:8080/nbextensions/google.colab/files.js": {
       "data": "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",
       "headers": [
        [
         "content-type",
         "application/javascript"
        ]
       ],
       "ok": true,
       "status": 200,
       "status_text": ""
      }
     }
    },
    "colab_type": "code",
    "id": "iIyM7Vopjq8a",
    "outputId": "c141c809-76df-4769-df02-ad7bca8958f4"
   },
   "outputs": [
    {
     "data": {
      "text/html": [
       "\n",
       "     <input type=\"file\" id=\"files-37669c7b-2b42-459c-8839-1d8e60bb5d7f\" name=\"files[]\" multiple disabled />\n",
       "     <output id=\"result-37669c7b-2b42-459c-8839-1d8e60bb5d7f\">\n",
       "      Upload widget is only available when the cell has been executed in the\n",
       "      current browser session. Please rerun this cell to enable.\n",
       "      </output>\n",
       "      <script src=\"/nbextensions/google.colab/files.js\"></script> "
      ],
      "text/plain": [
       "<IPython.core.display.HTML object>"
      ]
     },
     "metadata": {
      "tags": []
     },
     "output_type": "display_data"
    },
    {
     "name": "stdout",
     "output_type": "stream",
     "text": [
      "Saving train.csv to train (4).csv\n"
     ]
    }
   ],
   "source": [
    "from google.colab import files\n",
    "uploaded = files.upload()"
   ]
  },
  {
   "cell_type": "markdown",
   "metadata": {
    "colab_type": "text",
    "id": "qVq1kyMsj8WI"
   },
   "source": [
    "The data is from https://www.kaggle.com/c/house-prices-advanced-regression-techniques . It provided detailed housing information and sale price. \n",
    "This project is using feature selection method to improve regression prediction power. "
   ]
  },
  {
   "cell_type": "code",
   "execution_count": 3,
   "metadata": {
    "colab": {},
    "colab_type": "code",
    "id": "DWNGNeZRjmWF"
   },
   "outputs": [],
   "source": [
    "data=pd.read_csv(\"train.csv\")"
   ]
  },
  {
   "cell_type": "code",
   "execution_count": 4,
   "metadata": {
    "colab": {},
    "colab_type": "code",
    "id": "h_u5yrwdjmWK"
   },
   "outputs": [],
   "source": [
    "## Imputation"
   ]
  },
  {
   "cell_type": "code",
   "execution_count": 5,
   "metadata": {
    "colab": {
     "base_uri": "https://localhost:8080/",
     "height": 99
    },
    "colab_type": "code",
    "id": "Cum8p6qpjmWP",
    "outputId": "038b98b9-9181-4bb3-db11-fdf1eaa1fea1"
   },
   "outputs": [
    {
     "data": {
      "text/html": [
       "<div>\n",
       "<style scoped>\n",
       "    .dataframe tbody tr th:only-of-type {\n",
       "        vertical-align: middle;\n",
       "    }\n",
       "\n",
       "    .dataframe tbody tr th {\n",
       "        vertical-align: top;\n",
       "    }\n",
       "\n",
       "    .dataframe thead th {\n",
       "        text-align: right;\n",
       "    }\n",
       "</style>\n",
       "<table border=\"1\" class=\"dataframe\">\n",
       "  <thead>\n",
       "    <tr style=\"text-align: right;\">\n",
       "      <th></th>\n",
       "      <th>Id</th>\n",
       "      <th>MSSubClass</th>\n",
       "      <th>MSZoning</th>\n",
       "      <th>LotFrontage</th>\n",
       "      <th>LotArea</th>\n",
       "      <th>Street</th>\n",
       "      <th>Alley</th>\n",
       "      <th>LotShape</th>\n",
       "      <th>LandContour</th>\n",
       "      <th>Utilities</th>\n",
       "      <th>LotConfig</th>\n",
       "      <th>LandSlope</th>\n",
       "      <th>Neighborhood</th>\n",
       "      <th>Condition1</th>\n",
       "      <th>Condition2</th>\n",
       "      <th>BldgType</th>\n",
       "      <th>HouseStyle</th>\n",
       "      <th>OverallQual</th>\n",
       "      <th>OverallCond</th>\n",
       "      <th>YearBuilt</th>\n",
       "      <th>YearRemodAdd</th>\n",
       "      <th>RoofStyle</th>\n",
       "      <th>RoofMatl</th>\n",
       "      <th>Exterior1st</th>\n",
       "      <th>Exterior2nd</th>\n",
       "      <th>MasVnrType</th>\n",
       "      <th>MasVnrArea</th>\n",
       "      <th>ExterQual</th>\n",
       "      <th>ExterCond</th>\n",
       "      <th>Foundation</th>\n",
       "      <th>BsmtQual</th>\n",
       "      <th>BsmtCond</th>\n",
       "      <th>BsmtExposure</th>\n",
       "      <th>BsmtFinType1</th>\n",
       "      <th>BsmtFinSF1</th>\n",
       "      <th>BsmtFinType2</th>\n",
       "      <th>BsmtFinSF2</th>\n",
       "      <th>BsmtUnfSF</th>\n",
       "      <th>TotalBsmtSF</th>\n",
       "      <th>Heating</th>\n",
       "      <th>HeatingQC</th>\n",
       "      <th>CentralAir</th>\n",
       "      <th>Electrical</th>\n",
       "      <th>1stFlrSF</th>\n",
       "      <th>2ndFlrSF</th>\n",
       "      <th>LowQualFinSF</th>\n",
       "      <th>GrLivArea</th>\n",
       "      <th>BsmtFullBath</th>\n",
       "      <th>BsmtHalfBath</th>\n",
       "      <th>FullBath</th>\n",
       "      <th>HalfBath</th>\n",
       "      <th>BedroomAbvGr</th>\n",
       "      <th>KitchenAbvGr</th>\n",
       "      <th>KitchenQual</th>\n",
       "      <th>TotRmsAbvGrd</th>\n",
       "      <th>Functional</th>\n",
       "      <th>Fireplaces</th>\n",
       "      <th>FireplaceQu</th>\n",
       "      <th>GarageType</th>\n",
       "      <th>GarageYrBlt</th>\n",
       "      <th>GarageFinish</th>\n",
       "      <th>GarageCars</th>\n",
       "      <th>GarageArea</th>\n",
       "      <th>GarageQual</th>\n",
       "      <th>GarageCond</th>\n",
       "      <th>PavedDrive</th>\n",
       "      <th>WoodDeckSF</th>\n",
       "      <th>OpenPorchSF</th>\n",
       "      <th>EnclosedPorch</th>\n",
       "      <th>3SsnPorch</th>\n",
       "      <th>ScreenPorch</th>\n",
       "      <th>PoolArea</th>\n",
       "      <th>PoolQC</th>\n",
       "      <th>Fence</th>\n",
       "      <th>MiscFeature</th>\n",
       "      <th>MiscVal</th>\n",
       "      <th>MoSold</th>\n",
       "      <th>YrSold</th>\n",
       "      <th>SaleType</th>\n",
       "      <th>SaleCondition</th>\n",
       "      <th>SalePrice</th>\n",
       "    </tr>\n",
       "  </thead>\n",
       "  <tbody>\n",
       "    <tr>\n",
       "      <th>0</th>\n",
       "      <td>1</td>\n",
       "      <td>60</td>\n",
       "      <td>RL</td>\n",
       "      <td>65.0</td>\n",
       "      <td>8450</td>\n",
       "      <td>Pave</td>\n",
       "      <td>NaN</td>\n",
       "      <td>Reg</td>\n",
       "      <td>Lvl</td>\n",
       "      <td>AllPub</td>\n",
       "      <td>Inside</td>\n",
       "      <td>Gtl</td>\n",
       "      <td>CollgCr</td>\n",
       "      <td>Norm</td>\n",
       "      <td>Norm</td>\n",
       "      <td>1Fam</td>\n",
       "      <td>2Story</td>\n",
       "      <td>7</td>\n",
       "      <td>5</td>\n",
       "      <td>2003</td>\n",
       "      <td>2003</td>\n",
       "      <td>Gable</td>\n",
       "      <td>CompShg</td>\n",
       "      <td>VinylSd</td>\n",
       "      <td>VinylSd</td>\n",
       "      <td>BrkFace</td>\n",
       "      <td>196.0</td>\n",
       "      <td>Gd</td>\n",
       "      <td>TA</td>\n",
       "      <td>PConc</td>\n",
       "      <td>Gd</td>\n",
       "      <td>TA</td>\n",
       "      <td>No</td>\n",
       "      <td>GLQ</td>\n",
       "      <td>706</td>\n",
       "      <td>Unf</td>\n",
       "      <td>0</td>\n",
       "      <td>150</td>\n",
       "      <td>856</td>\n",
       "      <td>GasA</td>\n",
       "      <td>Ex</td>\n",
       "      <td>Y</td>\n",
       "      <td>SBrkr</td>\n",
       "      <td>856</td>\n",
       "      <td>854</td>\n",
       "      <td>0</td>\n",
       "      <td>1710</td>\n",
       "      <td>1</td>\n",
       "      <td>0</td>\n",
       "      <td>2</td>\n",
       "      <td>1</td>\n",
       "      <td>3</td>\n",
       "      <td>1</td>\n",
       "      <td>Gd</td>\n",
       "      <td>8</td>\n",
       "      <td>Typ</td>\n",
       "      <td>0</td>\n",
       "      <td>NaN</td>\n",
       "      <td>Attchd</td>\n",
       "      <td>2003.0</td>\n",
       "      <td>RFn</td>\n",
       "      <td>2</td>\n",
       "      <td>548</td>\n",
       "      <td>TA</td>\n",
       "      <td>TA</td>\n",
       "      <td>Y</td>\n",
       "      <td>0</td>\n",
       "      <td>61</td>\n",
       "      <td>0</td>\n",
       "      <td>0</td>\n",
       "      <td>0</td>\n",
       "      <td>0</td>\n",
       "      <td>NaN</td>\n",
       "      <td>NaN</td>\n",
       "      <td>NaN</td>\n",
       "      <td>0</td>\n",
       "      <td>2</td>\n",
       "      <td>2008</td>\n",
       "      <td>WD</td>\n",
       "      <td>Normal</td>\n",
       "      <td>208500</td>\n",
       "    </tr>\n",
       "  </tbody>\n",
       "</table>\n",
       "</div>"
      ],
      "text/plain": [
       "   Id  MSSubClass MSZoning  LotFrontage  LotArea Street Alley LotShape  \\\n",
       "0   1          60       RL         65.0     8450   Pave   NaN      Reg   \n",
       "\n",
       "  LandContour Utilities LotConfig LandSlope Neighborhood Condition1  \\\n",
       "0         Lvl    AllPub    Inside       Gtl      CollgCr       Norm   \n",
       "\n",
       "  Condition2 BldgType HouseStyle  OverallQual  OverallCond  YearBuilt  \\\n",
       "0       Norm     1Fam     2Story            7            5       2003   \n",
       "\n",
       "   YearRemodAdd RoofStyle RoofMatl Exterior1st Exterior2nd MasVnrType  \\\n",
       "0          2003     Gable  CompShg     VinylSd     VinylSd    BrkFace   \n",
       "\n",
       "   MasVnrArea ExterQual ExterCond Foundation BsmtQual BsmtCond BsmtExposure  \\\n",
       "0       196.0        Gd        TA      PConc       Gd       TA           No   \n",
       "\n",
       "  BsmtFinType1  BsmtFinSF1 BsmtFinType2  BsmtFinSF2  BsmtUnfSF  TotalBsmtSF  \\\n",
       "0          GLQ         706          Unf           0        150          856   \n",
       "\n",
       "  Heating HeatingQC CentralAir Electrical  1stFlrSF  2ndFlrSF  LowQualFinSF  \\\n",
       "0    GasA        Ex          Y      SBrkr       856       854             0   \n",
       "\n",
       "   GrLivArea  BsmtFullBath  BsmtHalfBath  FullBath  HalfBath  BedroomAbvGr  \\\n",
       "0       1710             1             0         2         1             3   \n",
       "\n",
       "   KitchenAbvGr KitchenQual  TotRmsAbvGrd Functional  Fireplaces FireplaceQu  \\\n",
       "0             1          Gd             8        Typ           0         NaN   \n",
       "\n",
       "  GarageType  GarageYrBlt GarageFinish  GarageCars  GarageArea GarageQual  \\\n",
       "0     Attchd       2003.0          RFn           2         548         TA   \n",
       "\n",
       "  GarageCond PavedDrive  WoodDeckSF  OpenPorchSF  EnclosedPorch  3SsnPorch  \\\n",
       "0         TA          Y           0           61              0          0   \n",
       "\n",
       "   ScreenPorch  PoolArea PoolQC Fence MiscFeature  MiscVal  MoSold  YrSold  \\\n",
       "0            0         0    NaN   NaN         NaN        0       2    2008   \n",
       "\n",
       "  SaleType SaleCondition  SalePrice  \n",
       "0       WD        Normal     208500  "
      ]
     },
     "execution_count": 5,
     "metadata": {},
     "output_type": "execute_result"
    }
   ],
   "source": [
    "data.head(1)"
   ]
  },
  {
   "cell_type": "markdown",
   "metadata": {
    "colab_type": "text",
    "id": "3X_JbQxfkQfU"
   },
   "source": [
    "### Preprocessing"
   ]
  },
  {
   "cell_type": "code",
   "execution_count": 6,
   "metadata": {
    "colab": {
     "base_uri": "https://localhost:8080/",
     "height": 35
    },
    "colab_type": "code",
    "id": "KQeo6OlZjmWX",
    "outputId": "31a2d3fb-0d1f-402a-b55f-271665873d4c"
   },
   "outputs": [
    {
     "data": {
      "text/plain": [
       "['Alley', 'PoolQC', 'Fence', 'MiscFeature']"
      ]
     },
     "execution_count": 6,
     "metadata": {},
     "output_type": "execute_result"
    }
   ],
   "source": [
    "#check missing values \n",
    "(data.isnull().sum()/data.shape[0])[(data.isnull().sum()/data.shape[0])>0.8].index.tolist()"
   ]
  },
  {
   "cell_type": "code",
   "execution_count": 7,
   "metadata": {
    "colab": {
     "base_uri": "https://localhost:8080/",
     "height": 312
    },
    "colab_type": "code",
    "id": "2Wz82FjkjmWc",
    "outputId": "d5fc0e2f-c670-40bc-8d73-7701b8b36ae7"
   },
   "outputs": [
    {
     "name": "stdout",
     "output_type": "stream",
     "text": [
      "Grvl    50\n",
      "Pave    41\n",
      "Name: Alley, dtype: int64\n",
      "Gd    3\n",
      "Fa    2\n",
      "Ex    2\n",
      "Name: PoolQC, dtype: int64\n",
      "MnPrv    157\n",
      "GdPrv     59\n",
      "GdWo      54\n",
      "MnWw      11\n",
      "Name: Fence, dtype: int64\n",
      "Shed    49\n",
      "Othr     2\n",
      "Gar2     2\n",
      "TenC     1\n",
      "Name: MiscFeature, dtype: int64\n"
     ]
    }
   ],
   "source": [
    "#Check Alley, FireplaceQu, PoolQC, Fence and MiscFeature\n",
    "missings=(data.isnull().sum()/data.shape[0])[(data.isnull().sum()/data.shape[0])>0.8].index.tolist()\n",
    "for i in missings: \n",
    "    print(data[i].value_counts())"
   ]
  },
  {
   "cell_type": "code",
   "execution_count": 8,
   "metadata": {
    "colab": {},
    "colab_type": "code",
    "id": "gj1Sjgy1jmWh"
   },
   "outputs": [],
   "source": [
    "## There are some variables that missing means the house doesn't have them \n",
    "## These variables are\n",
    "\n",
    "not_miss=[\"Alley\",\"BsmtQual\",\"BsmtExposure\",\"BsmtCond\",\"BsmtFinType1\",\"BsmtFinType2\",\"FireplaceQu\",\"GarageType\",\"GarageFinish\",\"GarageQual\",\"GarageCond\",\"PoolQC\",\"Fence\",\"MiscFeature\"]"
   ]
  },
  {
   "cell_type": "code",
   "execution_count": 9,
   "metadata": {
    "colab": {},
    "colab_type": "code",
    "id": "Wi0VHPcDjmWk"
   },
   "outputs": [],
   "source": [
    "for i in not_miss:\n",
    "    data[i]=data[i].replace(np.NaN,\"None\")"
   ]
  },
  {
   "cell_type": "code",
   "execution_count": 10,
   "metadata": {
    "colab": {
     "base_uri": "https://localhost:8080/",
     "height": 121
    },
    "colab_type": "code",
    "id": "9ayiGzCcjmWo",
    "outputId": "413bae96-3831-4bc7-ec06-34bb86a486bd"
   },
   "outputs": [
    {
     "data": {
      "text/plain": [
       "LotFrontage    0.177397\n",
       "MasVnrType     0.005479\n",
       "MasVnrArea     0.005479\n",
       "Electrical     0.000685\n",
       "GarageYrBlt    0.055479\n",
       "dtype: float64"
      ]
     },
     "execution_count": 10,
     "metadata": {},
     "output_type": "execute_result"
    }
   ],
   "source": [
    "#check missing values \n",
    "(data.isnull().sum()/data.shape[0])[(data.isnull().sum()/data.shape[0])>0]"
   ]
  },
  {
   "cell_type": "code",
   "execution_count": 11,
   "metadata": {
    "colab": {},
    "colab_type": "code",
    "id": "JXo6HVdCjmWs"
   },
   "outputs": [],
   "source": [
    "#Lot Frountage, let us impute it with 0 \n",
    "#This is\n",
    "# because a house with no access to the sidewalk would have no or little\n",
    "# access to the street. We are then justified with setting the value of NA to 0\n",
    "\n",
    "data[\"LotFrontage\"]=data[\"LotFrontage\"].replace(np.NaN,0)"
   ]
  },
  {
   "cell_type": "code",
   "execution_count": 12,
   "metadata": {
    "colab": {
     "base_uri": "https://localhost:8080/",
     "height": 99
    },
    "colab_type": "code",
    "id": "shbYW1ZFjmWw",
    "outputId": "a345b94a-57df-4e3e-f900-72a4acce053a"
   },
   "outputs": [
    {
     "data": {
      "text/html": [
       "<div>\n",
       "<style scoped>\n",
       "    .dataframe tbody tr th:only-of-type {\n",
       "        vertical-align: middle;\n",
       "    }\n",
       "\n",
       "    .dataframe tbody tr th {\n",
       "        vertical-align: top;\n",
       "    }\n",
       "\n",
       "    .dataframe thead th {\n",
       "        text-align: right;\n",
       "    }\n",
       "</style>\n",
       "<table border=\"1\" class=\"dataframe\">\n",
       "  <thead>\n",
       "    <tr style=\"text-align: right;\">\n",
       "      <th></th>\n",
       "      <th>Id</th>\n",
       "      <th>MSSubClass</th>\n",
       "      <th>MSZoning</th>\n",
       "      <th>LotFrontage</th>\n",
       "      <th>LotArea</th>\n",
       "      <th>Street</th>\n",
       "      <th>Alley</th>\n",
       "      <th>LotShape</th>\n",
       "      <th>LandContour</th>\n",
       "      <th>Utilities</th>\n",
       "      <th>LotConfig</th>\n",
       "      <th>LandSlope</th>\n",
       "      <th>Neighborhood</th>\n",
       "      <th>Condition1</th>\n",
       "      <th>Condition2</th>\n",
       "      <th>BldgType</th>\n",
       "      <th>HouseStyle</th>\n",
       "      <th>OverallQual</th>\n",
       "      <th>OverallCond</th>\n",
       "      <th>YearBuilt</th>\n",
       "      <th>YearRemodAdd</th>\n",
       "      <th>RoofStyle</th>\n",
       "      <th>RoofMatl</th>\n",
       "      <th>Exterior1st</th>\n",
       "      <th>Exterior2nd</th>\n",
       "      <th>MasVnrType</th>\n",
       "      <th>MasVnrArea</th>\n",
       "      <th>ExterQual</th>\n",
       "      <th>ExterCond</th>\n",
       "      <th>Foundation</th>\n",
       "      <th>BsmtQual</th>\n",
       "      <th>BsmtCond</th>\n",
       "      <th>BsmtExposure</th>\n",
       "      <th>BsmtFinType1</th>\n",
       "      <th>BsmtFinSF1</th>\n",
       "      <th>BsmtFinType2</th>\n",
       "      <th>BsmtFinSF2</th>\n",
       "      <th>BsmtUnfSF</th>\n",
       "      <th>TotalBsmtSF</th>\n",
       "      <th>Heating</th>\n",
       "      <th>HeatingQC</th>\n",
       "      <th>CentralAir</th>\n",
       "      <th>Electrical</th>\n",
       "      <th>1stFlrSF</th>\n",
       "      <th>2ndFlrSF</th>\n",
       "      <th>LowQualFinSF</th>\n",
       "      <th>GrLivArea</th>\n",
       "      <th>BsmtFullBath</th>\n",
       "      <th>BsmtHalfBath</th>\n",
       "      <th>FullBath</th>\n",
       "      <th>HalfBath</th>\n",
       "      <th>BedroomAbvGr</th>\n",
       "      <th>KitchenAbvGr</th>\n",
       "      <th>KitchenQual</th>\n",
       "      <th>TotRmsAbvGrd</th>\n",
       "      <th>Functional</th>\n",
       "      <th>Fireplaces</th>\n",
       "      <th>FireplaceQu</th>\n",
       "      <th>GarageType</th>\n",
       "      <th>GarageYrBlt</th>\n",
       "      <th>GarageFinish</th>\n",
       "      <th>GarageCars</th>\n",
       "      <th>GarageArea</th>\n",
       "      <th>GarageQual</th>\n",
       "      <th>GarageCond</th>\n",
       "      <th>PavedDrive</th>\n",
       "      <th>WoodDeckSF</th>\n",
       "      <th>OpenPorchSF</th>\n",
       "      <th>EnclosedPorch</th>\n",
       "      <th>3SsnPorch</th>\n",
       "      <th>ScreenPorch</th>\n",
       "      <th>PoolArea</th>\n",
       "      <th>PoolQC</th>\n",
       "      <th>Fence</th>\n",
       "      <th>MiscFeature</th>\n",
       "      <th>MiscVal</th>\n",
       "      <th>MoSold</th>\n",
       "      <th>YrSold</th>\n",
       "      <th>SaleType</th>\n",
       "      <th>SaleCondition</th>\n",
       "      <th>SalePrice</th>\n",
       "    </tr>\n",
       "  </thead>\n",
       "  <tbody>\n",
       "    <tr>\n",
       "      <th>1379</th>\n",
       "      <td>1380</td>\n",
       "      <td>80</td>\n",
       "      <td>RL</td>\n",
       "      <td>73.0</td>\n",
       "      <td>9735</td>\n",
       "      <td>Pave</td>\n",
       "      <td>None</td>\n",
       "      <td>Reg</td>\n",
       "      <td>Lvl</td>\n",
       "      <td>AllPub</td>\n",
       "      <td>Inside</td>\n",
       "      <td>Gtl</td>\n",
       "      <td>Timber</td>\n",
       "      <td>Norm</td>\n",
       "      <td>Norm</td>\n",
       "      <td>1Fam</td>\n",
       "      <td>SLvl</td>\n",
       "      <td>5</td>\n",
       "      <td>5</td>\n",
       "      <td>2006</td>\n",
       "      <td>2007</td>\n",
       "      <td>Gable</td>\n",
       "      <td>CompShg</td>\n",
       "      <td>VinylSd</td>\n",
       "      <td>VinylSd</td>\n",
       "      <td>None</td>\n",
       "      <td>0.0</td>\n",
       "      <td>TA</td>\n",
       "      <td>TA</td>\n",
       "      <td>PConc</td>\n",
       "      <td>Gd</td>\n",
       "      <td>TA</td>\n",
       "      <td>No</td>\n",
       "      <td>Unf</td>\n",
       "      <td>0</td>\n",
       "      <td>Unf</td>\n",
       "      <td>0</td>\n",
       "      <td>384</td>\n",
       "      <td>384</td>\n",
       "      <td>GasA</td>\n",
       "      <td>Gd</td>\n",
       "      <td>Y</td>\n",
       "      <td>NaN</td>\n",
       "      <td>754</td>\n",
       "      <td>640</td>\n",
       "      <td>0</td>\n",
       "      <td>1394</td>\n",
       "      <td>0</td>\n",
       "      <td>0</td>\n",
       "      <td>2</td>\n",
       "      <td>1</td>\n",
       "      <td>3</td>\n",
       "      <td>1</td>\n",
       "      <td>Gd</td>\n",
       "      <td>7</td>\n",
       "      <td>Typ</td>\n",
       "      <td>0</td>\n",
       "      <td>None</td>\n",
       "      <td>BuiltIn</td>\n",
       "      <td>2007.0</td>\n",
       "      <td>Fin</td>\n",
       "      <td>2</td>\n",
       "      <td>400</td>\n",
       "      <td>TA</td>\n",
       "      <td>TA</td>\n",
       "      <td>Y</td>\n",
       "      <td>100</td>\n",
       "      <td>0</td>\n",
       "      <td>0</td>\n",
       "      <td>0</td>\n",
       "      <td>0</td>\n",
       "      <td>0</td>\n",
       "      <td>None</td>\n",
       "      <td>None</td>\n",
       "      <td>None</td>\n",
       "      <td>0</td>\n",
       "      <td>5</td>\n",
       "      <td>2008</td>\n",
       "      <td>WD</td>\n",
       "      <td>Normal</td>\n",
       "      <td>167500</td>\n",
       "    </tr>\n",
       "  </tbody>\n",
       "</table>\n",
       "</div>"
      ],
      "text/plain": [
       "        Id  MSSubClass MSZoning  LotFrontage  LotArea Street Alley LotShape  \\\n",
       "1379  1380          80       RL         73.0     9735   Pave  None      Reg   \n",
       "\n",
       "     LandContour Utilities LotConfig LandSlope Neighborhood Condition1  \\\n",
       "1379         Lvl    AllPub    Inside       Gtl       Timber       Norm   \n",
       "\n",
       "     Condition2 BldgType HouseStyle  OverallQual  OverallCond  YearBuilt  \\\n",
       "1379       Norm     1Fam       SLvl            5            5       2006   \n",
       "\n",
       "      YearRemodAdd RoofStyle RoofMatl Exterior1st Exterior2nd MasVnrType  \\\n",
       "1379          2007     Gable  CompShg     VinylSd     VinylSd       None   \n",
       "\n",
       "      MasVnrArea ExterQual ExterCond Foundation BsmtQual BsmtCond  \\\n",
       "1379         0.0        TA        TA      PConc       Gd       TA   \n",
       "\n",
       "     BsmtExposure BsmtFinType1  BsmtFinSF1 BsmtFinType2  BsmtFinSF2  \\\n",
       "1379           No          Unf           0          Unf           0   \n",
       "\n",
       "      BsmtUnfSF  TotalBsmtSF Heating HeatingQC CentralAir Electrical  \\\n",
       "1379        384          384    GasA        Gd          Y        NaN   \n",
       "\n",
       "      1stFlrSF  2ndFlrSF  LowQualFinSF  GrLivArea  BsmtFullBath  BsmtHalfBath  \\\n",
       "1379       754       640             0       1394             0             0   \n",
       "\n",
       "      FullBath  HalfBath  BedroomAbvGr  KitchenAbvGr KitchenQual  \\\n",
       "1379         2         1             3             1          Gd   \n",
       "\n",
       "      TotRmsAbvGrd Functional  Fireplaces FireplaceQu GarageType  GarageYrBlt  \\\n",
       "1379             7        Typ           0        None    BuiltIn       2007.0   \n",
       "\n",
       "     GarageFinish  GarageCars  GarageArea GarageQual GarageCond PavedDrive  \\\n",
       "1379          Fin           2         400         TA         TA          Y   \n",
       "\n",
       "      WoodDeckSF  OpenPorchSF  EnclosedPorch  3SsnPorch  ScreenPorch  \\\n",
       "1379         100            0              0          0            0   \n",
       "\n",
       "      PoolArea PoolQC Fence MiscFeature  MiscVal  MoSold  YrSold SaleType  \\\n",
       "1379         0   None  None        None        0       5    2008       WD   \n",
       "\n",
       "     SaleCondition  SalePrice  \n",
       "1379        Normal     167500  "
      ]
     },
     "execution_count": 12,
     "metadata": {},
     "output_type": "execute_result"
    }
   ],
   "source": [
    "#Electrical \n",
    "data[data[\"Electrical\"].isnull()]\n",
    "#only one "
   ]
  },
  {
   "cell_type": "code",
   "execution_count": 13,
   "metadata": {
    "colab": {},
    "colab_type": "code",
    "id": "VUYBTUHgjmW0"
   },
   "outputs": [],
   "source": [
    "#Drop it \n",
    "data=data[data[\"Id\"]!=1380]"
   ]
  },
  {
   "cell_type": "code",
   "execution_count": 14,
   "metadata": {
    "colab": {},
    "colab_type": "code",
    "id": "h4BbC5g5jmW4"
   },
   "outputs": [],
   "source": [
    "# GarageYrBlt: Year garage was built\n",
    "# \n",
    "# This correlates with the \"No\" basements section. There are a number of ways to\n",
    "# tackle this problem. It will be set to 0, temporarily\n",
    "data[\"GarageYrBlt\"]=data[\"GarageYrBlt\"].replace(np.NaN,0)"
   ]
  },
  {
   "cell_type": "code",
   "execution_count": 15,
   "metadata": {
    "colab": {},
    "colab_type": "code",
    "id": "Rju-ldWhjmW8"
   },
   "outputs": [],
   "source": [
    "data[\"Id\"].value_counts() # Not useful \n",
    "#Let us get rid of it \n",
    "data=data.drop('Id',axis=1)"
   ]
  },
  {
   "cell_type": "code",
   "execution_count": 16,
   "metadata": {
    "colab": {
     "base_uri": "https://localhost:8080/",
     "height": 69
    },
    "colab_type": "code",
    "id": "M9j7yZ9RjmXA",
    "outputId": "4f986a82-33dc-412b-882f-b0c8da400408"
   },
   "outputs": [
    {
     "data": {
      "text/plain": [
       "MasVnrType    8\n",
       "MasVnrArea    8\n",
       "dtype: int64"
      ]
     },
     "execution_count": 16,
     "metadata": {},
     "output_type": "execute_result"
    }
   ],
   "source": [
    "data.isnull().sum()[data.isnull().sum()>0]"
   ]
  },
  {
   "cell_type": "code",
   "execution_count": 17,
   "metadata": {
    "colab": {},
    "colab_type": "code",
    "id": "cSvVntJsjmXG"
   },
   "outputs": [],
   "source": [
    "#Remove these for now \n",
    "data=data[data[\"MasVnrType\"].isnull()==False]"
   ]
  },
  {
   "cell_type": "code",
   "execution_count": 18,
   "metadata": {
    "colab": {
     "base_uri": "https://localhost:8080/",
     "height": 35
    },
    "colab_type": "code",
    "id": "sDhrL7yPjmXK",
    "outputId": "cad52924-44f8-4aec-d3a6-2d3484bceeef"
   },
   "outputs": [
    {
     "data": {
      "text/plain": [
       "Series([], dtype: int64)"
      ]
     },
     "execution_count": 18,
     "metadata": {},
     "output_type": "execute_result"
    }
   ],
   "source": [
    "data.isnull().sum()[data.isnull().sum()>0]"
   ]
  },
  {
   "cell_type": "code",
   "execution_count": 19,
   "metadata": {
    "colab": {},
    "colab_type": "code",
    "id": "R5OSzcMpjmXR"
   },
   "outputs": [],
   "source": [
    "# OneHotEncoding "
   ]
  },
  {
   "cell_type": "code",
   "execution_count": 20,
   "metadata": {
    "colab": {},
    "colab_type": "code",
    "id": "NfMtgs7ajmXW"
   },
   "outputs": [],
   "source": [
    "X=data.drop(\"SalePrice\",axis=1)"
   ]
  },
  {
   "cell_type": "code",
   "execution_count": 21,
   "metadata": {
    "colab": {},
    "colab_type": "code",
    "id": "mUQ7-mkojmXa"
   },
   "outputs": [],
   "source": [
    "Y=data[\"SalePrice\"]"
   ]
  },
  {
   "cell_type": "code",
   "execution_count": 22,
   "metadata": {
    "colab": {},
    "colab_type": "code",
    "id": "IxFL-ItojmXe"
   },
   "outputs": [],
   "source": [
    "X=pd.get_dummies(X,drop_first=True)"
   ]
  },
  {
   "cell_type": "code",
   "execution_count": 23,
   "metadata": {
    "colab": {
     "base_uri": "https://localhost:8080/",
     "height": 117
    },
    "colab_type": "code",
    "id": "uOWbX8u2jmXi",
    "outputId": "f4e7e613-ecaf-47b5-9241-a22be0e28aba"
   },
   "outputs": [
    {
     "data": {
      "text/html": [
       "<div>\n",
       "<style scoped>\n",
       "    .dataframe tbody tr th:only-of-type {\n",
       "        vertical-align: middle;\n",
       "    }\n",
       "\n",
       "    .dataframe tbody tr th {\n",
       "        vertical-align: top;\n",
       "    }\n",
       "\n",
       "    .dataframe thead th {\n",
       "        text-align: right;\n",
       "    }\n",
       "</style>\n",
       "<table border=\"1\" class=\"dataframe\">\n",
       "  <thead>\n",
       "    <tr style=\"text-align: right;\">\n",
       "      <th></th>\n",
       "      <th>MSSubClass</th>\n",
       "      <th>LotFrontage</th>\n",
       "      <th>LotArea</th>\n",
       "      <th>OverallQual</th>\n",
       "      <th>OverallCond</th>\n",
       "      <th>YearBuilt</th>\n",
       "      <th>YearRemodAdd</th>\n",
       "      <th>MasVnrArea</th>\n",
       "      <th>BsmtFinSF1</th>\n",
       "      <th>BsmtFinSF2</th>\n",
       "      <th>BsmtUnfSF</th>\n",
       "      <th>TotalBsmtSF</th>\n",
       "      <th>1stFlrSF</th>\n",
       "      <th>2ndFlrSF</th>\n",
       "      <th>LowQualFinSF</th>\n",
       "      <th>GrLivArea</th>\n",
       "      <th>BsmtFullBath</th>\n",
       "      <th>BsmtHalfBath</th>\n",
       "      <th>FullBath</th>\n",
       "      <th>HalfBath</th>\n",
       "      <th>BedroomAbvGr</th>\n",
       "      <th>KitchenAbvGr</th>\n",
       "      <th>TotRmsAbvGrd</th>\n",
       "      <th>Fireplaces</th>\n",
       "      <th>GarageYrBlt</th>\n",
       "      <th>GarageCars</th>\n",
       "      <th>GarageArea</th>\n",
       "      <th>WoodDeckSF</th>\n",
       "      <th>OpenPorchSF</th>\n",
       "      <th>EnclosedPorch</th>\n",
       "      <th>3SsnPorch</th>\n",
       "      <th>ScreenPorch</th>\n",
       "      <th>PoolArea</th>\n",
       "      <th>MiscVal</th>\n",
       "      <th>MoSold</th>\n",
       "      <th>YrSold</th>\n",
       "      <th>MSZoning_FV</th>\n",
       "      <th>MSZoning_RH</th>\n",
       "      <th>MSZoning_RL</th>\n",
       "      <th>MSZoning_RM</th>\n",
       "      <th>Street_Pave</th>\n",
       "      <th>Alley_None</th>\n",
       "      <th>Alley_Pave</th>\n",
       "      <th>LotShape_IR2</th>\n",
       "      <th>LotShape_IR3</th>\n",
       "      <th>LotShape_Reg</th>\n",
       "      <th>LandContour_HLS</th>\n",
       "      <th>LandContour_Low</th>\n",
       "      <th>LandContour_Lvl</th>\n",
       "      <th>Utilities_NoSeWa</th>\n",
       "      <th>LotConfig_CulDSac</th>\n",
       "      <th>LotConfig_FR2</th>\n",
       "      <th>LotConfig_FR3</th>\n",
       "      <th>LotConfig_Inside</th>\n",
       "      <th>LandSlope_Mod</th>\n",
       "      <th>LandSlope_Sev</th>\n",
       "      <th>Neighborhood_Blueste</th>\n",
       "      <th>Neighborhood_BrDale</th>\n",
       "      <th>Neighborhood_BrkSide</th>\n",
       "      <th>Neighborhood_ClearCr</th>\n",
       "      <th>Neighborhood_CollgCr</th>\n",
       "      <th>Neighborhood_Crawfor</th>\n",
       "      <th>Neighborhood_Edwards</th>\n",
       "      <th>Neighborhood_Gilbert</th>\n",
       "      <th>Neighborhood_IDOTRR</th>\n",
       "      <th>Neighborhood_MeadowV</th>\n",
       "      <th>Neighborhood_Mitchel</th>\n",
       "      <th>Neighborhood_NAmes</th>\n",
       "      <th>Neighborhood_NPkVill</th>\n",
       "      <th>Neighborhood_NWAmes</th>\n",
       "      <th>Neighborhood_NoRidge</th>\n",
       "      <th>Neighborhood_NridgHt</th>\n",
       "      <th>Neighborhood_OldTown</th>\n",
       "      <th>Neighborhood_SWISU</th>\n",
       "      <th>Neighborhood_Sawyer</th>\n",
       "      <th>Neighborhood_SawyerW</th>\n",
       "      <th>Neighborhood_Somerst</th>\n",
       "      <th>Neighborhood_StoneBr</th>\n",
       "      <th>Neighborhood_Timber</th>\n",
       "      <th>Neighborhood_Veenker</th>\n",
       "      <th>Condition1_Feedr</th>\n",
       "      <th>Condition1_Norm</th>\n",
       "      <th>Condition1_PosA</th>\n",
       "      <th>Condition1_PosN</th>\n",
       "      <th>Condition1_RRAe</th>\n",
       "      <th>Condition1_RRAn</th>\n",
       "      <th>Condition1_RRNe</th>\n",
       "      <th>Condition1_RRNn</th>\n",
       "      <th>Condition2_Feedr</th>\n",
       "      <th>Condition2_Norm</th>\n",
       "      <th>Condition2_PosA</th>\n",
       "      <th>Condition2_PosN</th>\n",
       "      <th>Condition2_RRAe</th>\n",
       "      <th>Condition2_RRAn</th>\n",
       "      <th>Condition2_RRNn</th>\n",
       "      <th>BldgType_2fmCon</th>\n",
       "      <th>BldgType_Duplex</th>\n",
       "      <th>BldgType_Twnhs</th>\n",
       "      <th>BldgType_TwnhsE</th>\n",
       "      <th>HouseStyle_1.5Unf</th>\n",
       "      <th>HouseStyle_1Story</th>\n",
       "      <th>HouseStyle_2.5Fin</th>\n",
       "      <th>HouseStyle_2.5Unf</th>\n",
       "      <th>HouseStyle_2Story</th>\n",
       "      <th>HouseStyle_SFoyer</th>\n",
       "      <th>HouseStyle_SLvl</th>\n",
       "      <th>RoofStyle_Gable</th>\n",
       "      <th>RoofStyle_Gambrel</th>\n",
       "      <th>RoofStyle_Hip</th>\n",
       "      <th>RoofStyle_Mansard</th>\n",
       "      <th>RoofStyle_Shed</th>\n",
       "      <th>RoofMatl_CompShg</th>\n",
       "      <th>RoofMatl_Membran</th>\n",
       "      <th>RoofMatl_Metal</th>\n",
       "      <th>RoofMatl_Roll</th>\n",
       "      <th>RoofMatl_Tar&amp;Grv</th>\n",
       "      <th>RoofMatl_WdShake</th>\n",
       "      <th>RoofMatl_WdShngl</th>\n",
       "      <th>Exterior1st_AsphShn</th>\n",
       "      <th>Exterior1st_BrkComm</th>\n",
       "      <th>Exterior1st_BrkFace</th>\n",
       "      <th>Exterior1st_CBlock</th>\n",
       "      <th>Exterior1st_CemntBd</th>\n",
       "      <th>Exterior1st_HdBoard</th>\n",
       "      <th>Exterior1st_ImStucc</th>\n",
       "      <th>Exterior1st_MetalSd</th>\n",
       "      <th>Exterior1st_Plywood</th>\n",
       "      <th>Exterior1st_Stone</th>\n",
       "      <th>Exterior1st_Stucco</th>\n",
       "      <th>Exterior1st_VinylSd</th>\n",
       "      <th>Exterior1st_Wd Sdng</th>\n",
       "      <th>Exterior1st_WdShing</th>\n",
       "      <th>Exterior2nd_AsphShn</th>\n",
       "      <th>Exterior2nd_Brk Cmn</th>\n",
       "      <th>Exterior2nd_BrkFace</th>\n",
       "      <th>Exterior2nd_CBlock</th>\n",
       "      <th>Exterior2nd_CmentBd</th>\n",
       "      <th>Exterior2nd_HdBoard</th>\n",
       "      <th>Exterior2nd_ImStucc</th>\n",
       "      <th>Exterior2nd_MetalSd</th>\n",
       "      <th>Exterior2nd_Other</th>\n",
       "      <th>Exterior2nd_Plywood</th>\n",
       "      <th>Exterior2nd_Stone</th>\n",
       "      <th>Exterior2nd_Stucco</th>\n",
       "      <th>Exterior2nd_VinylSd</th>\n",
       "      <th>Exterior2nd_Wd Sdng</th>\n",
       "      <th>Exterior2nd_Wd Shng</th>\n",
       "      <th>MasVnrType_BrkFace</th>\n",
       "      <th>MasVnrType_None</th>\n",
       "      <th>MasVnrType_Stone</th>\n",
       "      <th>ExterQual_Fa</th>\n",
       "      <th>ExterQual_Gd</th>\n",
       "      <th>ExterQual_TA</th>\n",
       "      <th>ExterCond_Fa</th>\n",
       "      <th>ExterCond_Gd</th>\n",
       "      <th>ExterCond_Po</th>\n",
       "      <th>ExterCond_TA</th>\n",
       "      <th>Foundation_CBlock</th>\n",
       "      <th>Foundation_PConc</th>\n",
       "      <th>Foundation_Slab</th>\n",
       "      <th>Foundation_Stone</th>\n",
       "      <th>Foundation_Wood</th>\n",
       "      <th>BsmtQual_Fa</th>\n",
       "      <th>BsmtQual_Gd</th>\n",
       "      <th>BsmtQual_None</th>\n",
       "      <th>BsmtQual_TA</th>\n",
       "      <th>BsmtCond_Gd</th>\n",
       "      <th>BsmtCond_None</th>\n",
       "      <th>BsmtCond_Po</th>\n",
       "      <th>BsmtCond_TA</th>\n",
       "      <th>BsmtExposure_Gd</th>\n",
       "      <th>BsmtExposure_Mn</th>\n",
       "      <th>BsmtExposure_No</th>\n",
       "      <th>BsmtExposure_None</th>\n",
       "      <th>BsmtFinType1_BLQ</th>\n",
       "      <th>BsmtFinType1_GLQ</th>\n",
       "      <th>BsmtFinType1_LwQ</th>\n",
       "      <th>BsmtFinType1_None</th>\n",
       "      <th>BsmtFinType1_Rec</th>\n",
       "      <th>BsmtFinType1_Unf</th>\n",
       "      <th>BsmtFinType2_BLQ</th>\n",
       "      <th>BsmtFinType2_GLQ</th>\n",
       "      <th>BsmtFinType2_LwQ</th>\n",
       "      <th>BsmtFinType2_None</th>\n",
       "      <th>BsmtFinType2_Rec</th>\n",
       "      <th>BsmtFinType2_Unf</th>\n",
       "      <th>Heating_GasA</th>\n",
       "      <th>Heating_GasW</th>\n",
       "      <th>Heating_Grav</th>\n",
       "      <th>Heating_OthW</th>\n",
       "      <th>Heating_Wall</th>\n",
       "      <th>HeatingQC_Fa</th>\n",
       "      <th>HeatingQC_Gd</th>\n",
       "      <th>HeatingQC_Po</th>\n",
       "      <th>HeatingQC_TA</th>\n",
       "      <th>CentralAir_Y</th>\n",
       "      <th>Electrical_FuseF</th>\n",
       "      <th>Electrical_FuseP</th>\n",
       "      <th>Electrical_Mix</th>\n",
       "      <th>Electrical_SBrkr</th>\n",
       "      <th>KitchenQual_Fa</th>\n",
       "      <th>KitchenQual_Gd</th>\n",
       "      <th>KitchenQual_TA</th>\n",
       "      <th>Functional_Maj2</th>\n",
       "      <th>Functional_Min1</th>\n",
       "      <th>Functional_Min2</th>\n",
       "      <th>Functional_Mod</th>\n",
       "      <th>Functional_Sev</th>\n",
       "      <th>Functional_Typ</th>\n",
       "      <th>FireplaceQu_Fa</th>\n",
       "      <th>FireplaceQu_Gd</th>\n",
       "      <th>FireplaceQu_None</th>\n",
       "      <th>FireplaceQu_Po</th>\n",
       "      <th>FireplaceQu_TA</th>\n",
       "      <th>GarageType_Attchd</th>\n",
       "      <th>GarageType_Basment</th>\n",
       "      <th>GarageType_BuiltIn</th>\n",
       "      <th>GarageType_CarPort</th>\n",
       "      <th>GarageType_Detchd</th>\n",
       "      <th>GarageType_None</th>\n",
       "      <th>GarageFinish_None</th>\n",
       "      <th>GarageFinish_RFn</th>\n",
       "      <th>GarageFinish_Unf</th>\n",
       "      <th>GarageQual_Fa</th>\n",
       "      <th>GarageQual_Gd</th>\n",
       "      <th>GarageQual_None</th>\n",
       "      <th>GarageQual_Po</th>\n",
       "      <th>GarageQual_TA</th>\n",
       "      <th>GarageCond_Fa</th>\n",
       "      <th>GarageCond_Gd</th>\n",
       "      <th>GarageCond_None</th>\n",
       "      <th>GarageCond_Po</th>\n",
       "      <th>GarageCond_TA</th>\n",
       "      <th>PavedDrive_P</th>\n",
       "      <th>PavedDrive_Y</th>\n",
       "      <th>PoolQC_Fa</th>\n",
       "      <th>PoolQC_Gd</th>\n",
       "      <th>PoolQC_None</th>\n",
       "      <th>Fence_GdWo</th>\n",
       "      <th>Fence_MnPrv</th>\n",
       "      <th>Fence_MnWw</th>\n",
       "      <th>Fence_None</th>\n",
       "      <th>MiscFeature_None</th>\n",
       "      <th>MiscFeature_Othr</th>\n",
       "      <th>MiscFeature_Shed</th>\n",
       "      <th>MiscFeature_TenC</th>\n",
       "      <th>SaleType_CWD</th>\n",
       "      <th>SaleType_Con</th>\n",
       "      <th>SaleType_ConLD</th>\n",
       "      <th>SaleType_ConLI</th>\n",
       "      <th>SaleType_ConLw</th>\n",
       "      <th>SaleType_New</th>\n",
       "      <th>SaleType_Oth</th>\n",
       "      <th>SaleType_WD</th>\n",
       "      <th>SaleCondition_AdjLand</th>\n",
       "      <th>SaleCondition_Alloca</th>\n",
       "      <th>SaleCondition_Family</th>\n",
       "      <th>SaleCondition_Normal</th>\n",
       "      <th>SaleCondition_Partial</th>\n",
       "    </tr>\n",
       "  </thead>\n",
       "  <tbody>\n",
       "    <tr>\n",
       "      <th>0</th>\n",
       "      <td>60</td>\n",
       "      <td>65.0</td>\n",
       "      <td>8450</td>\n",
       "      <td>7</td>\n",
       "      <td>5</td>\n",
       "      <td>2003</td>\n",
       "      <td>2003</td>\n",
       "      <td>196.0</td>\n",
       "      <td>706</td>\n",
       "      <td>0</td>\n",
       "      <td>150</td>\n",
       "      <td>856</td>\n",
       "      <td>856</td>\n",
       "      <td>854</td>\n",
       "      <td>0</td>\n",
       "      <td>1710</td>\n",
       "      <td>1</td>\n",
       "      <td>0</td>\n",
       "      <td>2</td>\n",
       "      <td>1</td>\n",
       "      <td>3</td>\n",
       "      <td>1</td>\n",
       "      <td>8</td>\n",
       "      <td>0</td>\n",
       "      <td>2003.0</td>\n",
       "      <td>2</td>\n",
       "      <td>548</td>\n",
       "      <td>0</td>\n",
       "      <td>61</td>\n",
       "      <td>0</td>\n",
       "      <td>0</td>\n",
       "      <td>0</td>\n",
       "      <td>0</td>\n",
       "      <td>0</td>\n",
       "      <td>2</td>\n",
       "      <td>2008</td>\n",
       "      <td>0</td>\n",
       "      <td>0</td>\n",
       "      <td>1</td>\n",
       "      <td>0</td>\n",
       "      <td>1</td>\n",
       "      <td>1</td>\n",
       "      <td>0</td>\n",
       "      <td>0</td>\n",
       "      <td>0</td>\n",
       "      <td>1</td>\n",
       "      <td>0</td>\n",
       "      <td>0</td>\n",
       "      <td>1</td>\n",
       "      <td>0</td>\n",
       "      <td>0</td>\n",
       "      <td>0</td>\n",
       "      <td>0</td>\n",
       "      <td>1</td>\n",
       "      <td>0</td>\n",
       "      <td>0</td>\n",
       "      <td>0</td>\n",
       "      <td>0</td>\n",
       "      <td>0</td>\n",
       "      <td>0</td>\n",
       "      <td>1</td>\n",
       "      <td>0</td>\n",
       "      <td>0</td>\n",
       "      <td>0</td>\n",
       "      <td>0</td>\n",
       "      <td>0</td>\n",
       "      <td>0</td>\n",
       "      <td>0</td>\n",
       "      <td>0</td>\n",
       "      <td>0</td>\n",
       "      <td>0</td>\n",
       "      <td>0</td>\n",
       "      <td>0</td>\n",
       "      <td>0</td>\n",
       "      <td>0</td>\n",
       "      <td>0</td>\n",
       "      <td>0</td>\n",
       "      <td>0</td>\n",
       "      <td>0</td>\n",
       "      <td>0</td>\n",
       "      <td>0</td>\n",
       "      <td>1</td>\n",
       "      <td>0</td>\n",
       "      <td>0</td>\n",
       "      <td>0</td>\n",
       "      <td>0</td>\n",
       "      <td>0</td>\n",
       "      <td>0</td>\n",
       "      <td>0</td>\n",
       "      <td>1</td>\n",
       "      <td>0</td>\n",
       "      <td>0</td>\n",
       "      <td>0</td>\n",
       "      <td>0</td>\n",
       "      <td>0</td>\n",
       "      <td>0</td>\n",
       "      <td>0</td>\n",
       "      <td>0</td>\n",
       "      <td>0</td>\n",
       "      <td>0</td>\n",
       "      <td>0</td>\n",
       "      <td>0</td>\n",
       "      <td>0</td>\n",
       "      <td>1</td>\n",
       "      <td>0</td>\n",
       "      <td>0</td>\n",
       "      <td>1</td>\n",
       "      <td>0</td>\n",
       "      <td>0</td>\n",
       "      <td>0</td>\n",
       "      <td>0</td>\n",
       "      <td>1</td>\n",
       "      <td>0</td>\n",
       "      <td>0</td>\n",
       "      <td>0</td>\n",
       "      <td>0</td>\n",
       "      <td>0</td>\n",
       "      <td>0</td>\n",
       "      <td>0</td>\n",
       "      <td>0</td>\n",
       "      <td>0</td>\n",
       "      <td>0</td>\n",
       "      <td>0</td>\n",
       "      <td>0</td>\n",
       "      <td>0</td>\n",
       "      <td>0</td>\n",
       "      <td>0</td>\n",
       "      <td>0</td>\n",
       "      <td>0</td>\n",
       "      <td>1</td>\n",
       "      <td>0</td>\n",
       "      <td>0</td>\n",
       "      <td>0</td>\n",
       "      <td>0</td>\n",
       "      <td>0</td>\n",
       "      <td>0</td>\n",
       "      <td>0</td>\n",
       "      <td>0</td>\n",
       "      <td>0</td>\n",
       "      <td>0</td>\n",
       "      <td>0</td>\n",
       "      <td>0</td>\n",
       "      <td>0</td>\n",
       "      <td>0</td>\n",
       "      <td>1</td>\n",
       "      <td>0</td>\n",
       "      <td>0</td>\n",
       "      <td>1</td>\n",
       "      <td>0</td>\n",
       "      <td>0</td>\n",
       "      <td>0</td>\n",
       "      <td>1</td>\n",
       "      <td>0</td>\n",
       "      <td>0</td>\n",
       "      <td>0</td>\n",
       "      <td>0</td>\n",
       "      <td>1</td>\n",
       "      <td>0</td>\n",
       "      <td>1</td>\n",
       "      <td>0</td>\n",
       "      <td>0</td>\n",
       "      <td>0</td>\n",
       "      <td>0</td>\n",
       "      <td>1</td>\n",
       "      <td>0</td>\n",
       "      <td>0</td>\n",
       "      <td>0</td>\n",
       "      <td>0</td>\n",
       "      <td>0</td>\n",
       "      <td>1</td>\n",
       "      <td>0</td>\n",
       "      <td>0</td>\n",
       "      <td>1</td>\n",
       "      <td>0</td>\n",
       "      <td>0</td>\n",
       "      <td>1</td>\n",
       "      <td>0</td>\n",
       "      <td>0</td>\n",
       "      <td>0</td>\n",
       "      <td>0</td>\n",
       "      <td>0</td>\n",
       "      <td>0</td>\n",
       "      <td>0</td>\n",
       "      <td>0</td>\n",
       "      <td>0</td>\n",
       "      <td>1</td>\n",
       "      <td>1</td>\n",
       "      <td>0</td>\n",
       "      <td>0</td>\n",
       "      <td>0</td>\n",
       "      <td>0</td>\n",
       "      <td>0</td>\n",
       "      <td>0</td>\n",
       "      <td>0</td>\n",
       "      <td>0</td>\n",
       "      <td>1</td>\n",
       "      <td>0</td>\n",
       "      <td>0</td>\n",
       "      <td>0</td>\n",
       "      <td>1</td>\n",
       "      <td>0</td>\n",
       "      <td>1</td>\n",
       "      <td>0</td>\n",
       "      <td>0</td>\n",
       "      <td>0</td>\n",
       "      <td>0</td>\n",
       "      <td>0</td>\n",
       "      <td>0</td>\n",
       "      <td>1</td>\n",
       "      <td>0</td>\n",
       "      <td>0</td>\n",
       "      <td>1</td>\n",
       "      <td>0</td>\n",
       "      <td>0</td>\n",
       "      <td>1</td>\n",
       "      <td>0</td>\n",
       "      <td>0</td>\n",
       "      <td>0</td>\n",
       "      <td>0</td>\n",
       "      <td>0</td>\n",
       "      <td>0</td>\n",
       "      <td>1</td>\n",
       "      <td>0</td>\n",
       "      <td>0</td>\n",
       "      <td>0</td>\n",
       "      <td>0</td>\n",
       "      <td>0</td>\n",
       "      <td>1</td>\n",
       "      <td>0</td>\n",
       "      <td>0</td>\n",
       "      <td>0</td>\n",
       "      <td>0</td>\n",
       "      <td>1</td>\n",
       "      <td>0</td>\n",
       "      <td>1</td>\n",
       "      <td>0</td>\n",
       "      <td>0</td>\n",
       "      <td>1</td>\n",
       "      <td>0</td>\n",
       "      <td>0</td>\n",
       "      <td>0</td>\n",
       "      <td>1</td>\n",
       "      <td>1</td>\n",
       "      <td>0</td>\n",
       "      <td>0</td>\n",
       "      <td>0</td>\n",
       "      <td>0</td>\n",
       "      <td>0</td>\n",
       "      <td>0</td>\n",
       "      <td>0</td>\n",
       "      <td>0</td>\n",
       "      <td>0</td>\n",
       "      <td>0</td>\n",
       "      <td>1</td>\n",
       "      <td>0</td>\n",
       "      <td>0</td>\n",
       "      <td>0</td>\n",
       "      <td>1</td>\n",
       "      <td>0</td>\n",
       "    </tr>\n",
       "  </tbody>\n",
       "</table>\n",
       "</div>"
      ],
      "text/plain": [
       "   MSSubClass  LotFrontage  LotArea  OverallQual  OverallCond  YearBuilt  \\\n",
       "0          60         65.0     8450            7            5       2003   \n",
       "\n",
       "   YearRemodAdd  MasVnrArea  BsmtFinSF1  BsmtFinSF2  BsmtUnfSF  TotalBsmtSF  \\\n",
       "0          2003       196.0         706           0        150          856   \n",
       "\n",
       "   1stFlrSF  2ndFlrSF  LowQualFinSF  GrLivArea  BsmtFullBath  BsmtHalfBath  \\\n",
       "0       856       854             0       1710             1             0   \n",
       "\n",
       "   FullBath  HalfBath  BedroomAbvGr  KitchenAbvGr  TotRmsAbvGrd  Fireplaces  \\\n",
       "0         2         1             3             1             8           0   \n",
       "\n",
       "   GarageYrBlt  GarageCars  GarageArea  WoodDeckSF  OpenPorchSF  \\\n",
       "0       2003.0           2         548           0           61   \n",
       "\n",
       "   EnclosedPorch  3SsnPorch  ScreenPorch  PoolArea  MiscVal  MoSold  YrSold  \\\n",
       "0              0          0            0         0        0       2    2008   \n",
       "\n",
       "   MSZoning_FV  MSZoning_RH  MSZoning_RL  MSZoning_RM  Street_Pave  \\\n",
       "0            0            0            1            0            1   \n",
       "\n",
       "   Alley_None  Alley_Pave  LotShape_IR2  LotShape_IR3  LotShape_Reg  \\\n",
       "0           1           0             0             0             1   \n",
       "\n",
       "   LandContour_HLS  LandContour_Low  LandContour_Lvl  Utilities_NoSeWa  \\\n",
       "0                0                0                1                 0   \n",
       "\n",
       "   LotConfig_CulDSac  LotConfig_FR2  LotConfig_FR3  LotConfig_Inside  \\\n",
       "0                  0              0              0                 1   \n",
       "\n",
       "   LandSlope_Mod  LandSlope_Sev  Neighborhood_Blueste  Neighborhood_BrDale  \\\n",
       "0              0              0                     0                    0   \n",
       "\n",
       "   Neighborhood_BrkSide  Neighborhood_ClearCr  Neighborhood_CollgCr  \\\n",
       "0                     0                     0                     1   \n",
       "\n",
       "   Neighborhood_Crawfor  Neighborhood_Edwards  Neighborhood_Gilbert  \\\n",
       "0                     0                     0                     0   \n",
       "\n",
       "   Neighborhood_IDOTRR  Neighborhood_MeadowV  Neighborhood_Mitchel  \\\n",
       "0                    0                     0                     0   \n",
       "\n",
       "   Neighborhood_NAmes  Neighborhood_NPkVill  Neighborhood_NWAmes  \\\n",
       "0                   0                     0                    0   \n",
       "\n",
       "   Neighborhood_NoRidge  Neighborhood_NridgHt  Neighborhood_OldTown  \\\n",
       "0                     0                     0                     0   \n",
       "\n",
       "   Neighborhood_SWISU  Neighborhood_Sawyer  Neighborhood_SawyerW  \\\n",
       "0                   0                    0                     0   \n",
       "\n",
       "   Neighborhood_Somerst  Neighborhood_StoneBr  Neighborhood_Timber  \\\n",
       "0                     0                     0                    0   \n",
       "\n",
       "   Neighborhood_Veenker  Condition1_Feedr  Condition1_Norm  Condition1_PosA  \\\n",
       "0                     0                 0                1                0   \n",
       "\n",
       "   Condition1_PosN  Condition1_RRAe  Condition1_RRAn  Condition1_RRNe  \\\n",
       "0                0                0                0                0   \n",
       "\n",
       "   Condition1_RRNn  Condition2_Feedr  Condition2_Norm  Condition2_PosA  \\\n",
       "0                0                 0                1                0   \n",
       "\n",
       "   Condition2_PosN  Condition2_RRAe  Condition2_RRAn  Condition2_RRNn  \\\n",
       "0                0                0                0                0   \n",
       "\n",
       "   BldgType_2fmCon  BldgType_Duplex  BldgType_Twnhs  BldgType_TwnhsE  \\\n",
       "0                0                0               0                0   \n",
       "\n",
       "   HouseStyle_1.5Unf  HouseStyle_1Story  HouseStyle_2.5Fin  HouseStyle_2.5Unf  \\\n",
       "0                  0                  0                  0                  0   \n",
       "\n",
       "   HouseStyle_2Story  HouseStyle_SFoyer  HouseStyle_SLvl  RoofStyle_Gable  \\\n",
       "0                  1                  0                0                1   \n",
       "\n",
       "   RoofStyle_Gambrel  RoofStyle_Hip  RoofStyle_Mansard  RoofStyle_Shed  \\\n",
       "0                  0              0                  0               0   \n",
       "\n",
       "   RoofMatl_CompShg  RoofMatl_Membran  RoofMatl_Metal  RoofMatl_Roll  \\\n",
       "0                 1                 0               0              0   \n",
       "\n",
       "   RoofMatl_Tar&Grv  RoofMatl_WdShake  RoofMatl_WdShngl  Exterior1st_AsphShn  \\\n",
       "0                 0                 0                 0                    0   \n",
       "\n",
       "   Exterior1st_BrkComm  Exterior1st_BrkFace  Exterior1st_CBlock  \\\n",
       "0                    0                    0                   0   \n",
       "\n",
       "   Exterior1st_CemntBd  Exterior1st_HdBoard  Exterior1st_ImStucc  \\\n",
       "0                    0                    0                    0   \n",
       "\n",
       "   Exterior1st_MetalSd  Exterior1st_Plywood  Exterior1st_Stone  \\\n",
       "0                    0                    0                  0   \n",
       "\n",
       "   Exterior1st_Stucco  Exterior1st_VinylSd  Exterior1st_Wd Sdng  \\\n",
       "0                   0                    1                    0   \n",
       "\n",
       "   Exterior1st_WdShing  Exterior2nd_AsphShn  Exterior2nd_Brk Cmn  \\\n",
       "0                    0                    0                    0   \n",
       "\n",
       "   Exterior2nd_BrkFace  Exterior2nd_CBlock  Exterior2nd_CmentBd  \\\n",
       "0                    0                   0                    0   \n",
       "\n",
       "   Exterior2nd_HdBoard  Exterior2nd_ImStucc  Exterior2nd_MetalSd  \\\n",
       "0                    0                    0                    0   \n",
       "\n",
       "   Exterior2nd_Other  Exterior2nd_Plywood  Exterior2nd_Stone  \\\n",
       "0                  0                    0                  0   \n",
       "\n",
       "   Exterior2nd_Stucco  Exterior2nd_VinylSd  Exterior2nd_Wd Sdng  \\\n",
       "0                   0                    1                    0   \n",
       "\n",
       "   Exterior2nd_Wd Shng  MasVnrType_BrkFace  MasVnrType_None  MasVnrType_Stone  \\\n",
       "0                    0                   1                0                 0   \n",
       "\n",
       "   ExterQual_Fa  ExterQual_Gd  ExterQual_TA  ExterCond_Fa  ExterCond_Gd  \\\n",
       "0             0             1             0             0             0   \n",
       "\n",
       "   ExterCond_Po  ExterCond_TA  Foundation_CBlock  Foundation_PConc  \\\n",
       "0             0             1                  0                 1   \n",
       "\n",
       "   Foundation_Slab  Foundation_Stone  Foundation_Wood  BsmtQual_Fa  \\\n",
       "0                0                 0                0            0   \n",
       "\n",
       "   BsmtQual_Gd  BsmtQual_None  BsmtQual_TA  BsmtCond_Gd  BsmtCond_None  \\\n",
       "0            1              0            0            0              0   \n",
       "\n",
       "   BsmtCond_Po  BsmtCond_TA  BsmtExposure_Gd  BsmtExposure_Mn  \\\n",
       "0            0            1                0                0   \n",
       "\n",
       "   BsmtExposure_No  BsmtExposure_None  BsmtFinType1_BLQ  BsmtFinType1_GLQ  \\\n",
       "0                1                  0                 0                 1   \n",
       "\n",
       "   BsmtFinType1_LwQ  BsmtFinType1_None  BsmtFinType1_Rec  BsmtFinType1_Unf  \\\n",
       "0                 0                  0                 0                 0   \n",
       "\n",
       "   BsmtFinType2_BLQ  BsmtFinType2_GLQ  BsmtFinType2_LwQ  BsmtFinType2_None  \\\n",
       "0                 0                 0                 0                  0   \n",
       "\n",
       "   BsmtFinType2_Rec  BsmtFinType2_Unf  Heating_GasA  Heating_GasW  \\\n",
       "0                 0                 1             1             0   \n",
       "\n",
       "   Heating_Grav  Heating_OthW  Heating_Wall  HeatingQC_Fa  HeatingQC_Gd  \\\n",
       "0             0             0             0             0             0   \n",
       "\n",
       "   HeatingQC_Po  HeatingQC_TA  CentralAir_Y  Electrical_FuseF  \\\n",
       "0             0             0             1                 0   \n",
       "\n",
       "   Electrical_FuseP  Electrical_Mix  Electrical_SBrkr  KitchenQual_Fa  \\\n",
       "0                 0               0                 1               0   \n",
       "\n",
       "   KitchenQual_Gd  KitchenQual_TA  Functional_Maj2  Functional_Min1  \\\n",
       "0               1               0                0                0   \n",
       "\n",
       "   Functional_Min2  Functional_Mod  Functional_Sev  Functional_Typ  \\\n",
       "0                0               0               0               1   \n",
       "\n",
       "   FireplaceQu_Fa  FireplaceQu_Gd  FireplaceQu_None  FireplaceQu_Po  \\\n",
       "0               0               0                 1               0   \n",
       "\n",
       "   FireplaceQu_TA  GarageType_Attchd  GarageType_Basment  GarageType_BuiltIn  \\\n",
       "0               0                  1                   0                   0   \n",
       "\n",
       "   GarageType_CarPort  GarageType_Detchd  GarageType_None  GarageFinish_None  \\\n",
       "0                   0                  0                0                  0   \n",
       "\n",
       "   GarageFinish_RFn  GarageFinish_Unf  GarageQual_Fa  GarageQual_Gd  \\\n",
       "0                 1                 0              0              0   \n",
       "\n",
       "   GarageQual_None  GarageQual_Po  GarageQual_TA  GarageCond_Fa  \\\n",
       "0                0              0              1              0   \n",
       "\n",
       "   GarageCond_Gd  GarageCond_None  GarageCond_Po  GarageCond_TA  PavedDrive_P  \\\n",
       "0              0                0              0              1             0   \n",
       "\n",
       "   PavedDrive_Y  PoolQC_Fa  PoolQC_Gd  PoolQC_None  Fence_GdWo  Fence_MnPrv  \\\n",
       "0             1          0          0            1           0            0   \n",
       "\n",
       "   Fence_MnWw  Fence_None  MiscFeature_None  MiscFeature_Othr  \\\n",
       "0           0           1                 1                 0   \n",
       "\n",
       "   MiscFeature_Shed  MiscFeature_TenC  SaleType_CWD  SaleType_Con  \\\n",
       "0                 0                 0             0             0   \n",
       "\n",
       "   SaleType_ConLD  SaleType_ConLI  SaleType_ConLw  SaleType_New  SaleType_Oth  \\\n",
       "0               0               0               0             0             0   \n",
       "\n",
       "   SaleType_WD  SaleCondition_AdjLand  SaleCondition_Alloca  \\\n",
       "0            1                      0                     0   \n",
       "\n",
       "   SaleCondition_Family  SaleCondition_Normal  SaleCondition_Partial  \n",
       "0                     0                     1                      0  "
      ]
     },
     "execution_count": 23,
     "metadata": {},
     "output_type": "execute_result"
    }
   ],
   "source": [
    "X.head(1)"
   ]
  },
  {
   "cell_type": "markdown",
   "metadata": {
    "colab_type": "text",
    "id": "1gTnQsfxjmXp"
   },
   "source": [
    "### Variance Threshold"
   ]
  },
  {
   "cell_type": "code",
   "execution_count": 29,
   "metadata": {
    "colab": {},
    "colab_type": "code",
    "id": "BUcArRHRjmXr"
   },
   "outputs": [],
   "source": [
    "# Create VarianceThreshold object with a variance with a threshold of 0.5\n",
    "def variance_threshold_selector(data, threshold=0.5):\n",
    "    selector = VarianceThreshold(threshold)\n",
    "    selector.fit(data)\n",
    "    return data[data.columns[selector.get_support(indices=True)]]\n"
   ]
  },
  {
   "cell_type": "code",
   "execution_count": 30,
   "metadata": {
    "colab": {
     "base_uri": "https://localhost:8080/",
     "height": 156
    },
    "colab_type": "code",
    "id": "3YK8KXQBjmXw",
    "outputId": "aafef418-16eb-4a28-d472-e4100db198be"
   },
   "outputs": [
    {
     "data": {
      "text/plain": [
       "Index(['MSSubClass', 'LotFrontage', 'LotArea', 'OverallQual', 'OverallCond',\n",
       "       'YearBuilt', 'YearRemodAdd', 'MasVnrArea', 'BsmtFinSF1', 'BsmtFinSF2',\n",
       "       'BsmtUnfSF', 'TotalBsmtSF', '1stFlrSF', '2ndFlrSF', 'LowQualFinSF',\n",
       "       'GrLivArea', 'BedroomAbvGr', 'TotRmsAbvGrd', 'GarageYrBlt',\n",
       "       'GarageCars', 'GarageArea', 'WoodDeckSF', 'OpenPorchSF',\n",
       "       'EnclosedPorch', '3SsnPorch', 'ScreenPorch', 'PoolArea', 'MiscVal',\n",
       "       'MoSold', 'YrSold'],\n",
       "      dtype='object')"
      ]
     },
     "execution_count": 30,
     "metadata": {},
     "output_type": "execute_result"
    }
   ],
   "source": [
    "variance_threshold_selector(X,0.5).columns"
   ]
  },
  {
   "cell_type": "code",
   "execution_count": 31,
   "metadata": {
    "colab": {
     "base_uri": "https://localhost:8080/",
     "height": 35
    },
    "colab_type": "code",
    "id": "YQzaL-ZkjmX3",
    "outputId": "d2bd447a-b352-4463-abdd-05729bd6ef65"
   },
   "outputs": [
    {
     "data": {
      "text/plain": [
       "30"
      ]
     },
     "execution_count": 31,
     "metadata": {},
     "output_type": "execute_result"
    }
   ],
   "source": [
    "variance_threshold_selector(X,0.5).shape[1]"
   ]
  },
  {
   "cell_type": "code",
   "execution_count": 32,
   "metadata": {
    "colab": {
     "base_uri": "https://localhost:8080/",
     "height": 156
    },
    "colab_type": "code",
    "id": "Vxjs34C7jmX9",
    "outputId": "c48fd02b-bad0-43b0-d2ce-c48948314671"
   },
   "outputs": [
    {
     "data": {
      "text/plain": [
       "Index(['MSSubClass', 'LotFrontage', 'LotArea', 'OverallQual', 'OverallCond',\n",
       "       'YearBuilt', 'YearRemodAdd', 'MasVnrArea', 'BsmtFinSF1', 'BsmtFinSF2',\n",
       "       'BsmtUnfSF', 'TotalBsmtSF', '1stFlrSF', '2ndFlrSF', 'LowQualFinSF',\n",
       "       'GrLivArea', 'FullBath', 'BedroomAbvGr', 'TotRmsAbvGrd', 'Fireplaces',\n",
       "       'GarageYrBlt', 'GarageCars', 'GarageArea', 'WoodDeckSF', 'OpenPorchSF',\n",
       "       'EnclosedPorch', '3SsnPorch', 'ScreenPorch', 'PoolArea', 'MiscVal',\n",
       "       'MoSold', 'YrSold'],\n",
       "      dtype='object')"
      ]
     },
     "execution_count": 32,
     "metadata": {},
     "output_type": "execute_result"
    }
   ],
   "source": [
    "variance_threshold_selector(X,0.3).columns"
   ]
  },
  {
   "cell_type": "code",
   "execution_count": 33,
   "metadata": {
    "colab": {
     "base_uri": "https://localhost:8080/",
     "height": 35
    },
    "colab_type": "code",
    "id": "WHp_mIdnjmYE",
    "outputId": "5ecab7a9-95d5-49db-c074-ccbc8b6b0253"
   },
   "outputs": [
    {
     "data": {
      "text/plain": [
       "32"
      ]
     },
     "execution_count": 33,
     "metadata": {},
     "output_type": "execute_result"
    }
   ],
   "source": [
    "variance_threshold_selector(X,0.3).shape[1]"
   ]
  },
  {
   "cell_type": "code",
   "execution_count": 34,
   "metadata": {
    "colab": {
     "base_uri": "https://localhost:8080/",
     "height": 399
    },
    "colab_type": "code",
    "id": "lk42AM3OjmYN",
    "outputId": "0d66b45a-0e72-455b-fd17-82eaf674dba1"
   },
   "outputs": [
    {
     "data": {
      "text/plain": [
       "Index(['MSSubClass', 'LotFrontage', 'LotArea', 'OverallQual', 'OverallCond',\n",
       "       'YearBuilt', 'YearRemodAdd', 'MasVnrArea', 'BsmtFinSF1', 'BsmtFinSF2',\n",
       "       'BsmtUnfSF', 'TotalBsmtSF', '1stFlrSF', '2ndFlrSF', 'LowQualFinSF',\n",
       "       'GrLivArea', 'BsmtFullBath', 'FullBath', 'HalfBath', 'BedroomAbvGr',\n",
       "       'TotRmsAbvGrd', 'Fireplaces', 'GarageYrBlt', 'GarageCars', 'GarageArea',\n",
       "       'WoodDeckSF', 'OpenPorchSF', 'EnclosedPorch', '3SsnPorch',\n",
       "       'ScreenPorch', 'PoolArea', 'MiscVal', 'MoSold', 'YrSold', 'MSZoning_RL',\n",
       "       'MSZoning_RM', 'LotShape_Reg', 'LotConfig_Inside', 'Neighborhood_NAmes',\n",
       "       'Condition1_Norm', 'HouseStyle_1Story', 'HouseStyle_2Story',\n",
       "       'RoofStyle_Gable', 'RoofStyle_Hip', 'Exterior1st_HdBoard',\n",
       "       'Exterior1st_MetalSd', 'Exterior1st_VinylSd', 'Exterior1st_Wd Sdng',\n",
       "       'Exterior2nd_HdBoard', 'Exterior2nd_MetalSd', 'Exterior2nd_VinylSd',\n",
       "       'Exterior2nd_Wd Sdng', 'MasVnrType_BrkFace', 'MasVnrType_None',\n",
       "       'ExterQual_Gd', 'ExterQual_TA', 'ExterCond_TA', 'Foundation_CBlock',\n",
       "       'Foundation_PConc', 'BsmtQual_Gd', 'BsmtQual_TA', 'BsmtExposure_No',\n",
       "       'BsmtFinType1_GLQ', 'BsmtFinType1_Unf', 'BsmtFinType2_Unf',\n",
       "       'HeatingQC_Gd', 'HeatingQC_TA', 'KitchenQual_Gd', 'KitchenQual_TA',\n",
       "       'FireplaceQu_Gd', 'FireplaceQu_None', 'FireplaceQu_TA',\n",
       "       'GarageType_Attchd', 'GarageType_Detchd', 'GarageFinish_RFn',\n",
       "       'GarageFinish_Unf', 'Fence_None', 'SaleType_WD',\n",
       "       'SaleCondition_Normal'],\n",
       "      dtype='object')"
      ]
     },
     "execution_count": 34,
     "metadata": {},
     "output_type": "execute_result"
    }
   ],
   "source": [
    "variance_threshold_selector(X,0.1).columns"
   ]
  },
  {
   "cell_type": "code",
   "execution_count": 35,
   "metadata": {
    "colab": {
     "base_uri": "https://localhost:8080/",
     "height": 35
    },
    "colab_type": "code",
    "id": "8qkaoM3LjmYY",
    "outputId": "d7488ce4-889b-470b-ac32-fc688bd143cd"
   },
   "outputs": [
    {
     "data": {
      "text/plain": [
       "79"
      ]
     },
     "execution_count": 35,
     "metadata": {},
     "output_type": "execute_result"
    }
   ],
   "source": [
    "variance_threshold_selector(X,0.1).shape[1]"
   ]
  },
  {
   "cell_type": "markdown",
   "metadata": {
    "colab_type": "text",
    "id": "e1a-GbgEklRF"
   },
   "source": [
    "Changing Threshold has an impact on feature selection. When threshold is 0.3 or 0.5, the difference of resulted feature wasn't obvious. Threshold as 0.1  siginifcantly increases the number of features included. Threshold 0.1 is chosen in this project, to retain the most of information from the orginal dataset.  "
   ]
  },
  {
   "cell_type": "code",
   "execution_count": 36,
   "metadata": {
    "colab": {},
    "colab_type": "code",
    "id": "egV3ImFwjmYd"
   },
   "outputs": [],
   "source": [
    "#Let us use 0.1 to keep the most information.\n",
    "cols=variance_threshold_selector(X,0.1).columns"
   ]
  },
  {
   "cell_type": "code",
   "execution_count": 37,
   "metadata": {
    "colab": {},
    "colab_type": "code",
    "id": "VHaYOtimjmYl"
   },
   "outputs": [],
   "source": [
    "X_orig=X"
   ]
  },
  {
   "cell_type": "code",
   "execution_count": 38,
   "metadata": {
    "colab": {},
    "colab_type": "code",
    "id": "z_4X1vZEjmYt"
   },
   "outputs": [],
   "source": [
    "X_after=X[cols]"
   ]
  },
  {
   "cell_type": "markdown",
   "metadata": {
    "colab_type": "text",
    "id": "9Pm7IC-fjmY9"
   },
   "source": [
    "### Linear Regression "
   ]
  },
  {
   "cell_type": "code",
   "execution_count": 0,
   "metadata": {
    "colab": {},
    "colab_type": "code",
    "id": "d3HXhJSc9ymo"
   },
   "outputs": [],
   "source": [
    "from sklearn.model_selection import train_test_split\n",
    "from sklearn.linear_model import LinearRegression\n",
    "from sklearn.linear_model import Ridge\n"
   ]
  },
  {
   "cell_type": "code",
   "execution_count": 0,
   "metadata": {
    "colab": {},
    "colab_type": "code",
    "id": "lDzg6DnFjmY_"
   },
   "outputs": [],
   "source": [
    "#orginial dataset \n",
    "\n",
    "X_train,X_test,y_train,y_test=train_test_split(X_orig,Y,test_size=0.3,random_state=3)"
   ]
  },
  {
   "cell_type": "code",
   "execution_count": 0,
   "metadata": {
    "colab": {},
    "colab_type": "code",
    "id": "cTsftRCmjmZJ"
   },
   "outputs": [],
   "source": [
    "lr = LinearRegression()\n",
    "lr.fit(X_train, y_train)\n",
    "#R-square of the linear regression on training dataset\n",
    "orig_lr_rs=lr.score(X_train,y_train)\n",
    "\n",
    "#R-square of the linear regression on test dataset\n",
    "orig_lr_trs=lr.score(X_test,y_test)\n",
    "from sklearn.metrics import mean_squared_log_error\n",
    "#Prediction result \n",
    "orig_lr_msle=mean_squared_log_error(y_test, lr.predict(X_test))  "
   ]
  },
  {
   "cell_type": "code",
   "execution_count": 0,
   "metadata": {
    "colab": {},
    "colab_type": "code",
    "id": "SLipQ80bjmZQ"
   },
   "outputs": [],
   "source": [
    "# the dataset after variance threshold selection \n",
    "\n",
    "X_train,X_test,y_train,y_test=train_test_split(X_after,Y,test_size=0.3,random_state=3)"
   ]
  },
  {
   "cell_type": "code",
   "execution_count": 0,
   "metadata": {
    "colab": {},
    "colab_type": "code",
    "id": "HjB1E1RsluAo"
   },
   "outputs": [],
   "source": [
    "lr = LinearRegression()\n",
    "lr.fit(X_train, y_train)\n",
    "#R-square of the linear regression on training dataset\n",
    "var_lr_rs=lr.score(X_train,y_train)\n",
    "\n",
    "#R-square of the linear regression on test dataset\n",
    "var_lr_trs=lr.score(X_test,y_test)\n",
    "from sklearn.metrics import mean_squared_log_error\n",
    "#Prediction result \n",
    "var_lr_msle=mean_squared_log_error(y_test, lr.predict(X_test))  "
   ]
  },
  {
   "cell_type": "markdown",
   "metadata": {
    "colab_type": "text",
    "id": "f9hlVeSUl_vQ"
   },
   "source": [
    "### Interacting Term"
   ]
  },
  {
   "cell_type": "code",
   "execution_count": 0,
   "metadata": {
    "colab": {},
    "colab_type": "code",
    "id": "7mTFULQmmCgf"
   },
   "outputs": [],
   "source": [
    "#Add one interacting term and check its effect on model improvement. \n",
    "X_int=X_orig.copy()\n",
    "X_int[\"Quality*Condition\"]=X_int[\"OverallQual\"]*X_int[\"OverallCond\"]"
   ]
  },
  {
   "cell_type": "code",
   "execution_count": 0,
   "metadata": {
    "colab": {},
    "colab_type": "code",
    "id": "gsC8Cc4DmlET"
   },
   "outputs": [],
   "source": [
    "X_train,X_test,y_train,y_test=train_test_split(X_int,Y,test_size=0.3,random_state=3)"
   ]
  },
  {
   "cell_type": "code",
   "execution_count": 42,
   "metadata": {
    "colab": {
     "base_uri": "https://localhost:8080/",
     "height": 35
    },
    "colab_type": "code",
    "id": "3BUjFRA9moGx",
    "outputId": "1f8afedb-c90c-48b1-b98d-a7be26d29316"
   },
   "outputs": [
    {
     "data": {
      "text/plain": [
       "LinearRegression(copy_X=True, fit_intercept=True, n_jobs=None, normalize=False)"
      ]
     },
     "execution_count": 42,
     "metadata": {
      "tags": []
     },
     "output_type": "execute_result"
    }
   ],
   "source": [
    "lr = LinearRegression()\n",
    "lr.fit(X_train, y_train)"
   ]
  },
  {
   "cell_type": "code",
   "execution_count": 0,
   "metadata": {
    "colab": {},
    "colab_type": "code",
    "id": "HrZ0K94XmoOf"
   },
   "outputs": [],
   "source": [
    "#R-square of the linear regression on training dataset with interacting term \n",
    "int_lr_rs=lr.score(X_train,y_train)\n",
    "#R-square of the linear regression on test dataset with interacting term \n",
    "int_lr_trs=lr.score(X_test,y_test)\n",
    "\n",
    "#Prediction result \n",
    "int_lr_msle=mean_squared_log_error(y_test, lr.predict(X_test))  "
   ]
  },
  {
   "cell_type": "code",
   "execution_count": 44,
   "metadata": {
    "colab": {
     "base_uri": "https://localhost:8080/",
     "height": 35
    },
    "colab_type": "code",
    "id": "omYADwsFoBnV",
    "outputId": "131789e8-8055-468a-fdb8-21d07eb9272c"
   },
   "outputs": [
    {
     "data": {
      "text/plain": [
       "[0.9530193196999682, 0.9531932507787634]"
      ]
     },
     "execution_count": 44,
     "metadata": {
      "tags": []
     },
     "output_type": "execute_result"
    }
   ],
   "source": [
    "[orig_lr_rs,int_lr_rs]  "
   ]
  },
  {
   "cell_type": "code",
   "execution_count": 45,
   "metadata": {
    "colab": {
     "base_uri": "https://localhost:8080/",
     "height": 35
    },
    "colab_type": "code",
    "id": "jiG7QaOfoI1D",
    "outputId": "ebca5ecb-8bec-4a70-be76-9b9933917943"
   },
   "outputs": [
    {
     "data": {
      "text/plain": [
       "[0.7811746426189593, 0.7830556047170047]"
      ]
     },
     "execution_count": 45,
     "metadata": {
      "tags": []
     },
     "output_type": "execute_result"
    }
   ],
   "source": [
    "[orig_lr_trs,int_lr_trs]  #increase test R square with the interacting term "
   ]
  },
  {
   "cell_type": "code",
   "execution_count": 46,
   "metadata": {
    "colab": {
     "base_uri": "https://localhost:8080/",
     "height": 35
    },
    "colab_type": "code",
    "id": "hSA3N2DpqhM5",
    "outputId": "b436f610-0fe6-4bfe-9c27-d67edeb6729c"
   },
   "outputs": [
    {
     "data": {
      "text/plain": [
       "[0.02844966760572892, 0.027567238095728558]"
      ]
     },
     "execution_count": 46,
     "metadata": {
      "tags": []
     },
     "output_type": "execute_result"
    }
   ],
   "source": [
    "[orig_lr_msle,int_lr_msle] "
   ]
  },
  {
   "cell_type": "markdown",
   "metadata": {
    "colab_type": "text",
    "id": "UUMAp5lroo2V"
   },
   "source": [
    "original dataset has a higher mean square log error. The interacting term helped with prediction result. "
   ]
  },
  {
   "cell_type": "markdown",
   "metadata": {
    "colab_type": "text",
    "id": "N39R2mD_jmdo"
   },
   "source": [
    "### Pearson Correlation"
   ]
  },
  {
   "cell_type": "code",
   "execution_count": 0,
   "metadata": {
    "colab": {},
    "colab_type": "code",
    "id": "gkf3LV00jmdp"
   },
   "outputs": [],
   "source": [
    "#Keep using the orginal dataset, the one after variance threshold selection. \n",
    "df=X_orig.copy()"
   ]
  },
  {
   "cell_type": "code",
   "execution_count": 0,
   "metadata": {
    "colab": {},
    "colab_type": "code",
    "id": "PUhaRODwjmdt"
   },
   "outputs": [],
   "source": [
    "df=pd.concat([df,Y],axis=1)"
   ]
  },
  {
   "cell_type": "code",
   "execution_count": 49,
   "metadata": {
    "colab": {
     "base_uri": "https://localhost:8080/",
     "height": 117
    },
    "colab_type": "code",
    "id": "FIQzecrTrk8A",
    "outputId": "304025bd-548e-4999-a074-21ff2bf46533"
   },
   "outputs": [
    {
     "data": {
      "text/html": [
       "<div>\n",
       "<style scoped>\n",
       "    .dataframe tbody tr th:only-of-type {\n",
       "        vertical-align: middle;\n",
       "    }\n",
       "\n",
       "    .dataframe tbody tr th {\n",
       "        vertical-align: top;\n",
       "    }\n",
       "\n",
       "    .dataframe thead th {\n",
       "        text-align: right;\n",
       "    }\n",
       "</style>\n",
       "<table border=\"1\" class=\"dataframe\">\n",
       "  <thead>\n",
       "    <tr style=\"text-align: right;\">\n",
       "      <th></th>\n",
       "      <th>MSSubClass</th>\n",
       "      <th>LotFrontage</th>\n",
       "      <th>LotArea</th>\n",
       "      <th>OverallQual</th>\n",
       "      <th>OverallCond</th>\n",
       "      <th>YearBuilt</th>\n",
       "      <th>YearRemodAdd</th>\n",
       "      <th>MasVnrArea</th>\n",
       "      <th>BsmtFinSF1</th>\n",
       "      <th>BsmtFinSF2</th>\n",
       "      <th>BsmtUnfSF</th>\n",
       "      <th>TotalBsmtSF</th>\n",
       "      <th>1stFlrSF</th>\n",
       "      <th>2ndFlrSF</th>\n",
       "      <th>LowQualFinSF</th>\n",
       "      <th>GrLivArea</th>\n",
       "      <th>BsmtFullBath</th>\n",
       "      <th>BsmtHalfBath</th>\n",
       "      <th>FullBath</th>\n",
       "      <th>HalfBath</th>\n",
       "      <th>BedroomAbvGr</th>\n",
       "      <th>KitchenAbvGr</th>\n",
       "      <th>TotRmsAbvGrd</th>\n",
       "      <th>Fireplaces</th>\n",
       "      <th>GarageYrBlt</th>\n",
       "      <th>GarageCars</th>\n",
       "      <th>GarageArea</th>\n",
       "      <th>WoodDeckSF</th>\n",
       "      <th>OpenPorchSF</th>\n",
       "      <th>EnclosedPorch</th>\n",
       "      <th>3SsnPorch</th>\n",
       "      <th>ScreenPorch</th>\n",
       "      <th>PoolArea</th>\n",
       "      <th>MiscVal</th>\n",
       "      <th>MoSold</th>\n",
       "      <th>YrSold</th>\n",
       "      <th>MSZoning_FV</th>\n",
       "      <th>MSZoning_RH</th>\n",
       "      <th>MSZoning_RL</th>\n",
       "      <th>MSZoning_RM</th>\n",
       "      <th>Street_Pave</th>\n",
       "      <th>Alley_None</th>\n",
       "      <th>Alley_Pave</th>\n",
       "      <th>LotShape_IR2</th>\n",
       "      <th>LotShape_IR3</th>\n",
       "      <th>LotShape_Reg</th>\n",
       "      <th>LandContour_HLS</th>\n",
       "      <th>LandContour_Low</th>\n",
       "      <th>LandContour_Lvl</th>\n",
       "      <th>Utilities_NoSeWa</th>\n",
       "      <th>LotConfig_CulDSac</th>\n",
       "      <th>LotConfig_FR2</th>\n",
       "      <th>LotConfig_FR3</th>\n",
       "      <th>LotConfig_Inside</th>\n",
       "      <th>LandSlope_Mod</th>\n",
       "      <th>LandSlope_Sev</th>\n",
       "      <th>Neighborhood_Blueste</th>\n",
       "      <th>Neighborhood_BrDale</th>\n",
       "      <th>Neighborhood_BrkSide</th>\n",
       "      <th>Neighborhood_ClearCr</th>\n",
       "      <th>Neighborhood_CollgCr</th>\n",
       "      <th>Neighborhood_Crawfor</th>\n",
       "      <th>Neighborhood_Edwards</th>\n",
       "      <th>Neighborhood_Gilbert</th>\n",
       "      <th>Neighborhood_IDOTRR</th>\n",
       "      <th>Neighborhood_MeadowV</th>\n",
       "      <th>Neighborhood_Mitchel</th>\n",
       "      <th>Neighborhood_NAmes</th>\n",
       "      <th>Neighborhood_NPkVill</th>\n",
       "      <th>Neighborhood_NWAmes</th>\n",
       "      <th>Neighborhood_NoRidge</th>\n",
       "      <th>Neighborhood_NridgHt</th>\n",
       "      <th>Neighborhood_OldTown</th>\n",
       "      <th>Neighborhood_SWISU</th>\n",
       "      <th>Neighborhood_Sawyer</th>\n",
       "      <th>Neighborhood_SawyerW</th>\n",
       "      <th>Neighborhood_Somerst</th>\n",
       "      <th>Neighborhood_StoneBr</th>\n",
       "      <th>Neighborhood_Timber</th>\n",
       "      <th>Neighborhood_Veenker</th>\n",
       "      <th>Condition1_Feedr</th>\n",
       "      <th>Condition1_Norm</th>\n",
       "      <th>Condition1_PosA</th>\n",
       "      <th>Condition1_PosN</th>\n",
       "      <th>Condition1_RRAe</th>\n",
       "      <th>Condition1_RRAn</th>\n",
       "      <th>Condition1_RRNe</th>\n",
       "      <th>Condition1_RRNn</th>\n",
       "      <th>Condition2_Feedr</th>\n",
       "      <th>Condition2_Norm</th>\n",
       "      <th>Condition2_PosA</th>\n",
       "      <th>Condition2_PosN</th>\n",
       "      <th>Condition2_RRAe</th>\n",
       "      <th>Condition2_RRAn</th>\n",
       "      <th>Condition2_RRNn</th>\n",
       "      <th>BldgType_2fmCon</th>\n",
       "      <th>BldgType_Duplex</th>\n",
       "      <th>BldgType_Twnhs</th>\n",
       "      <th>BldgType_TwnhsE</th>\n",
       "      <th>HouseStyle_1.5Unf</th>\n",
       "      <th>HouseStyle_1Story</th>\n",
       "      <th>HouseStyle_2.5Fin</th>\n",
       "      <th>HouseStyle_2.5Unf</th>\n",
       "      <th>HouseStyle_2Story</th>\n",
       "      <th>HouseStyle_SFoyer</th>\n",
       "      <th>HouseStyle_SLvl</th>\n",
       "      <th>RoofStyle_Gable</th>\n",
       "      <th>RoofStyle_Gambrel</th>\n",
       "      <th>RoofStyle_Hip</th>\n",
       "      <th>RoofStyle_Mansard</th>\n",
       "      <th>RoofStyle_Shed</th>\n",
       "      <th>RoofMatl_CompShg</th>\n",
       "      <th>RoofMatl_Membran</th>\n",
       "      <th>RoofMatl_Metal</th>\n",
       "      <th>RoofMatl_Roll</th>\n",
       "      <th>RoofMatl_Tar&amp;Grv</th>\n",
       "      <th>RoofMatl_WdShake</th>\n",
       "      <th>RoofMatl_WdShngl</th>\n",
       "      <th>Exterior1st_AsphShn</th>\n",
       "      <th>Exterior1st_BrkComm</th>\n",
       "      <th>Exterior1st_BrkFace</th>\n",
       "      <th>Exterior1st_CBlock</th>\n",
       "      <th>Exterior1st_CemntBd</th>\n",
       "      <th>Exterior1st_HdBoard</th>\n",
       "      <th>Exterior1st_ImStucc</th>\n",
       "      <th>Exterior1st_MetalSd</th>\n",
       "      <th>Exterior1st_Plywood</th>\n",
       "      <th>Exterior1st_Stone</th>\n",
       "      <th>Exterior1st_Stucco</th>\n",
       "      <th>Exterior1st_VinylSd</th>\n",
       "      <th>Exterior1st_Wd Sdng</th>\n",
       "      <th>Exterior1st_WdShing</th>\n",
       "      <th>Exterior2nd_AsphShn</th>\n",
       "      <th>Exterior2nd_Brk Cmn</th>\n",
       "      <th>Exterior2nd_BrkFace</th>\n",
       "      <th>Exterior2nd_CBlock</th>\n",
       "      <th>Exterior2nd_CmentBd</th>\n",
       "      <th>Exterior2nd_HdBoard</th>\n",
       "      <th>Exterior2nd_ImStucc</th>\n",
       "      <th>Exterior2nd_MetalSd</th>\n",
       "      <th>Exterior2nd_Other</th>\n",
       "      <th>Exterior2nd_Plywood</th>\n",
       "      <th>Exterior2nd_Stone</th>\n",
       "      <th>Exterior2nd_Stucco</th>\n",
       "      <th>Exterior2nd_VinylSd</th>\n",
       "      <th>Exterior2nd_Wd Sdng</th>\n",
       "      <th>Exterior2nd_Wd Shng</th>\n",
       "      <th>MasVnrType_BrkFace</th>\n",
       "      <th>MasVnrType_None</th>\n",
       "      <th>MasVnrType_Stone</th>\n",
       "      <th>ExterQual_Fa</th>\n",
       "      <th>ExterQual_Gd</th>\n",
       "      <th>ExterQual_TA</th>\n",
       "      <th>ExterCond_Fa</th>\n",
       "      <th>ExterCond_Gd</th>\n",
       "      <th>ExterCond_Po</th>\n",
       "      <th>ExterCond_TA</th>\n",
       "      <th>Foundation_CBlock</th>\n",
       "      <th>Foundation_PConc</th>\n",
       "      <th>Foundation_Slab</th>\n",
       "      <th>Foundation_Stone</th>\n",
       "      <th>Foundation_Wood</th>\n",
       "      <th>BsmtQual_Fa</th>\n",
       "      <th>BsmtQual_Gd</th>\n",
       "      <th>BsmtQual_None</th>\n",
       "      <th>BsmtQual_TA</th>\n",
       "      <th>BsmtCond_Gd</th>\n",
       "      <th>BsmtCond_None</th>\n",
       "      <th>BsmtCond_Po</th>\n",
       "      <th>BsmtCond_TA</th>\n",
       "      <th>BsmtExposure_Gd</th>\n",
       "      <th>BsmtExposure_Mn</th>\n",
       "      <th>BsmtExposure_No</th>\n",
       "      <th>BsmtExposure_None</th>\n",
       "      <th>BsmtFinType1_BLQ</th>\n",
       "      <th>BsmtFinType1_GLQ</th>\n",
       "      <th>BsmtFinType1_LwQ</th>\n",
       "      <th>BsmtFinType1_None</th>\n",
       "      <th>BsmtFinType1_Rec</th>\n",
       "      <th>BsmtFinType1_Unf</th>\n",
       "      <th>BsmtFinType2_BLQ</th>\n",
       "      <th>BsmtFinType2_GLQ</th>\n",
       "      <th>BsmtFinType2_LwQ</th>\n",
       "      <th>BsmtFinType2_None</th>\n",
       "      <th>BsmtFinType2_Rec</th>\n",
       "      <th>BsmtFinType2_Unf</th>\n",
       "      <th>Heating_GasA</th>\n",
       "      <th>Heating_GasW</th>\n",
       "      <th>Heating_Grav</th>\n",
       "      <th>Heating_OthW</th>\n",
       "      <th>Heating_Wall</th>\n",
       "      <th>HeatingQC_Fa</th>\n",
       "      <th>HeatingQC_Gd</th>\n",
       "      <th>HeatingQC_Po</th>\n",
       "      <th>HeatingQC_TA</th>\n",
       "      <th>CentralAir_Y</th>\n",
       "      <th>Electrical_FuseF</th>\n",
       "      <th>Electrical_FuseP</th>\n",
       "      <th>Electrical_Mix</th>\n",
       "      <th>Electrical_SBrkr</th>\n",
       "      <th>KitchenQual_Fa</th>\n",
       "      <th>KitchenQual_Gd</th>\n",
       "      <th>KitchenQual_TA</th>\n",
       "      <th>Functional_Maj2</th>\n",
       "      <th>Functional_Min1</th>\n",
       "      <th>Functional_Min2</th>\n",
       "      <th>Functional_Mod</th>\n",
       "      <th>Functional_Sev</th>\n",
       "      <th>Functional_Typ</th>\n",
       "      <th>FireplaceQu_Fa</th>\n",
       "      <th>FireplaceQu_Gd</th>\n",
       "      <th>FireplaceQu_None</th>\n",
       "      <th>FireplaceQu_Po</th>\n",
       "      <th>FireplaceQu_TA</th>\n",
       "      <th>GarageType_Attchd</th>\n",
       "      <th>GarageType_Basment</th>\n",
       "      <th>GarageType_BuiltIn</th>\n",
       "      <th>GarageType_CarPort</th>\n",
       "      <th>GarageType_Detchd</th>\n",
       "      <th>GarageType_None</th>\n",
       "      <th>GarageFinish_None</th>\n",
       "      <th>GarageFinish_RFn</th>\n",
       "      <th>GarageFinish_Unf</th>\n",
       "      <th>GarageQual_Fa</th>\n",
       "      <th>GarageQual_Gd</th>\n",
       "      <th>GarageQual_None</th>\n",
       "      <th>GarageQual_Po</th>\n",
       "      <th>GarageQual_TA</th>\n",
       "      <th>GarageCond_Fa</th>\n",
       "      <th>GarageCond_Gd</th>\n",
       "      <th>GarageCond_None</th>\n",
       "      <th>GarageCond_Po</th>\n",
       "      <th>GarageCond_TA</th>\n",
       "      <th>PavedDrive_P</th>\n",
       "      <th>PavedDrive_Y</th>\n",
       "      <th>PoolQC_Fa</th>\n",
       "      <th>PoolQC_Gd</th>\n",
       "      <th>PoolQC_None</th>\n",
       "      <th>Fence_GdWo</th>\n",
       "      <th>Fence_MnPrv</th>\n",
       "      <th>Fence_MnWw</th>\n",
       "      <th>Fence_None</th>\n",
       "      <th>MiscFeature_None</th>\n",
       "      <th>MiscFeature_Othr</th>\n",
       "      <th>MiscFeature_Shed</th>\n",
       "      <th>MiscFeature_TenC</th>\n",
       "      <th>SaleType_CWD</th>\n",
       "      <th>SaleType_Con</th>\n",
       "      <th>SaleType_ConLD</th>\n",
       "      <th>SaleType_ConLI</th>\n",
       "      <th>SaleType_ConLw</th>\n",
       "      <th>SaleType_New</th>\n",
       "      <th>SaleType_Oth</th>\n",
       "      <th>SaleType_WD</th>\n",
       "      <th>SaleCondition_AdjLand</th>\n",
       "      <th>SaleCondition_Alloca</th>\n",
       "      <th>SaleCondition_Family</th>\n",
       "      <th>SaleCondition_Normal</th>\n",
       "      <th>SaleCondition_Partial</th>\n",
       "      <th>SalePrice</th>\n",
       "    </tr>\n",
       "  </thead>\n",
       "  <tbody>\n",
       "    <tr>\n",
       "      <th>0</th>\n",
       "      <td>60</td>\n",
       "      <td>65.0</td>\n",
       "      <td>8450</td>\n",
       "      <td>7</td>\n",
       "      <td>5</td>\n",
       "      <td>2003</td>\n",
       "      <td>2003</td>\n",
       "      <td>196.0</td>\n",
       "      <td>706</td>\n",
       "      <td>0</td>\n",
       "      <td>150</td>\n",
       "      <td>856</td>\n",
       "      <td>856</td>\n",
       "      <td>854</td>\n",
       "      <td>0</td>\n",
       "      <td>1710</td>\n",
       "      <td>1</td>\n",
       "      <td>0</td>\n",
       "      <td>2</td>\n",
       "      <td>1</td>\n",
       "      <td>3</td>\n",
       "      <td>1</td>\n",
       "      <td>8</td>\n",
       "      <td>0</td>\n",
       "      <td>2003.0</td>\n",
       "      <td>2</td>\n",
       "      <td>548</td>\n",
       "      <td>0</td>\n",
       "      <td>61</td>\n",
       "      <td>0</td>\n",
       "      <td>0</td>\n",
       "      <td>0</td>\n",
       "      <td>0</td>\n",
       "      <td>0</td>\n",
       "      <td>2</td>\n",
       "      <td>2008</td>\n",
       "      <td>0</td>\n",
       "      <td>0</td>\n",
       "      <td>1</td>\n",
       "      <td>0</td>\n",
       "      <td>1</td>\n",
       "      <td>1</td>\n",
       "      <td>0</td>\n",
       "      <td>0</td>\n",
       "      <td>0</td>\n",
       "      <td>1</td>\n",
       "      <td>0</td>\n",
       "      <td>0</td>\n",
       "      <td>1</td>\n",
       "      <td>0</td>\n",
       "      <td>0</td>\n",
       "      <td>0</td>\n",
       "      <td>0</td>\n",
       "      <td>1</td>\n",
       "      <td>0</td>\n",
       "      <td>0</td>\n",
       "      <td>0</td>\n",
       "      <td>0</td>\n",
       "      <td>0</td>\n",
       "      <td>0</td>\n",
       "      <td>1</td>\n",
       "      <td>0</td>\n",
       "      <td>0</td>\n",
       "      <td>0</td>\n",
       "      <td>0</td>\n",
       "      <td>0</td>\n",
       "      <td>0</td>\n",
       "      <td>0</td>\n",
       "      <td>0</td>\n",
       "      <td>0</td>\n",
       "      <td>0</td>\n",
       "      <td>0</td>\n",
       "      <td>0</td>\n",
       "      <td>0</td>\n",
       "      <td>0</td>\n",
       "      <td>0</td>\n",
       "      <td>0</td>\n",
       "      <td>0</td>\n",
       "      <td>0</td>\n",
       "      <td>0</td>\n",
       "      <td>0</td>\n",
       "      <td>1</td>\n",
       "      <td>0</td>\n",
       "      <td>0</td>\n",
       "      <td>0</td>\n",
       "      <td>0</td>\n",
       "      <td>0</td>\n",
       "      <td>0</td>\n",
       "      <td>0</td>\n",
       "      <td>1</td>\n",
       "      <td>0</td>\n",
       "      <td>0</td>\n",
       "      <td>0</td>\n",
       "      <td>0</td>\n",
       "      <td>0</td>\n",
       "      <td>0</td>\n",
       "      <td>0</td>\n",
       "      <td>0</td>\n",
       "      <td>0</td>\n",
       "      <td>0</td>\n",
       "      <td>0</td>\n",
       "      <td>0</td>\n",
       "      <td>0</td>\n",
       "      <td>1</td>\n",
       "      <td>0</td>\n",
       "      <td>0</td>\n",
       "      <td>1</td>\n",
       "      <td>0</td>\n",
       "      <td>0</td>\n",
       "      <td>0</td>\n",
       "      <td>0</td>\n",
       "      <td>1</td>\n",
       "      <td>0</td>\n",
       "      <td>0</td>\n",
       "      <td>0</td>\n",
       "      <td>0</td>\n",
       "      <td>0</td>\n",
       "      <td>0</td>\n",
       "      <td>0</td>\n",
       "      <td>0</td>\n",
       "      <td>0</td>\n",
       "      <td>0</td>\n",
       "      <td>0</td>\n",
       "      <td>0</td>\n",
       "      <td>0</td>\n",
       "      <td>0</td>\n",
       "      <td>0</td>\n",
       "      <td>0</td>\n",
       "      <td>0</td>\n",
       "      <td>1</td>\n",
       "      <td>0</td>\n",
       "      <td>0</td>\n",
       "      <td>0</td>\n",
       "      <td>0</td>\n",
       "      <td>0</td>\n",
       "      <td>0</td>\n",
       "      <td>0</td>\n",
       "      <td>0</td>\n",
       "      <td>0</td>\n",
       "      <td>0</td>\n",
       "      <td>0</td>\n",
       "      <td>0</td>\n",
       "      <td>0</td>\n",
       "      <td>0</td>\n",
       "      <td>1</td>\n",
       "      <td>0</td>\n",
       "      <td>0</td>\n",
       "      <td>1</td>\n",
       "      <td>0</td>\n",
       "      <td>0</td>\n",
       "      <td>0</td>\n",
       "      <td>1</td>\n",
       "      <td>0</td>\n",
       "      <td>0</td>\n",
       "      <td>0</td>\n",
       "      <td>0</td>\n",
       "      <td>1</td>\n",
       "      <td>0</td>\n",
       "      <td>1</td>\n",
       "      <td>0</td>\n",
       "      <td>0</td>\n",
       "      <td>0</td>\n",
       "      <td>0</td>\n",
       "      <td>1</td>\n",
       "      <td>0</td>\n",
       "      <td>0</td>\n",
       "      <td>0</td>\n",
       "      <td>0</td>\n",
       "      <td>0</td>\n",
       "      <td>1</td>\n",
       "      <td>0</td>\n",
       "      <td>0</td>\n",
       "      <td>1</td>\n",
       "      <td>0</td>\n",
       "      <td>0</td>\n",
       "      <td>1</td>\n",
       "      <td>0</td>\n",
       "      <td>0</td>\n",
       "      <td>0</td>\n",
       "      <td>0</td>\n",
       "      <td>0</td>\n",
       "      <td>0</td>\n",
       "      <td>0</td>\n",
       "      <td>0</td>\n",
       "      <td>0</td>\n",
       "      <td>1</td>\n",
       "      <td>1</td>\n",
       "      <td>0</td>\n",
       "      <td>0</td>\n",
       "      <td>0</td>\n",
       "      <td>0</td>\n",
       "      <td>0</td>\n",
       "      <td>0</td>\n",
       "      <td>0</td>\n",
       "      <td>0</td>\n",
       "      <td>1</td>\n",
       "      <td>0</td>\n",
       "      <td>0</td>\n",
       "      <td>0</td>\n",
       "      <td>1</td>\n",
       "      <td>0</td>\n",
       "      <td>1</td>\n",
       "      <td>0</td>\n",
       "      <td>0</td>\n",
       "      <td>0</td>\n",
       "      <td>0</td>\n",
       "      <td>0</td>\n",
       "      <td>0</td>\n",
       "      <td>1</td>\n",
       "      <td>0</td>\n",
       "      <td>0</td>\n",
       "      <td>1</td>\n",
       "      <td>0</td>\n",
       "      <td>0</td>\n",
       "      <td>1</td>\n",
       "      <td>0</td>\n",
       "      <td>0</td>\n",
       "      <td>0</td>\n",
       "      <td>0</td>\n",
       "      <td>0</td>\n",
       "      <td>0</td>\n",
       "      <td>1</td>\n",
       "      <td>0</td>\n",
       "      <td>0</td>\n",
       "      <td>0</td>\n",
       "      <td>0</td>\n",
       "      <td>0</td>\n",
       "      <td>1</td>\n",
       "      <td>0</td>\n",
       "      <td>0</td>\n",
       "      <td>0</td>\n",
       "      <td>0</td>\n",
       "      <td>1</td>\n",
       "      <td>0</td>\n",
       "      <td>1</td>\n",
       "      <td>0</td>\n",
       "      <td>0</td>\n",
       "      <td>1</td>\n",
       "      <td>0</td>\n",
       "      <td>0</td>\n",
       "      <td>0</td>\n",
       "      <td>1</td>\n",
       "      <td>1</td>\n",
       "      <td>0</td>\n",
       "      <td>0</td>\n",
       "      <td>0</td>\n",
       "      <td>0</td>\n",
       "      <td>0</td>\n",
       "      <td>0</td>\n",
       "      <td>0</td>\n",
       "      <td>0</td>\n",
       "      <td>0</td>\n",
       "      <td>0</td>\n",
       "      <td>1</td>\n",
       "      <td>0</td>\n",
       "      <td>0</td>\n",
       "      <td>0</td>\n",
       "      <td>1</td>\n",
       "      <td>0</td>\n",
       "      <td>208500</td>\n",
       "    </tr>\n",
       "  </tbody>\n",
       "</table>\n",
       "</div>"
      ],
      "text/plain": [
       "   MSSubClass  LotFrontage  LotArea  OverallQual  OverallCond  YearBuilt  \\\n",
       "0          60         65.0     8450            7            5       2003   \n",
       "\n",
       "   YearRemodAdd  MasVnrArea  BsmtFinSF1  BsmtFinSF2  BsmtUnfSF  TotalBsmtSF  \\\n",
       "0          2003       196.0         706           0        150          856   \n",
       "\n",
       "   1stFlrSF  2ndFlrSF  LowQualFinSF  GrLivArea  BsmtFullBath  BsmtHalfBath  \\\n",
       "0       856       854             0       1710             1             0   \n",
       "\n",
       "   FullBath  HalfBath  BedroomAbvGr  KitchenAbvGr  TotRmsAbvGrd  Fireplaces  \\\n",
       "0         2         1             3             1             8           0   \n",
       "\n",
       "   GarageYrBlt  GarageCars  GarageArea  WoodDeckSF  OpenPorchSF  \\\n",
       "0       2003.0           2         548           0           61   \n",
       "\n",
       "   EnclosedPorch  3SsnPorch  ScreenPorch  PoolArea  MiscVal  MoSold  YrSold  \\\n",
       "0              0          0            0         0        0       2    2008   \n",
       "\n",
       "   MSZoning_FV  MSZoning_RH  MSZoning_RL  MSZoning_RM  Street_Pave  \\\n",
       "0            0            0            1            0            1   \n",
       "\n",
       "   Alley_None  Alley_Pave  LotShape_IR2  LotShape_IR3  LotShape_Reg  \\\n",
       "0           1           0             0             0             1   \n",
       "\n",
       "   LandContour_HLS  LandContour_Low  LandContour_Lvl  Utilities_NoSeWa  \\\n",
       "0                0                0                1                 0   \n",
       "\n",
       "   LotConfig_CulDSac  LotConfig_FR2  LotConfig_FR3  LotConfig_Inside  \\\n",
       "0                  0              0              0                 1   \n",
       "\n",
       "   LandSlope_Mod  LandSlope_Sev  Neighborhood_Blueste  Neighborhood_BrDale  \\\n",
       "0              0              0                     0                    0   \n",
       "\n",
       "   Neighborhood_BrkSide  Neighborhood_ClearCr  Neighborhood_CollgCr  \\\n",
       "0                     0                     0                     1   \n",
       "\n",
       "   Neighborhood_Crawfor  Neighborhood_Edwards  Neighborhood_Gilbert  \\\n",
       "0                     0                     0                     0   \n",
       "\n",
       "   Neighborhood_IDOTRR  Neighborhood_MeadowV  Neighborhood_Mitchel  \\\n",
       "0                    0                     0                     0   \n",
       "\n",
       "   Neighborhood_NAmes  Neighborhood_NPkVill  Neighborhood_NWAmes  \\\n",
       "0                   0                     0                    0   \n",
       "\n",
       "   Neighborhood_NoRidge  Neighborhood_NridgHt  Neighborhood_OldTown  \\\n",
       "0                     0                     0                     0   \n",
       "\n",
       "   Neighborhood_SWISU  Neighborhood_Sawyer  Neighborhood_SawyerW  \\\n",
       "0                   0                    0                     0   \n",
       "\n",
       "   Neighborhood_Somerst  Neighborhood_StoneBr  Neighborhood_Timber  \\\n",
       "0                     0                     0                    0   \n",
       "\n",
       "   Neighborhood_Veenker  Condition1_Feedr  Condition1_Norm  Condition1_PosA  \\\n",
       "0                     0                 0                1                0   \n",
       "\n",
       "   Condition1_PosN  Condition1_RRAe  Condition1_RRAn  Condition1_RRNe  \\\n",
       "0                0                0                0                0   \n",
       "\n",
       "   Condition1_RRNn  Condition2_Feedr  Condition2_Norm  Condition2_PosA  \\\n",
       "0                0                 0                1                0   \n",
       "\n",
       "   Condition2_PosN  Condition2_RRAe  Condition2_RRAn  Condition2_RRNn  \\\n",
       "0                0                0                0                0   \n",
       "\n",
       "   BldgType_2fmCon  BldgType_Duplex  BldgType_Twnhs  BldgType_TwnhsE  \\\n",
       "0                0                0               0                0   \n",
       "\n",
       "   HouseStyle_1.5Unf  HouseStyle_1Story  HouseStyle_2.5Fin  HouseStyle_2.5Unf  \\\n",
       "0                  0                  0                  0                  0   \n",
       "\n",
       "   HouseStyle_2Story  HouseStyle_SFoyer  HouseStyle_SLvl  RoofStyle_Gable  \\\n",
       "0                  1                  0                0                1   \n",
       "\n",
       "   RoofStyle_Gambrel  RoofStyle_Hip  RoofStyle_Mansard  RoofStyle_Shed  \\\n",
       "0                  0              0                  0               0   \n",
       "\n",
       "   RoofMatl_CompShg  RoofMatl_Membran  RoofMatl_Metal  RoofMatl_Roll  \\\n",
       "0                 1                 0               0              0   \n",
       "\n",
       "   RoofMatl_Tar&Grv  RoofMatl_WdShake  RoofMatl_WdShngl  Exterior1st_AsphShn  \\\n",
       "0                 0                 0                 0                    0   \n",
       "\n",
       "   Exterior1st_BrkComm  Exterior1st_BrkFace  Exterior1st_CBlock  \\\n",
       "0                    0                    0                   0   \n",
       "\n",
       "   Exterior1st_CemntBd  Exterior1st_HdBoard  Exterior1st_ImStucc  \\\n",
       "0                    0                    0                    0   \n",
       "\n",
       "   Exterior1st_MetalSd  Exterior1st_Plywood  Exterior1st_Stone  \\\n",
       "0                    0                    0                  0   \n",
       "\n",
       "   Exterior1st_Stucco  Exterior1st_VinylSd  Exterior1st_Wd Sdng  \\\n",
       "0                   0                    1                    0   \n",
       "\n",
       "   Exterior1st_WdShing  Exterior2nd_AsphShn  Exterior2nd_Brk Cmn  \\\n",
       "0                    0                    0                    0   \n",
       "\n",
       "   Exterior2nd_BrkFace  Exterior2nd_CBlock  Exterior2nd_CmentBd  \\\n",
       "0                    0                   0                    0   \n",
       "\n",
       "   Exterior2nd_HdBoard  Exterior2nd_ImStucc  Exterior2nd_MetalSd  \\\n",
       "0                    0                    0                    0   \n",
       "\n",
       "   Exterior2nd_Other  Exterior2nd_Plywood  Exterior2nd_Stone  \\\n",
       "0                  0                    0                  0   \n",
       "\n",
       "   Exterior2nd_Stucco  Exterior2nd_VinylSd  Exterior2nd_Wd Sdng  \\\n",
       "0                   0                    1                    0   \n",
       "\n",
       "   Exterior2nd_Wd Shng  MasVnrType_BrkFace  MasVnrType_None  MasVnrType_Stone  \\\n",
       "0                    0                   1                0                 0   \n",
       "\n",
       "   ExterQual_Fa  ExterQual_Gd  ExterQual_TA  ExterCond_Fa  ExterCond_Gd  \\\n",
       "0             0             1             0             0             0   \n",
       "\n",
       "   ExterCond_Po  ExterCond_TA  Foundation_CBlock  Foundation_PConc  \\\n",
       "0             0             1                  0                 1   \n",
       "\n",
       "   Foundation_Slab  Foundation_Stone  Foundation_Wood  BsmtQual_Fa  \\\n",
       "0                0                 0                0            0   \n",
       "\n",
       "   BsmtQual_Gd  BsmtQual_None  BsmtQual_TA  BsmtCond_Gd  BsmtCond_None  \\\n",
       "0            1              0            0            0              0   \n",
       "\n",
       "   BsmtCond_Po  BsmtCond_TA  BsmtExposure_Gd  BsmtExposure_Mn  \\\n",
       "0            0            1                0                0   \n",
       "\n",
       "   BsmtExposure_No  BsmtExposure_None  BsmtFinType1_BLQ  BsmtFinType1_GLQ  \\\n",
       "0                1                  0                 0                 1   \n",
       "\n",
       "   BsmtFinType1_LwQ  BsmtFinType1_None  BsmtFinType1_Rec  BsmtFinType1_Unf  \\\n",
       "0                 0                  0                 0                 0   \n",
       "\n",
       "   BsmtFinType2_BLQ  BsmtFinType2_GLQ  BsmtFinType2_LwQ  BsmtFinType2_None  \\\n",
       "0                 0                 0                 0                  0   \n",
       "\n",
       "   BsmtFinType2_Rec  BsmtFinType2_Unf  Heating_GasA  Heating_GasW  \\\n",
       "0                 0                 1             1             0   \n",
       "\n",
       "   Heating_Grav  Heating_OthW  Heating_Wall  HeatingQC_Fa  HeatingQC_Gd  \\\n",
       "0             0             0             0             0             0   \n",
       "\n",
       "   HeatingQC_Po  HeatingQC_TA  CentralAir_Y  Electrical_FuseF  \\\n",
       "0             0             0             1                 0   \n",
       "\n",
       "   Electrical_FuseP  Electrical_Mix  Electrical_SBrkr  KitchenQual_Fa  \\\n",
       "0                 0               0                 1               0   \n",
       "\n",
       "   KitchenQual_Gd  KitchenQual_TA  Functional_Maj2  Functional_Min1  \\\n",
       "0               1               0                0                0   \n",
       "\n",
       "   Functional_Min2  Functional_Mod  Functional_Sev  Functional_Typ  \\\n",
       "0                0               0               0               1   \n",
       "\n",
       "   FireplaceQu_Fa  FireplaceQu_Gd  FireplaceQu_None  FireplaceQu_Po  \\\n",
       "0               0               0                 1               0   \n",
       "\n",
       "   FireplaceQu_TA  GarageType_Attchd  GarageType_Basment  GarageType_BuiltIn  \\\n",
       "0               0                  1                   0                   0   \n",
       "\n",
       "   GarageType_CarPort  GarageType_Detchd  GarageType_None  GarageFinish_None  \\\n",
       "0                   0                  0                0                  0   \n",
       "\n",
       "   GarageFinish_RFn  GarageFinish_Unf  GarageQual_Fa  GarageQual_Gd  \\\n",
       "0                 1                 0              0              0   \n",
       "\n",
       "   GarageQual_None  GarageQual_Po  GarageQual_TA  GarageCond_Fa  \\\n",
       "0                0              0              1              0   \n",
       "\n",
       "   GarageCond_Gd  GarageCond_None  GarageCond_Po  GarageCond_TA  PavedDrive_P  \\\n",
       "0              0                0              0              1             0   \n",
       "\n",
       "   PavedDrive_Y  PoolQC_Fa  PoolQC_Gd  PoolQC_None  Fence_GdWo  Fence_MnPrv  \\\n",
       "0             1          0          0            1           0            0   \n",
       "\n",
       "   Fence_MnWw  Fence_None  MiscFeature_None  MiscFeature_Othr  \\\n",
       "0           0           1                 1                 0   \n",
       "\n",
       "   MiscFeature_Shed  MiscFeature_TenC  SaleType_CWD  SaleType_Con  \\\n",
       "0                 0                 0             0             0   \n",
       "\n",
       "   SaleType_ConLD  SaleType_ConLI  SaleType_ConLw  SaleType_New  SaleType_Oth  \\\n",
       "0               0               0               0             0             0   \n",
       "\n",
       "   SaleType_WD  SaleCondition_AdjLand  SaleCondition_Alloca  \\\n",
       "0            1                      0                     0   \n",
       "\n",
       "   SaleCondition_Family  SaleCondition_Normal  SaleCondition_Partial  \\\n",
       "0                     0                     1                      0   \n",
       "\n",
       "   SalePrice  \n",
       "0     208500  "
      ]
     },
     "execution_count": 49,
     "metadata": {
      "tags": []
     },
     "output_type": "execute_result"
    }
   ],
   "source": [
    "df.head(1)"
   ]
  },
  {
   "cell_type": "code",
   "execution_count": 50,
   "metadata": {
    "colab": {
     "base_uri": "https://localhost:8080/",
     "height": 1092
    },
    "colab_type": "code",
    "id": "Hd-XF-Whjmdz",
    "outputId": "0426334b-650a-4a3b-b05e-d7d667d212f6"
   },
   "outputs": [
    {
     "data": {
      "text/plain": [
       "SalePrice                1.000000\n",
       "OverallQual              0.790085\n",
       "GrLivArea                0.710073\n",
       "GarageCars               0.639749\n",
       "GarageArea               0.622484\n",
       "TotalBsmtSF              0.613299\n",
       "1stFlrSF                 0.606969\n",
       "FullBath                 0.562710\n",
       "TotRmsAbvGrd             0.536366\n",
       "YearBuilt                0.523274\n",
       "YearRemodAdd             0.507488\n",
       "Foundation_PConc         0.497827\n",
       "MasVnrArea               0.477486\n",
       "Fireplaces               0.468973\n",
       "ExterQual_Gd             0.456644\n",
       "BsmtFinType1_GLQ         0.433466\n",
       "Neighborhood_NridgHt     0.396427\n",
       "BsmtFinSF1               0.383995\n",
       "SaleType_New             0.354884\n",
       "SaleCondition_Partial    0.349362\n",
       "FireplaceQu_Gd           0.337382\n",
       "GarageType_Attchd        0.335749\n",
       "MasVnrType_Stone         0.333309\n",
       "Neighborhood_NoRidge     0.332661\n",
       "KitchenQual_Gd           0.325277\n",
       "WoodDeckSF               0.324658\n",
       "2ndFlrSF                 0.322840\n",
       "OpenPorchSF              0.311244\n",
       "Exterior2nd_VinylSd      0.304877\n",
       "Exterior1st_VinylSd      0.303532\n",
       "                           ...   \n",
       "BsmtCond_None           -0.152961\n",
       "BsmtQual_None           -0.152961\n",
       "BsmtFinType1_None       -0.152961\n",
       "KitchenQual_Fa          -0.157336\n",
       "Exterior1st_Wd Sdng     -0.158749\n",
       "Exterior2nd_Wd Sdng     -0.161162\n",
       "Exterior2nd_MetalSd     -0.161688\n",
       "Neighborhood_IDOTRR     -0.164242\n",
       "Exterior1st_MetalSd     -0.166370\n",
       "Neighborhood_Edwards    -0.179825\n",
       "Neighborhood_NAmes      -0.187909\n",
       "Neighborhood_OldTown    -0.192063\n",
       "RoofStyle_Gable         -0.227833\n",
       "GarageCond_None         -0.237088\n",
       "GarageQual_None         -0.237088\n",
       "GarageType_None         -0.237088\n",
       "GarageFinish_None       -0.237088\n",
       "SaleType_WD             -0.239107\n",
       "BsmtExposure_No         -0.262972\n",
       "LotShape_Reg            -0.271795\n",
       "MSZoning_RM             -0.288015\n",
       "HeatingQC_TA            -0.312737\n",
       "Foundation_CBlock       -0.342416\n",
       "GarageType_Detchd       -0.353961\n",
       "MasVnrType_None         -0.373068\n",
       "GarageFinish_Unf        -0.410297\n",
       "BsmtQual_TA             -0.452719\n",
       "FireplaceQu_None        -0.472721\n",
       "KitchenQual_TA          -0.519954\n",
       "ExterQual_TA            -0.589583\n",
       "Name: SalePrice, Length: 260, dtype: float64"
      ]
     },
     "execution_count": 50,
     "metadata": {
      "tags": []
     },
     "output_type": "execute_result"
    }
   ],
   "source": [
    "df.corr()[\"SalePrice\"].sort_values(ascending=False)"
   ]
  },
  {
   "cell_type": "code",
   "execution_count": 0,
   "metadata": {
    "colab": {},
    "colab_type": "code",
    "id": "P1qJWxLpjmd2"
   },
   "outputs": [],
   "source": [
    "imt_features=[]\n",
    "imt_features.extend(df.corr()[\"SalePrice\"].sort_values(ascending=False).index.tolist()[:30])\n",
    "imt_features.extend(df.corr()[\"SalePrice\"].sort_values(ascending=True).index.tolist()[:30])"
   ]
  },
  {
   "cell_type": "code",
   "execution_count": 0,
   "metadata": {
    "colab": {},
    "colab_type": "code",
    "id": "X1Y7yM4Cjmd9"
   },
   "outputs": [],
   "source": [
    "df=df[imt_features]"
   ]
  },
  {
   "cell_type": "code",
   "execution_count": 53,
   "metadata": {
    "colab": {
     "base_uri": "https://localhost:8080/",
     "height": 396
    },
    "colab_type": "code",
    "id": "X-C98x_7jmd_",
    "outputId": "51c4d1be-89a2-48b3-9e91-2dde02b94f9b"
   },
   "outputs": [
    {
     "data": {
      "text/plain": [
       "<matplotlib.axes._subplots.AxesSubplot at 0x7ff7f6a61a58>"
      ]
     },
     "execution_count": 53,
     "metadata": {
      "tags": []
     },
     "output_type": "execute_result"
    },
    {
     "data": {
      "image/png": "[encoded data removed]",
      "text/plain": [
       "<Figure size 432x288 with 2 Axes>"
      ]
     },
     "metadata": {
      "tags": []
     },
     "output_type": "display_data"
    }
   ],
   "source": [
    "sns.heatmap(df.corr())"
   ]
  },
  {
   "cell_type": "code",
   "execution_count": 0,
   "metadata": {
    "colab": {},
    "colab_type": "code",
    "id": "wWsi2DDgrrqm"
   },
   "outputs": [],
   "source": [
    "#Try only use these term to predict sale price using linear regression "
   ]
  },
  {
   "cell_type": "code",
   "execution_count": 0,
   "metadata": {
    "colab": {},
    "colab_type": "code",
    "id": "wPw7TuHlryL6"
   },
   "outputs": [],
   "source": [
    "imt_features.remove(\"SalePrice\")"
   ]
  },
  {
   "cell_type": "code",
   "execution_count": 0,
   "metadata": {
    "colab": {},
    "colab_type": "code",
    "id": "a2kiils81sOP"
   },
   "outputs": [],
   "source": [
    "X=df[imt_features]"
   ]
  },
  {
   "cell_type": "code",
   "execution_count": 0,
   "metadata": {
    "colab": {},
    "colab_type": "code",
    "id": "jZFdpIdN1sZA"
   },
   "outputs": [],
   "source": [
    "X_train,X_test,y_train,y_test=train_test_split(X,Y,test_size=0.3,random_state=3)"
   ]
  },
  {
   "cell_type": "code",
   "execution_count": 58,
   "metadata": {
    "colab": {
     "base_uri": "https://localhost:8080/",
     "height": 35
    },
    "colab_type": "code",
    "id": "Qpe9Kiqc12aw",
    "outputId": "814cf958-4372-400f-ac33-c454467cd2ea"
   },
   "outputs": [
    {
     "data": {
      "text/plain": [
       "LinearRegression(copy_X=True, fit_intercept=True, n_jobs=None, normalize=False)"
      ]
     },
     "execution_count": 58,
     "metadata": {
      "tags": []
     },
     "output_type": "execute_result"
    }
   ],
   "source": [
    "lr = LinearRegression()\n",
    "lr.fit(X_train, y_train)"
   ]
  },
  {
   "cell_type": "code",
   "execution_count": 0,
   "metadata": {
    "colab": {},
    "colab_type": "code",
    "id": "fUBS5ASx12ia"
   },
   "outputs": [],
   "source": [
    "#R-square of the linear regression on training dataset seleted by pearson correlation  \n",
    "pc_lr_rs=lr.score(X_train,y_train)\n",
    "\n",
    "#R-square of the linear regression on test dataset seleted by pearson correlation\n",
    "pc_lr_trs=lr.score(X_test,y_test)\n",
    "\n",
    "\n",
    "#Prediction result \n",
    "pc_lr_msle=mean_squared_log_error(y_test, lr.predict(X_test))  "
   ]
  },
  {
   "cell_type": "code",
   "execution_count": 60,
   "metadata": {
    "colab": {
     "base_uri": "https://localhost:8080/",
     "height": 35
    },
    "colab_type": "code",
    "id": "iPY3SLbH2VUx",
    "outputId": "645c70f1-5b39-49e0-f8ff-07a6b72f1148"
   },
   "outputs": [
    {
     "data": {
      "text/plain": [
       "[0.9530193196999682, 0.856547413263497]"
      ]
     },
     "execution_count": 60,
     "metadata": {
      "tags": []
     },
     "output_type": "execute_result"
    }
   ],
   "source": [
    "#Compare with orginial dataset \n",
    "[orig_lr_rs,pc_lr_rs]  #Rsquare on training set   "
   ]
  },
  {
   "cell_type": "code",
   "execution_count": 61,
   "metadata": {
    "colab": {
     "base_uri": "https://localhost:8080/",
     "height": 35
    },
    "colab_type": "code",
    "id": "fnfWfyT-2i8V",
    "outputId": "7b47df59-0a52-43a7-e25d-b7bab743c458"
   },
   "outputs": [
    {
     "data": {
      "text/plain": [
       "[0.7811746426189593, 0.7835001222651512]"
      ]
     },
     "execution_count": 61,
     "metadata": {
      "tags": []
     },
     "output_type": "execute_result"
    }
   ],
   "source": [
    "#Compare with orginial dataset \n",
    "[orig_lr_trs,pc_lr_trs]  #Rsquare on test set    #improved by using the person correlation "
   ]
  },
  {
   "cell_type": "code",
   "execution_count": 62,
   "metadata": {
    "colab": {
     "base_uri": "https://localhost:8080/",
     "height": 35
    },
    "colab_type": "code",
    "id": "RChPBp592m8H",
    "outputId": "a1d0794d-99b6-4163-b6f0-f92727c37e3a"
   },
   "outputs": [
    {
     "data": {
      "text/plain": [
       "[0.02844966760572892, 0.031962348642854715]"
      ]
     },
     "execution_count": 62,
     "metadata": {
      "tags": []
     },
     "output_type": "execute_result"
    }
   ],
   "source": [
    "#Compare with orginial dataset \n",
    "[orig_lr_msle,pc_lr_msle]  #Prediction result on test set   \n",
    "#The orginial dataset works better than person corrleation one "
   ]
  },
  {
   "cell_type": "markdown",
   "metadata": {
    "colab_type": "text",
    "id": "VbmMOmJ4jmdX"
   },
   "source": [
    "### ANOVA Feature Selection : Univariate Test"
   ]
  },
  {
   "cell_type": "code",
   "execution_count": 0,
   "metadata": {
    "colab": {},
    "colab_type": "code",
    "id": "QuptWNDBjmdY"
   },
   "outputs": [],
   "source": [
    "from sklearn import feature_selection\n",
    "from sklearn.feature_selection import f_regression\n",
    "\n",
    "\n",
    "def ANOVA(X,y):\n",
    "    '''Univariate linear regression tests\n",
    "    Quick linear model for sequentially testing the effect of many regressors\n",
    "    Using scikit learn's Feature selection toolbox\n",
    "    Returns:\n",
    "        F (array) = F-values for regressors\n",
    "        pvalues (array) = p-values for F-scores'''\n",
    "\n",
    "    (F,pvalues) = f_regression(X,y)\n",
    "    return (F,pvalues) "
   ]
  },
  {
   "cell_type": "code",
   "execution_count": 0,
   "metadata": {
    "colab": {},
    "colab_type": "code",
    "id": "R_SeIFup23eW"
   },
   "outputs": [],
   "source": [
    "X_train,X_test,y_train,y_test=train_test_split(X_orig,Y,test_size=0.3,random_state=3)"
   ]
  },
  {
   "cell_type": "code",
   "execution_count": 65,
   "metadata": {
    "colab": {
     "base_uri": "https://localhost:8080/",
     "height": 156
    },
    "colab_type": "code",
    "id": "jl8CDao0jmda",
    "outputId": "906024ec-ce5f-49d2-fe50-cb5a16c9f988"
   },
   "outputs": [
    {
     "name": "stderr",
     "output_type": "stream",
     "text": [
      "/usr/local/lib/python3.6/dist-packages/sklearn/feature_selection/univariate_selection.py:299: RuntimeWarning: invalid value encountered in true_divide\n",
      "  corr /= X_norms\n",
      "/usr/local/lib/python3.6/dist-packages/scipy/stats/_distn_infrastructure.py:901: RuntimeWarning: invalid value encountered in greater\n",
      "  return (a < x) & (x < b)\n",
      "/usr/local/lib/python3.6/dist-packages/scipy/stats/_distn_infrastructure.py:901: RuntimeWarning: invalid value encountered in less\n",
      "  return (a < x) & (x < b)\n",
      "/usr/local/lib/python3.6/dist-packages/scipy/stats/_distn_infrastructure.py:1892: RuntimeWarning: invalid value encountered in less_equal\n",
      "  cond2 = cond0 & (x <= _a)\n"
     ]
    }
   ],
   "source": [
    "Fs,pvals=ANOVA(X_train,y_train)"
   ]
  },
  {
   "cell_type": "code",
   "execution_count": 66,
   "metadata": {
    "colab": {
     "base_uri": "https://localhost:8080/",
     "height": 555
    },
    "colab_type": "code",
    "id": "DQS6YJ2Ojmdd",
    "outputId": "f4069dfe-35cf-4b6f-de6c-179cfd714547"
   },
   "outputs": [
    {
     "name": "stderr",
     "output_type": "stream",
     "text": [
      "/usr/local/lib/python3.6/dist-packages/ipykernel_launcher.py:1: RuntimeWarning: invalid value encountered in less_equal\n",
      "  \"\"\"Entry point for launching an IPython kernel.\n"
     ]
    },
    {
     "data": {
      "text/plain": [
       "array([False,  True,  True,  True, False,  True,  True,  True,  True,\n",
       "       False,  True,  True,  True,  True, False,  True,  True, False,\n",
       "        True,  True,  True,  True,  True,  True,  True,  True,  True,\n",
       "        True,  True,  True, False,  True,  True, False, False, False,\n",
       "        True, False,  True,  True, False,  True, False,  True, False,\n",
       "        True,  True, False, False, False,  True, False, False,  True,\n",
       "       False, False, False,  True,  True, False, False, False,  True,\n",
       "       False,  True,  True, False,  True, False, False,  True,  True,\n",
       "        True, False,  True, False,  True,  True,  True,  True,  True,\n",
       "        True, False, False, False, False, False, False, False, False,\n",
       "       False, False, False, False, False,  True,  True,  True, False,\n",
       "        True, False, False, False,  True,  True, False,  True, False,\n",
       "        True, False, False,  True, False, False, False, False, False,\n",
       "        True, False, False, False, False,  True, False, False,  True,\n",
       "       False, False, False,  True,  True, False, False, False, False,\n",
       "       False,  True, False,  True,  True, False, False, False, False,\n",
       "        True,  True, False,  True,  True,  True,  True,  True,  True,\n",
       "        True, False, False, False,  True,  True,  True, False, False,\n",
       "        True,  True,  True,  True,  True,  True, False,  True,  True,\n",
       "       False,  True,  True,  True,  True,  True,  True,  True, False,\n",
       "       False, False, False,  True, False,  True,  True, False,  True,\n",
       "       False, False,  True,  True, False,  True,  True,  True, False,\n",
       "       False,  True,  True,  True,  True,  True, False, False, False,\n",
       "       False,  True, False,  True,  True, False,  True,  True, False,\n",
       "        True, False,  True,  True,  True,  True,  True,  True, False,\n",
       "        True, False,  True,  True, False,  True, False,  True, False,\n",
       "        True, False, False,  True,  True,  True, False,  True, False,\n",
       "       False, False, False, False, False, False, False, False,  True,\n",
       "       False,  True, False, False, False,  True,  True])"
      ]
     },
     "execution_count": 66,
     "metadata": {
      "tags": []
     },
     "output_type": "execute_result"
    }
   ],
   "source": [
    "pvals<=0.01"
   ]
  },
  {
   "cell_type": "code",
   "execution_count": 67,
   "metadata": {
    "colab": {
     "base_uri": "https://localhost:8080/",
     "height": 52
    },
    "colab_type": "code",
    "id": "tGFVd7-ejmdg",
    "outputId": "f56fc238-82c7-44d3-fd55-f42f19ad5af7"
   },
   "outputs": [
    {
     "name": "stderr",
     "output_type": "stream",
     "text": [
      "/usr/local/lib/python3.6/dist-packages/ipykernel_launcher.py:2: RuntimeWarning: invalid value encountered in less_equal\n",
      "  \n"
     ]
    }
   ],
   "source": [
    "from itertools import compress\n",
    "features=list(compress(X_train.columns.tolist(), pvals<=0.01))"
   ]
  },
  {
   "cell_type": "code",
   "execution_count": 68,
   "metadata": {
    "colab": {
     "base_uri": "https://localhost:8080/",
     "height": 35
    },
    "colab_type": "code",
    "id": "yTFyt9173RFi",
    "outputId": "744a9ed3-f310-4726-f21f-a3a49dacdfab"
   },
   "outputs": [
    {
     "data": {
      "text/plain": [
       "LinearRegression(copy_X=True, fit_intercept=True, n_jobs=None, normalize=False)"
      ]
     },
     "execution_count": 68,
     "metadata": {
      "tags": []
     },
     "output_type": "execute_result"
    }
   ],
   "source": [
    "#fit the linear regression used the feature selected with ANOVA \n",
    "lr = LinearRegression()\n",
    "lr.fit(X_train[features], y_train)"
   ]
  },
  {
   "cell_type": "code",
   "execution_count": 0,
   "metadata": {
    "colab": {},
    "colab_type": "code",
    "id": "1a0W-2_13f9o"
   },
   "outputs": [],
   "source": [
    "#R-square of the linear regression on training dataset seleted by ANOVA\n",
    "anova_lr_rs=lr.score(X_train[features],y_train)\n",
    "\n",
    "#R-square of the linear regression on test dataset seleted by ANOVA\n",
    "anova_lr_trs=lr.score(X_test[features],y_test)\n",
    "\n",
    "\n",
    "#Prediction result \n",
    "anova_lr_msle=mean_squared_log_error(y_test, lr.predict(X_test[features]))  "
   ]
  },
  {
   "cell_type": "code",
   "execution_count": 70,
   "metadata": {
    "colab": {
     "base_uri": "https://localhost:8080/",
     "height": 35
    },
    "colab_type": "code",
    "id": "C7ZgAiRRjmeM",
    "outputId": "e2d44950-3793-4a28-aa87-b79e36e57b33"
   },
   "outputs": [
    {
     "data": {
      "text/plain": [
       "[0.9530193196999682, 0.907615496246673]"
      ]
     },
     "execution_count": 70,
     "metadata": {
      "tags": []
     },
     "output_type": "execute_result"
    }
   ],
   "source": [
    "#Compare with orginial dataset \n",
    "[orig_lr_rs,anova_lr_rs]  #Rsquare on training set   "
   ]
  },
  {
   "cell_type": "code",
   "execution_count": 71,
   "metadata": {
    "colab": {
     "base_uri": "https://localhost:8080/",
     "height": 35
    },
    "colab_type": "code",
    "id": "dhXpypU_31Rd",
    "outputId": "24b3b506-78f5-48d0-b2cb-52eaeb04467d"
   },
   "outputs": [
    {
     "data": {
      "text/plain": [
       "[0.7811746426189593, 0.8055282214024393]"
      ]
     },
     "execution_count": 71,
     "metadata": {
      "tags": []
     },
     "output_type": "execute_result"
    }
   ],
   "source": [
    "#Compare with orginial dataset \n",
    "[orig_lr_trs,anova_lr_trs]  #Rsquare on training set   #improved by using ANOVA "
   ]
  },
  {
   "cell_type": "code",
   "execution_count": 72,
   "metadata": {
    "colab": {
     "base_uri": "https://localhost:8080/",
     "height": 35
    },
    "colab_type": "code",
    "id": "etFjw5E234PI",
    "outputId": "ff091dae-7f37-4b61-b11d-85de0b10f91a"
   },
   "outputs": [
    {
     "data": {
      "text/plain": [
       "[0.02844966760572892, 0.028983400795026152]"
      ]
     },
     "execution_count": 72,
     "metadata": {
      "tags": []
     },
     "output_type": "execute_result"
    }
   ],
   "source": [
    "#Compare with orginial dataset \n",
    "[orig_lr_msle,anova_lr_msle]  #Rsquare on result prediction  "
   ]
  },
  {
   "cell_type": "markdown",
   "metadata": {
    "colab_type": "text",
    "id": "UBEs8DS1387o"
   },
   "source": [
    "The original data set (after variance threshold feature selection) works better than the feature selection done by ANOVA"
   ]
  },
  {
   "cell_type": "markdown",
   "metadata": {
    "colab_type": "text",
    "id": "0OfsPai94UdM"
   },
   "source": [
    "### Compare the result in one bar charts "
   ]
  },
  {
   "cell_type": "code",
   "execution_count": 73,
   "metadata": {
    "colab": {
     "base_uri": "https://localhost:8080/",
     "height": 281
    },
    "colab_type": "code",
    "id": "FjOJbhLs4ZNs",
    "outputId": "9f1055de-0152-4d5e-fec9-a05cad2799fa"
   },
   "outputs": [
    {
     "data": {
      "image/png": "[encoded data removed]",
      "text/plain": [
       "<Figure size 432x288 with 1 Axes>"
      ]
     },
     "metadata": {
      "tags": []
     },
     "output_type": "display_data"
    }
   ],
   "source": [
    " \n",
    "  \n",
    "# Make fake dataset\n",
    "height = [orig_lr_msle,var_lr_msle, int_lr_msle, pc_lr_msle, anova_lr_msle]\n",
    "bars = ('Original', 'Variance','Interacting', 'Pearson', 'ANOVA')\n",
    " \n",
    "# Choose the position of each barplots on the x-axis (space=1,4,3,1)\n",
    "y_pos = [0,1,2,3,4]\n",
    " \n",
    "# Create bars\n",
    "plt.bar(y_pos, height,color=['deepskyblue','mediumturquoise', 'pink', 'darkorange', 'lightcoral', 'salmon'])\n",
    " \n",
    "# Create names on the x-axis\n",
    "plt.xticks(y_pos, bars)\n",
    "\n",
    "plt.title(\"Mean Square Log Error\")\n",
    " \n",
    "# Show graphic\n",
    "plt.show()\n",
    "\n"
   ]
  },
  {
   "cell_type": "markdown",
   "metadata": {
    "colab_type": "text",
    "id": "Cfv3qGyA6F9W"
   },
   "source": [
    "Smaller value is prefered. "
   ]
  },
  {
   "cell_type": "code",
   "execution_count": 74,
   "metadata": {
    "colab": {
     "base_uri": "https://localhost:8080/",
     "height": 281
    },
    "colab_type": "code",
    "id": "Y445xiZq54Tf",
    "outputId": "b8271658-91df-498b-ce9f-95e76b5951b7"
   },
   "outputs": [
    {
     "data": {
      "image/png": "[encoded data removed]",
      "text/plain": [
       "<Figure size 432x288 with 1 Axes>"
      ]
     },
     "metadata": {
      "tags": []
     },
     "output_type": "display_data"
    }
   ],
   "source": [
    "\n",
    "height = [orig_lr_trs,var_lr_trs, int_lr_trs, pc_lr_trs, anova_lr_trs]\n",
    "bars = ('Original','Variance', 'Interacting', 'Pearson', 'ANOVA')\n",
    " \n",
    "# Choose the position of each barplots on the x-axis (space=1,4,3,1)\n",
    "y_pos = [0,1,2,3,4]\n",
    " \n",
    "# Create bars\n",
    "plt.bar(y_pos, height,color=['deepskyblue','mediumturquoise', 'pink', 'darkorange', 'lightcoral', 'salmon'])\n",
    " \n",
    "# Create names on the x-axis\n",
    "plt.xticks(y_pos, bars)\n",
    "\n",
    "plt.title(\"R Square on Test Dataset\")\n",
    " \n",
    "# Show graphic\n",
    "plt.show()\n",
    "\n"
   ]
  },
  {
   "cell_type": "markdown",
   "metadata": {
    "colab_type": "text",
    "id": "sUv51p8A6KDU"
   },
   "source": [
    "Larger value is perferred. "
   ]
  },
  {
   "cell_type": "markdown",
   "metadata": {
    "colab_type": "text",
    "id": "_CfcI3IdjmZZ"
   },
   "source": [
    "### Ridge Regression"
   ]
  },
  {
   "cell_type": "code",
   "execution_count": 0,
   "metadata": {
    "colab": {},
    "colab_type": "code",
    "id": "0gQZHchO6Q9j"
   },
   "outputs": [],
   "source": [
    "X_train,X_test,y_train,y_test=train_test_split(X_orig,Y,test_size=0.3,random_state=3)"
   ]
  },
  {
   "cell_type": "code",
   "execution_count": 76,
   "metadata": {
    "colab": {
     "base_uri": "https://localhost:8080/",
     "height": 35
    },
    "colab_type": "code",
    "id": "CPzmoqI56nEx",
    "outputId": "98418983-4047-41fe-cb4b-337498988f30"
   },
   "outputs": [
    {
     "data": {
      "text/plain": [
       "LinearRegression(copy_X=True, fit_intercept=True, n_jobs=None, normalize=False)"
      ]
     },
     "execution_count": 76,
     "metadata": {
      "tags": []
     },
     "output_type": "execute_result"
    }
   ],
   "source": [
    "#fit the linear regression used all features\n",
    "lr = LinearRegression()\n",
    "lr.fit(X_train, y_train)"
   ]
  },
  {
   "cell_type": "code",
   "execution_count": 77,
   "metadata": {
    "colab": {
     "base_uri": "https://localhost:8080/",
     "height": 52
    },
    "colab_type": "code",
    "id": "njxoKsigjmZb",
    "outputId": "e153b801-692c-48cf-bc5f-a2c8c12cb0ac"
   },
   "outputs": [
    {
     "data": {
      "text/plain": [
       "Ridge(alpha=0.01, copy_X=True, fit_intercept=True, max_iter=None,\n",
       "      normalize=False, random_state=None, solver='auto', tol=0.001)"
      ]
     },
     "execution_count": 77,
     "metadata": {
      "tags": []
     },
     "output_type": "execute_result"
    }
   ],
   "source": [
    "rr = Ridge(alpha=0.01) # higher the alpha value, more restriction on the coefficients; low alpha > more generalization, coefficients are barely\n",
    "# restricted and in this case linear and ridge regression resembles\n",
    "rr.fit(X_train, y_train)"
   ]
  },
  {
   "cell_type": "code",
   "execution_count": 78,
   "metadata": {
    "colab": {
     "base_uri": "https://localhost:8080/",
     "height": 52
    },
    "colab_type": "code",
    "id": "bdOYMbyejmZk",
    "outputId": "9518c1f8-019c-416f-d4c3-72347a59fc2b"
   },
   "outputs": [
    {
     "data": {
      "text/plain": [
       "Ridge(alpha=100, copy_X=True, fit_intercept=True, max_iter=None,\n",
       "      normalize=False, random_state=None, solver='auto', tol=0.001)"
      ]
     },
     "execution_count": 78,
     "metadata": {
      "tags": []
     },
     "output_type": "execute_result"
    }
   ],
   "source": [
    "rr100 = Ridge(alpha=100) #  comparison with alpha value\n",
    "rr100.fit(X_train, y_train)"
   ]
  },
  {
   "cell_type": "code",
   "execution_count": 79,
   "metadata": {
    "colab": {
     "base_uri": "https://localhost:8080/",
     "height": 121
    },
    "colab_type": "code",
    "id": "v1_8POFtjmZw",
    "outputId": "674c87d9-e8d5-4e51-98b1-f9944c23126c"
   },
   "outputs": [
    {
     "name": "stdout",
     "output_type": "stream",
     "text": [
      "linear regression train score: 0.9530193196999682\n",
      "linear regression test score: 0.7811746426189593\n",
      "ridge regression train score low alpha: 0.9518680427241971\n",
      "ridge regression test score low alpha: 0.7894529970403259\n",
      "ridge regression train score high alpha: 0.8738603539797813\n",
      "ridge regression test score high alpha: 0.8123391657490237\n"
     ]
    }
   ],
   "source": [
    "train_score=lr.score(X_train, y_train)\n",
    "test_score=lr.score(X_test, y_test)\n",
    "Ridge_train_score = rr.score(X_train,y_train)\n",
    "Ridge_test_score = rr.score(X_test, y_test)\n",
    "Ridge_train_score100 = rr100.score(X_train,y_train)\n",
    "Ridge_test_score100 = rr100.score(X_test, y_test)\n",
    "print(\"linear regression train score:\", train_score)\n",
    "print(\"linear regression test score:\", test_score)\n",
    "print(\"ridge regression train score low alpha:\", Ridge_train_score)\n",
    "print(\"ridge regression test score low alpha:\", Ridge_test_score)\n",
    "print(\"ridge regression train score high alpha:\", Ridge_train_score100)\n",
    "print(\"ridge regression test score high alpha:\", Ridge_test_score100)\n",
    "\n",
    "#Score is R square \n",
    "#Too much alpha didn't help \n",
    "# the low alpha improved the test R^2 "
   ]
  },
  {
   "cell_type": "code",
   "execution_count": 80,
   "metadata": {
    "colab": {
     "base_uri": "https://localhost:8080/",
     "height": 289
    },
    "colab_type": "code",
    "id": "ngi5DbjkjmZ7",
    "outputId": "e7094c30-286b-489f-f246-56799dc70905"
   },
   "outputs": [
    {
     "data": {
      "image/png": "[encoded data removed]",
      "text/plain": [
       "<Figure size 432x288 with 1 Axes>"
      ]
     },
     "metadata": {
      "tags": []
     },
     "output_type": "display_data"
    }
   ],
   "source": [
    "plt.plot(rr.coef_,alpha=0.7,linestyle='none',marker='*',markersize=5,color='red',label=r'Ridge; $\\alpha = 0.01$',zorder=7) # zorder for ordering the markers\n",
    "plt.plot(rr100.coef_,alpha=0.5,linestyle='none',marker='d',markersize=6,color='blue',label=r'Ridge; $\\alpha = 100$') # alpha here is for transparency\n",
    "plt.plot(lr.coef_,alpha=0.4,linestyle='none',marker='o',markersize=7,color='green',label='Linear Regression')\n",
    "plt.xlabel('Coefficient Index',fontsize=16)\n",
    "plt.ylabel('Coefficient Magnitude',fontsize=16)\n",
    "plt.legend(fontsize=13,loc=\"upper left\", bbox_to_anchor=(1,1))\n",
    "plt.show()"
   ]
  },
  {
   "cell_type": "markdown",
   "metadata": {
    "colab_type": "text",
    "id": "zc3TX1F864KZ"
   },
   "source": [
    "The graphs shows the changed on coefficient magnitude by controlling the alpha/lambda value of ridge regression. When alpha is large, the ridge regression gives a larger penalty on coefficients, we can see that, most coefficients ended up near 0 when alpha =100. "
   ]
  },
  {
   "cell_type": "code",
   "execution_count": 0,
   "metadata": {
    "colab": {},
    "colab_type": "code",
    "id": "_FB4Mfr4jmaT"
   },
   "outputs": [],
   "source": [
    "## See how the maginitude of coeffienicients changed when change alpha value "
   ]
  },
  {
   "cell_type": "code",
   "execution_count": 82,
   "metadata": {
    "colab": {
     "base_uri": "https://localhost:8080/",
     "height": 963
    },
    "colab_type": "code",
    "id": "93M4TPojjmae",
    "outputId": "0a494630-548e-40b5-f8d0-bf488d1309cb"
   },
   "outputs": [
    {
     "name": "stderr",
     "output_type": "stream",
     "text": [
      "/usr/local/lib/python3.6/dist-packages/sklearn/linear_model/ridge.py:147: LinAlgWarning: Ill-conditioned matrix (rcond=1.11998e-17): result may not be accurate.\n",
      "  overwrite_a=True).T\n",
      "/usr/local/lib/python3.6/dist-packages/sklearn/linear_model/ridge.py:147: LinAlgWarning: Ill-conditioned matrix (rcond=1.30847e-17): result may not be accurate.\n",
      "  overwrite_a=True).T\n",
      "/usr/local/lib/python3.6/dist-packages/sklearn/linear_model/ridge.py:147: LinAlgWarning: Ill-conditioned matrix (rcond=1.50468e-17): result may not be accurate.\n",
      "  overwrite_a=True).T\n",
      "/usr/local/lib/python3.6/dist-packages/sklearn/linear_model/ridge.py:147: LinAlgWarning: Ill-conditioned matrix (rcond=1.75533e-17): result may not be accurate.\n",
      "  overwrite_a=True).T\n",
      "/usr/local/lib/python3.6/dist-packages/sklearn/linear_model/ridge.py:147: LinAlgWarning: Ill-conditioned matrix (rcond=2.07022e-17): result may not be accurate.\n",
      "  overwrite_a=True).T\n",
      "/usr/local/lib/python3.6/dist-packages/sklearn/linear_model/ridge.py:147: LinAlgWarning: Ill-conditioned matrix (rcond=2.41836e-17): result may not be accurate.\n",
      "  overwrite_a=True).T\n",
      "/usr/local/lib/python3.6/dist-packages/sklearn/linear_model/ridge.py:147: LinAlgWarning: Ill-conditioned matrix (rcond=2.82557e-17): result may not be accurate.\n",
      "  overwrite_a=True).T\n",
      "/usr/local/lib/python3.6/dist-packages/sklearn/linear_model/ridge.py:147: LinAlgWarning: Ill-conditioned matrix (rcond=3.24112e-17): result may not be accurate.\n",
      "  overwrite_a=True).T\n",
      "/usr/local/lib/python3.6/dist-packages/sklearn/linear_model/ridge.py:147: LinAlgWarning: Ill-conditioned matrix (rcond=3.80727e-17): result may not be accurate.\n",
      "  overwrite_a=True).T\n",
      "/usr/local/lib/python3.6/dist-packages/sklearn/linear_model/ridge.py:147: LinAlgWarning: Ill-conditioned matrix (rcond=4.35913e-17): result may not be accurate.\n",
      "  overwrite_a=True).T\n",
      "/usr/local/lib/python3.6/dist-packages/sklearn/linear_model/ridge.py:147: LinAlgWarning: Ill-conditioned matrix (rcond=5.05985e-17): result may not be accurate.\n",
      "  overwrite_a=True).T\n",
      "/usr/local/lib/python3.6/dist-packages/sklearn/linear_model/ridge.py:147: LinAlgWarning: Ill-conditioned matrix (rcond=5.83795e-17): result may not be accurate.\n",
      "  overwrite_a=True).T\n",
      "/usr/local/lib/python3.6/dist-packages/sklearn/linear_model/ridge.py:147: LinAlgWarning: Ill-conditioned matrix (rcond=6.74058e-17): result may not be accurate.\n",
      "  overwrite_a=True).T\n",
      "/usr/local/lib/python3.6/dist-packages/sklearn/linear_model/ridge.py:147: LinAlgWarning: Ill-conditioned matrix (rcond=7.76601e-17): result may not be accurate.\n",
      "  overwrite_a=True).T\n",
      "/usr/local/lib/python3.6/dist-packages/sklearn/linear_model/ridge.py:147: LinAlgWarning: Ill-conditioned matrix (rcond=8.93446e-17): result may not be accurate.\n",
      "  overwrite_a=True).T\n",
      "/usr/local/lib/python3.6/dist-packages/sklearn/linear_model/ridge.py:147: LinAlgWarning: Ill-conditioned matrix (rcond=1.03048e-16): result may not be accurate.\n",
      "  overwrite_a=True).T\n"
     ]
    },
    {
     "data": {
      "image/png": "[encoded data removed]",
      "text/plain": [
       "<Figure size 1440x432 with 2 Axes>"
      ]
     },
     "metadata": {
      "tags": []
     },
     "output_type": "display_data"
    }
   ],
   "source": [
    "from sklearn.datasets import make_regression\n",
    "from sklearn.linear_model import Ridge\n",
    "from sklearn.metrics import mean_squared_error\n",
    "\n",
    "clf = Ridge()\n",
    "\n",
    "\n",
    "coefs = []\n",
    "errors = []\n",
    "\n",
    "alphas = np.logspace(-6, 6, 200)\n",
    "\n",
    "# Train the model with different regularisation strengths\n",
    "for a in alphas:\n",
    "    clf.set_params(alpha=a)\n",
    "    clf.fit(X_train, y_train)\n",
    "    coefs.append(clf.coef_)\n",
    "    errors.append(mean_squared_error(y_train,clf.predict(X_train)))\n",
    "\n",
    "# Display results\n",
    "plt.figure(figsize=(20, 6))\n",
    "\n",
    "plt.subplot(121)\n",
    "ax = plt.gca()\n",
    "ax.plot(alphas, coefs)\n",
    "ax.set_xscale('log')\n",
    "plt.xlabel('alpha')\n",
    "plt.ylabel('weights')\n",
    "plt.title('Ridge coefficients as a function of the regularization')\n",
    "plt.axis('tight')\n",
    "\n",
    "plt.subplot(122)\n",
    "ax = plt.gca()\n",
    "ax.plot(alphas, errors)\n",
    "ax.set_xscale('log')\n",
    "plt.xlabel('alpha')\n",
    "plt.ylabel('error')\n",
    "plt.title('Mean square error as a function of the regularization')\n",
    "plt.axis('tight')\n",
    "\n",
    "plt.show()"
   ]
  },
  {
   "cell_type": "markdown",
   "metadata": {
    "colab_type": "text",
    "id": "h1SQTcL87ZEq"
   },
   "source": [
    "The result shows that a alpha value larger than 10^3, will restult in all weights closed to 0 and when alpah value close to 10^-1, the mean square error increased.  A alpha value near 10^-2 might be the idea choice for alpha/lambda/k."
   ]
  },
  {
   "cell_type": "code",
   "execution_count": 83,
   "metadata": {
    "colab": {
     "base_uri": "https://localhost:8080/",
     "height": 52
    },
    "colab_type": "code",
    "id": "RTVEqKsS76vX",
    "outputId": "71767348-fbcb-4699-8c71-0aff3aac8fcf"
   },
   "outputs": [
    {
     "data": {
      "text/plain": [
       "Ridge(alpha=0.01, copy_X=True, fit_intercept=True, max_iter=None,\n",
       "      normalize=False, random_state=None, solver='auto', tol=0.001)"
      ]
     },
     "execution_count": 83,
     "metadata": {
      "tags": []
     },
     "output_type": "execute_result"
    }
   ],
   "source": [
    "#run a ridge model using alpha value = 10^-2 \n",
    "rr = Ridge(alpha=0.01) # higher the alpha value, more restriction on the coefficients; low alpha > more generalization, coefficients are barely\n",
    "# restricted and in this case linear and ridge regression resembles\n",
    "rr.fit(X_train, y_train)"
   ]
  },
  {
   "cell_type": "code",
   "execution_count": 0,
   "metadata": {
    "colab": {},
    "colab_type": "code",
    "id": "TigQj3kr8FgX"
   },
   "outputs": [],
   "source": [
    "#R-square of the ridge regression on training dataset \n",
    "rr_rs=rr.score(X_train,y_train)\n",
    "\n",
    "#R-square of the ridge regression on training dataset \n",
    "rr_trs=rr.score(X_test,y_test)\n",
    "\n",
    "\n",
    "#Prediction result \n",
    "rr_msle=mean_squared_log_error(y_test, rr.predict(X_test))  "
   ]
  },
  {
   "cell_type": "markdown",
   "metadata": {
    "colab_type": "text",
    "id": "bGpwfzd5jmao"
   },
   "source": [
    "### Lasso Regression  - Use the orginial dataset"
   ]
  },
  {
   "cell_type": "code",
   "execution_count": 85,
   "metadata": {
    "colab": {
     "base_uri": "https://localhost:8080/",
     "height": 35
    },
    "colab_type": "code",
    "id": "Qzsvymxajmaq",
    "outputId": "a3bc0e49-017f-4080-f1f5-734b9abde3e4"
   },
   "outputs": [
    {
     "data": {
      "text/plain": [
       "LinearRegression(copy_X=True, fit_intercept=True, n_jobs=None, normalize=False)"
      ]
     },
     "execution_count": 85,
     "metadata": {
      "tags": []
     },
     "output_type": "execute_result"
    }
   ],
   "source": [
    "X_train,X_test,y_train,y_test=train_test_split(X_orig,Y,test_size=0.3,random_state=3)\n",
    "lr = LinearRegression()\n",
    "lr.fit(X_train, y_train)"
   ]
  },
  {
   "cell_type": "code",
   "execution_count": 86,
   "metadata": {
    "colab": {
     "base_uri": "https://localhost:8080/",
     "height": 35
    },
    "colab_type": "code",
    "id": "FTvgCc33jma2",
    "outputId": "fb5ecd91-468b-4c41-aac5-7f60b556d002"
   },
   "outputs": [
    {
     "data": {
      "text/plain": [
       "0.9530193196999682"
      ]
     },
     "execution_count": 86,
     "metadata": {
      "tags": []
     },
     "output_type": "execute_result"
    }
   ],
   "source": [
    "lr.score(X_train,y_train)"
   ]
  },
  {
   "cell_type": "code",
   "execution_count": 87,
   "metadata": {
    "colab": {
     "base_uri": "https://localhost:8080/",
     "height": 35
    },
    "colab_type": "code",
    "id": "QJvy6ZgFjmbF",
    "outputId": "2850225f-83e5-434e-bbd1-a05b605e2e63"
   },
   "outputs": [
    {
     "data": {
      "text/plain": [
       "0.7811746426189593"
      ]
     },
     "execution_count": 87,
     "metadata": {
      "tags": []
     },
     "output_type": "execute_result"
    }
   ],
   "source": [
    "lr.score(X_test,y_test)"
   ]
  },
  {
   "cell_type": "code",
   "execution_count": 0,
   "metadata": {
    "colab": {},
    "colab_type": "code",
    "id": "b4aFBGosjmbW"
   },
   "outputs": [],
   "source": [
    "from sklearn.linear_model import Lasso"
   ]
  },
  {
   "cell_type": "code",
   "execution_count": 89,
   "metadata": {
    "colab": {
     "base_uri": "https://localhost:8080/",
     "height": 124
    },
    "colab_type": "code",
    "id": "F3-bMUr2jmbd",
    "outputId": "7645cd63-dc67-45c9-c8a9-cce4129c748f"
   },
   "outputs": [
    {
     "name": "stdout",
     "output_type": "stream",
     "text": [
      "training score: 0.9528113780728583\n",
      "test score:  0.785214128214621\n",
      "number of features used:  239\n"
     ]
    },
    {
     "name": "stderr",
     "output_type": "stream",
     "text": [
      "/usr/local/lib/python3.6/dist-packages/sklearn/linear_model/coordinate_descent.py:475: ConvergenceWarning: Objective did not converge. You might want to increase the number of iterations. Duality gap: 159546094320.86835, tolerance: 647008613.975175\n",
      "  positive)\n"
     ]
    }
   ],
   "source": [
    "lasso = Lasso()\n",
    "lasso.fit(X_train,y_train)\n",
    "train_score=lasso.score(X_train,y_train)\n",
    "test_score=lasso.score(X_test,y_test)\n",
    "coeff_used = np.sum(lasso.coef_!=0)\n",
    "print(\"training score:\", train_score)\n",
    "print(\"test score: \", test_score)\n",
    "print(\"number of features used: \", coeff_used)\n",
    "#Lasso have a slightly better imporvemnt than ridge regression\n"
   ]
  },
  {
   "cell_type": "code",
   "execution_count": 90,
   "metadata": {
    "colab": {
     "base_uri": "https://localhost:8080/",
     "height": 173
    },
    "colab_type": "code",
    "id": "qbFFEhQGjmbj",
    "outputId": "0808289f-ec37-4f66-88e8-fe7df121bb61"
   },
   "outputs": [
    {
     "name": "stdout",
     "output_type": "stream",
     "text": [
      "training score for alpha=0.01: 0.9530193013752705\n",
      "test score for alpha =0.01:  0.7856270371181654\n",
      "number of features used: for alpha =0.01: 247\n",
      "training score for alpha=2: 0.9525700204450875\n",
      "test score for alpha =2:  0.7861051465714156\n",
      "number of features used: for alpha =2: 231\n",
      "training score for alpha=10: 0.9482811153981022\n",
      "test score for alpha =10:  0.8087854360715887\n",
      "number of features used: for alpha =10: 207\n"
     ]
    }
   ],
   "source": [
    "lasso001 = Lasso(alpha=0.01, max_iter=10e5)\n",
    "lasso001.fit(X_train,y_train)\n",
    "train_score001=lasso001.score(X_train,y_train)\n",
    "test_score001=lasso001.score(X_test,y_test)\n",
    "coeff_used001 = np.sum(lasso001.coef_!=0)\n",
    "print (\"training score for alpha=0.01:\", train_score001 )\n",
    "print (\"test score for alpha =0.01: \", test_score001)\n",
    "print (\"number of features used: for alpha =0.01:\", coeff_used001)\n",
    "lasso2 = Lasso(alpha=2, max_iter=10e5)\n",
    "lasso2.fit(X_train,y_train)\n",
    "train_score2=lasso2.score(X_train,y_train)\n",
    "test_score2=lasso2.score(X_test,y_test)\n",
    "coeff_used2 = np.sum(lasso2.coef_!=0)\n",
    "print (\"training score for alpha=2:\", train_score2) \n",
    "print (\"test score for alpha =2: \", test_score2)\n",
    "print (\"number of features used: for alpha =2:\", coeff_used2)\n",
    "#alpha value 2 slightly over perform te alpha value 0.01\n",
    "\n",
    "\n",
    "lasso10 = Lasso(alpha=10, max_iter=10e5)\n",
    "lasso10.fit(X_train,y_train)\n",
    "train_score10=lasso10.score(X_train,y_train)\n",
    "test_score10=lasso10.score(X_test,y_test)\n",
    "coeff_used10 = np.sum(lasso10.coef_!=0)\n",
    "print (\"training score for alpha=10:\", train_score10) \n",
    "print (\"test score for alpha =10: \", test_score10)\n",
    "print (\"number of features used: for alpha =10:\", coeff_used10)\n",
    "#alpha value 10 slightly over perform te alpha value 2"
   ]
  },
  {
   "cell_type": "code",
   "execution_count": 91,
   "metadata": {
    "colab": {
     "base_uri": "https://localhost:8080/",
     "height": 69
    },
    "colab_type": "code",
    "id": "-T4XrFPtjmbo",
    "outputId": "7ba8aa0d-e271-483c-b23c-e1c2c966b347"
   },
   "outputs": [
    {
     "name": "stdout",
     "output_type": "stream",
     "text": [
      "training score for alpha=100: 0.9161237787810805\n",
      "test score for alpha =100:  0.8159754280065404\n",
      "number of features used: for alpha =100: 114\n"
     ]
    }
   ],
   "source": [
    "lasso100 = Lasso(alpha=100, max_iter=10e5)\n",
    "lasso100.fit(X_train,y_train)\n",
    "train_score100=lasso100.score(X_train,y_train)\n",
    "test_score100=lasso100.score(X_test,y_test)\n",
    "coeff_used100 = np.sum(lasso100.coef_!=0)\n",
    "print (\"training score for alpha=100:\", train_score100) \n",
    "print (\"test score for alpha =100: \", test_score100)\n",
    "print (\"number of features used: for alpha =100:\", coeff_used100)\n",
    "#alpha value 100 slightly over perform te alpha value 10"
   ]
  },
  {
   "cell_type": "markdown",
   "metadata": {
    "colab_type": "text",
    "id": "gIW3tgSQ9AP-"
   },
   "source": [
    "A larger alpha value of lasso regression result in better perforaance on test dataset."
   ]
  },
  {
   "cell_type": "code",
   "execution_count": 92,
   "metadata": {
    "colab": {
     "base_uri": "https://localhost:8080/",
     "height": 729
    },
    "colab_type": "code",
    "id": "dhNP-po1jmbu",
    "outputId": "bc88abb9-fb64-4638-bb9a-a89e878be73c"
   },
   "outputs": [
    {
     "data": {
      "image/png": "[encoded data removed]",
      "text/plain": [
       "<Figure size 720x720 with 1 Axes>"
      ]
     },
     "metadata": {
      "tags": []
     },
     "output_type": "display_data"
    }
   ],
   "source": [
    "fig = plt.figure(figsize=(10, 10))\n",
    "plt.plot(lasso.coef_,alpha=0.7,linestyle='none',marker='*',markersize=5,color='red',label=r'Lasso; $\\alpha = 1$',zorder=7) # alpha here is for transparency\n",
    "plt.plot(lasso2.coef_,alpha=0.8,linestyle='none',marker='v',markersize=6,color='black',label=r'Lasso; $\\alpha = 2$') # alpha here is for transparency\n",
    "plt.plot(lasso10.coef_,alpha=0.7,linestyle='none',marker='o',markersize=5,color='green',label=r'Lasso; $\\alpha = 10$',zorder=2)\n",
    "plt.plot(lasso100.coef_,alpha=0.5,linestyle='none',marker='d',markersize=6,color='blue',label=r'Lasso; $\\alpha = 100$') # alpha here is for transparency\n",
    "plt.xlabel('Coefficient Index',fontsize=16)\n",
    "plt.ylabel('Coefficient Magnitude',fontsize=16)\n",
    "plt.legend(fontsize=13,loc=4)\n",
    "plt.tight_layout()\n",
    "plt.show()"
   ]
  },
  {
   "cell_type": "markdown",
   "metadata": {
    "colab_type": "text",
    "id": "dTjiHXfS9IDX"
   },
   "source": [
    "As the alpha value increase, most of the coefficient got set as 0. "
   ]
  },
  {
   "cell_type": "code",
   "execution_count": 0,
   "metadata": {
    "colab": {},
    "colab_type": "code",
    "id": "zyXBt4QfBxRY"
   },
   "outputs": [],
   "source": [
    "#Best lasso model \n",
    "lasso100 = Lasso(alpha=100, max_iter=10e5)\n",
    "lasso100.fit(X_train,y_train)\n",
    "\n",
    "#R-square of the lasso regression on training dataset \n",
    "ls_rs=lasso100.score(X_train,y_train)\n",
    "\n",
    "#R-square of the lasso regression on training dataset \n",
    "ls_trs=lasso100.score(X_test,y_test)\n",
    "\n",
    "\n",
    "#Prediction result \n",
    "ls_msle=mean_squared_log_error(y_test, lasso100.predict(X_test))  "
   ]
  },
  {
   "cell_type": "markdown",
   "metadata": {
    "colab_type": "text",
    "id": "2ARNly06CMaS"
   },
   "source": [
    "### Tree Model"
   ]
  },
  {
   "cell_type": "code",
   "execution_count": 94,
   "metadata": {
    "colab": {
     "base_uri": "https://localhost:8080/",
     "height": 139
    },
    "colab_type": "code",
    "id": "O_5MZvZmCOsF",
    "outputId": "6f389b05-d756-4a13-ce40-bda232b8628a"
   },
   "outputs": [
    {
     "data": {
      "text/plain": [
       "RandomForestRegressor(bootstrap=True, criterion='mse', max_depth=None,\n",
       "                      max_features='auto', max_leaf_nodes=None,\n",
       "                      min_impurity_decrease=0.0, min_impurity_split=None,\n",
       "                      min_samples_leaf=1, min_samples_split=2,\n",
       "                      min_weight_fraction_leaf=0.0, n_estimators=1000,\n",
       "                      n_jobs=None, oob_score=False, random_state=42, verbose=0,\n",
       "                      warm_start=False)"
      ]
     },
     "execution_count": 94,
     "metadata": {
      "tags": []
     },
     "output_type": "execute_result"
    }
   ],
   "source": [
    "X_train,X_test,y_train,y_test=train_test_split(X_orig,Y,test_size=0.3,random_state=3)\n",
    "\n",
    "\n",
    "\n",
    "# Import the model we are using\n",
    "from sklearn.ensemble import RandomForestRegressor\n",
    "# Instantiate model with 1000 decision trees\n",
    "rf = RandomForestRegressor(n_estimators = 1000, random_state = 42)\n",
    "# Train the model on training data\n",
    "rf.fit(X_train, y_train)"
   ]
  },
  {
   "cell_type": "code",
   "execution_count": 0,
   "metadata": {
    "colab": {},
    "colab_type": "code",
    "id": "2bI3yjRuDcU7"
   },
   "outputs": [],
   "source": [
    "feature=X_orig.columns.tolist()\n",
    "feature_list=feature"
   ]
  },
  {
   "cell_type": "code",
   "execution_count": 0,
   "metadata": {
    "colab": {},
    "colab_type": "code",
    "id": "2FO4GXloDTER"
   },
   "outputs": [],
   "source": [
    "# Import tools needed for visualization\n",
    "from sklearn.tree import export_graphviz\n",
    "import pydot\n",
    "# Pull out one tree from the forest\n",
    "tree = rf.estimators_[5]\n",
    "# Import tools needed for visualization\n",
    "from sklearn.tree import export_graphviz\n",
    "import pydot\n",
    "# Pull out one tree from the forest\n",
    "tree = rf.estimators_[5]\n",
    "# Export the image to a dot file\n",
    "export_graphviz(tree, out_file = 'tree.dot', feature_names = feature_list, rounded = True, precision = 1)\n",
    "# Use dot file to create a graph\n",
    "(graph, ) = pydot.graph_from_dot_file('tree.dot')\n",
    "# Write graph to a png file\n",
    "graph.write_png('tree.png')"
   ]
  },
  {
   "cell_type": "code",
   "execution_count": 0,
   "metadata": {
    "colab": {},
    "colab_type": "code",
    "id": "vfCI1a14Eljx"
   },
   "outputs": [],
   "source": [
    "files.download( \"tree.png\" )  "
   ]
  },
  {
   "cell_type": "code",
   "execution_count": 98,
   "metadata": {
    "colab": {
     "base_uri": "https://localhost:8080/",
     "height": 4507
    },
    "colab_type": "code",
    "id": "v4KOTZv6Ceam",
    "outputId": "fb433e62-1040-4ce8-8e81-ef439616c3a6"
   },
   "outputs": [
    {
     "name": "stdout",
     "output_type": "stream",
     "text": [
      "Variable: OverallQual          Importance: 0.56\n",
      "Variable: GrLivArea            Importance: 0.13\n",
      "Variable: 2ndFlrSF             Importance: 0.04\n",
      "Variable: TotalBsmtSF          Importance: 0.03\n",
      "Variable: GarageCars           Importance: 0.03\n",
      "Variable: BsmtFinSF1           Importance: 0.02\n",
      "Variable: 1stFlrSF             Importance: 0.02\n",
      "Variable: GarageArea           Importance: 0.02\n",
      "Variable: LotArea              Importance: 0.01\n",
      "Variable: YearBuilt            Importance: 0.01\n",
      "Variable: YearRemodAdd         Importance: 0.01\n",
      "Variable: MasVnrArea           Importance: 0.01\n",
      "Variable: FullBath             Importance: 0.01\n",
      "Variable: TotRmsAbvGrd         Importance: 0.01\n",
      "Variable: GarageYrBlt          Importance: 0.01\n",
      "Variable: MSSubClass           Importance: 0.0\n",
      "Variable: LotFrontage          Importance: 0.0\n",
      "Variable: OverallCond          Importance: 0.0\n",
      "Variable: BsmtFinSF2           Importance: 0.0\n",
      "Variable: BsmtUnfSF            Importance: 0.0\n",
      "Variable: LowQualFinSF         Importance: 0.0\n",
      "Variable: BsmtFullBath         Importance: 0.0\n",
      "Variable: BsmtHalfBath         Importance: 0.0\n",
      "Variable: HalfBath             Importance: 0.0\n",
      "Variable: BedroomAbvGr         Importance: 0.0\n",
      "Variable: KitchenAbvGr         Importance: 0.0\n",
      "Variable: Fireplaces           Importance: 0.0\n",
      "Variable: WoodDeckSF           Importance: 0.0\n",
      "Variable: OpenPorchSF          Importance: 0.0\n",
      "Variable: EnclosedPorch        Importance: 0.0\n",
      "Variable: 3SsnPorch            Importance: 0.0\n",
      "Variable: ScreenPorch          Importance: 0.0\n",
      "Variable: PoolArea             Importance: 0.0\n",
      "Variable: MiscVal              Importance: 0.0\n",
      "Variable: MoSold               Importance: 0.0\n",
      "Variable: YrSold               Importance: 0.0\n",
      "Variable: MSZoning_FV          Importance: 0.0\n",
      "Variable: MSZoning_RH          Importance: 0.0\n",
      "Variable: MSZoning_RL          Importance: 0.0\n",
      "Variable: MSZoning_RM          Importance: 0.0\n",
      "Variable: Street_Pave          Importance: 0.0\n",
      "Variable: Alley_None           Importance: 0.0\n",
      "Variable: Alley_Pave           Importance: 0.0\n",
      "Variable: LotShape_IR2         Importance: 0.0\n",
      "Variable: LotShape_IR3         Importance: 0.0\n",
      "Variable: LotShape_Reg         Importance: 0.0\n",
      "Variable: LandContour_HLS      Importance: 0.0\n",
      "Variable: LandContour_Low      Importance: 0.0\n",
      "Variable: LandContour_Lvl      Importance: 0.0\n",
      "Variable: Utilities_NoSeWa     Importance: 0.0\n",
      "Variable: LotConfig_CulDSac    Importance: 0.0\n",
      "Variable: LotConfig_FR2        Importance: 0.0\n",
      "Variable: LotConfig_FR3        Importance: 0.0\n",
      "Variable: LotConfig_Inside     Importance: 0.0\n",
      "Variable: LandSlope_Mod        Importance: 0.0\n",
      "Variable: LandSlope_Sev        Importance: 0.0\n",
      "Variable: Neighborhood_Blueste Importance: 0.0\n",
      "Variable: Neighborhood_BrDale  Importance: 0.0\n",
      "Variable: Neighborhood_BrkSide Importance: 0.0\n",
      "Variable: Neighborhood_ClearCr Importance: 0.0\n",
      "Variable: Neighborhood_CollgCr Importance: 0.0\n",
      "Variable: Neighborhood_Crawfor Importance: 0.0\n",
      "Variable: Neighborhood_Edwards Importance: 0.0\n",
      "Variable: Neighborhood_Gilbert Importance: 0.0\n",
      "Variable: Neighborhood_IDOTRR  Importance: 0.0\n",
      "Variable: Neighborhood_MeadowV Importance: 0.0\n",
      "Variable: Neighborhood_Mitchel Importance: 0.0\n",
      "Variable: Neighborhood_NAmes   Importance: 0.0\n",
      "Variable: Neighborhood_NPkVill Importance: 0.0\n",
      "Variable: Neighborhood_NWAmes  Importance: 0.0\n",
      "Variable: Neighborhood_NoRidge Importance: 0.0\n",
      "Variable: Neighborhood_NridgHt Importance: 0.0\n",
      "Variable: Neighborhood_OldTown Importance: 0.0\n",
      "Variable: Neighborhood_SWISU   Importance: 0.0\n",
      "Variable: Neighborhood_Sawyer  Importance: 0.0\n",
      "Variable: Neighborhood_SawyerW Importance: 0.0\n",
      "Variable: Neighborhood_Somerst Importance: 0.0\n",
      "Variable: Neighborhood_StoneBr Importance: 0.0\n",
      "Variable: Neighborhood_Timber  Importance: 0.0\n",
      "Variable: Neighborhood_Veenker Importance: 0.0\n",
      "Variable: Condition1_Feedr     Importance: 0.0\n",
      "Variable: Condition1_Norm      Importance: 0.0\n",
      "Variable: Condition1_PosA      Importance: 0.0\n",
      "Variable: Condition1_PosN      Importance: 0.0\n",
      "Variable: Condition1_RRAe      Importance: 0.0\n",
      "Variable: Condition1_RRAn      Importance: 0.0\n",
      "Variable: Condition1_RRNe      Importance: 0.0\n",
      "Variable: Condition1_RRNn      Importance: 0.0\n",
      "Variable: Condition2_Feedr     Importance: 0.0\n",
      "Variable: Condition2_Norm      Importance: 0.0\n",
      "Variable: Condition2_PosA      Importance: 0.0\n",
      "Variable: Condition2_PosN      Importance: 0.0\n",
      "Variable: Condition2_RRAe      Importance: 0.0\n",
      "Variable: Condition2_RRAn      Importance: 0.0\n",
      "Variable: Condition2_RRNn      Importance: 0.0\n",
      "Variable: BldgType_2fmCon      Importance: 0.0\n",
      "Variable: BldgType_Duplex      Importance: 0.0\n",
      "Variable: BldgType_Twnhs       Importance: 0.0\n",
      "Variable: BldgType_TwnhsE      Importance: 0.0\n",
      "Variable: HouseStyle_1.5Unf    Importance: 0.0\n",
      "Variable: HouseStyle_1Story    Importance: 0.0\n",
      "Variable: HouseStyle_2.5Fin    Importance: 0.0\n",
      "Variable: HouseStyle_2.5Unf    Importance: 0.0\n",
      "Variable: HouseStyle_2Story    Importance: 0.0\n",
      "Variable: HouseStyle_SFoyer    Importance: 0.0\n",
      "Variable: HouseStyle_SLvl      Importance: 0.0\n",
      "Variable: RoofStyle_Gable      Importance: 0.0\n",
      "Variable: RoofStyle_Gambrel    Importance: 0.0\n",
      "Variable: RoofStyle_Hip        Importance: 0.0\n",
      "Variable: RoofStyle_Mansard    Importance: 0.0\n",
      "Variable: RoofStyle_Shed       Importance: 0.0\n",
      "Variable: RoofMatl_CompShg     Importance: 0.0\n",
      "Variable: RoofMatl_Membran     Importance: 0.0\n",
      "Variable: RoofMatl_Metal       Importance: 0.0\n",
      "Variable: RoofMatl_Roll        Importance: 0.0\n",
      "Variable: RoofMatl_Tar&Grv     Importance: 0.0\n",
      "Variable: RoofMatl_WdShake     Importance: 0.0\n",
      "Variable: RoofMatl_WdShngl     Importance: 0.0\n",
      "Variable: Exterior1st_AsphShn  Importance: 0.0\n",
      "Variable: Exterior1st_BrkComm  Importance: 0.0\n",
      "Variable: Exterior1st_BrkFace  Importance: 0.0\n",
      "Variable: Exterior1st_CBlock   Importance: 0.0\n",
      "Variable: Exterior1st_CemntBd  Importance: 0.0\n",
      "Variable: Exterior1st_HdBoard  Importance: 0.0\n",
      "Variable: Exterior1st_ImStucc  Importance: 0.0\n",
      "Variable: Exterior1st_MetalSd  Importance: 0.0\n",
      "Variable: Exterior1st_Plywood  Importance: 0.0\n",
      "Variable: Exterior1st_Stone    Importance: 0.0\n",
      "Variable: Exterior1st_Stucco   Importance: 0.0\n",
      "Variable: Exterior1st_VinylSd  Importance: 0.0\n",
      "Variable: Exterior1st_Wd Sdng  Importance: 0.0\n",
      "Variable: Exterior1st_WdShing  Importance: 0.0\n",
      "Variable: Exterior2nd_AsphShn  Importance: 0.0\n",
      "Variable: Exterior2nd_Brk Cmn  Importance: 0.0\n",
      "Variable: Exterior2nd_BrkFace  Importance: 0.0\n",
      "Variable: Exterior2nd_CBlock   Importance: 0.0\n",
      "Variable: Exterior2nd_CmentBd  Importance: 0.0\n",
      "Variable: Exterior2nd_HdBoard  Importance: 0.0\n",
      "Variable: Exterior2nd_ImStucc  Importance: 0.0\n",
      "Variable: Exterior2nd_MetalSd  Importance: 0.0\n",
      "Variable: Exterior2nd_Other    Importance: 0.0\n",
      "Variable: Exterior2nd_Plywood  Importance: 0.0\n",
      "Variable: Exterior2nd_Stone    Importance: 0.0\n",
      "Variable: Exterior2nd_Stucco   Importance: 0.0\n",
      "Variable: Exterior2nd_VinylSd  Importance: 0.0\n",
      "Variable: Exterior2nd_Wd Sdng  Importance: 0.0\n",
      "Variable: Exterior2nd_Wd Shng  Importance: 0.0\n",
      "Variable: MasVnrType_BrkFace   Importance: 0.0\n",
      "Variable: MasVnrType_None      Importance: 0.0\n",
      "Variable: MasVnrType_Stone     Importance: 0.0\n",
      "Variable: ExterQual_Fa         Importance: 0.0\n",
      "Variable: ExterQual_Gd         Importance: 0.0\n",
      "Variable: ExterQual_TA         Importance: 0.0\n",
      "Variable: ExterCond_Fa         Importance: 0.0\n",
      "Variable: ExterCond_Gd         Importance: 0.0\n",
      "Variable: ExterCond_Po         Importance: 0.0\n",
      "Variable: ExterCond_TA         Importance: 0.0\n",
      "Variable: Foundation_CBlock    Importance: 0.0\n",
      "Variable: Foundation_PConc     Importance: 0.0\n",
      "Variable: Foundation_Slab      Importance: 0.0\n",
      "Variable: Foundation_Stone     Importance: 0.0\n",
      "Variable: Foundation_Wood      Importance: 0.0\n",
      "Variable: BsmtQual_Fa          Importance: 0.0\n",
      "Variable: BsmtQual_Gd          Importance: 0.0\n",
      "Variable: BsmtQual_None        Importance: 0.0\n",
      "Variable: BsmtQual_TA          Importance: 0.0\n",
      "Variable: BsmtCond_Gd          Importance: 0.0\n",
      "Variable: BsmtCond_None        Importance: 0.0\n",
      "Variable: BsmtCond_Po          Importance: 0.0\n",
      "Variable: BsmtCond_TA          Importance: 0.0\n",
      "Variable: BsmtExposure_Gd      Importance: 0.0\n",
      "Variable: BsmtExposure_Mn      Importance: 0.0\n",
      "Variable: BsmtExposure_No      Importance: 0.0\n",
      "Variable: BsmtExposure_None    Importance: 0.0\n",
      "Variable: BsmtFinType1_BLQ     Importance: 0.0\n",
      "Variable: BsmtFinType1_GLQ     Importance: 0.0\n",
      "Variable: BsmtFinType1_LwQ     Importance: 0.0\n",
      "Variable: BsmtFinType1_None    Importance: 0.0\n",
      "Variable: BsmtFinType1_Rec     Importance: 0.0\n",
      "Variable: BsmtFinType1_Unf     Importance: 0.0\n",
      "Variable: BsmtFinType2_BLQ     Importance: 0.0\n",
      "Variable: BsmtFinType2_GLQ     Importance: 0.0\n",
      "Variable: BsmtFinType2_LwQ     Importance: 0.0\n",
      "Variable: BsmtFinType2_None    Importance: 0.0\n",
      "Variable: BsmtFinType2_Rec     Importance: 0.0\n",
      "Variable: BsmtFinType2_Unf     Importance: 0.0\n",
      "Variable: Heating_GasA         Importance: 0.0\n",
      "Variable: Heating_GasW         Importance: 0.0\n",
      "Variable: Heating_Grav         Importance: 0.0\n",
      "Variable: Heating_OthW         Importance: 0.0\n",
      "Variable: Heating_Wall         Importance: 0.0\n",
      "Variable: HeatingQC_Fa         Importance: 0.0\n",
      "Variable: HeatingQC_Gd         Importance: 0.0\n",
      "Variable: HeatingQC_Po         Importance: 0.0\n",
      "Variable: HeatingQC_TA         Importance: 0.0\n",
      "Variable: CentralAir_Y         Importance: 0.0\n",
      "Variable: Electrical_FuseF     Importance: 0.0\n",
      "Variable: Electrical_FuseP     Importance: 0.0\n",
      "Variable: Electrical_Mix       Importance: 0.0\n",
      "Variable: Electrical_SBrkr     Importance: 0.0\n",
      "Variable: KitchenQual_Fa       Importance: 0.0\n",
      "Variable: KitchenQual_Gd       Importance: 0.0\n",
      "Variable: KitchenQual_TA       Importance: 0.0\n",
      "Variable: Functional_Maj2      Importance: 0.0\n",
      "Variable: Functional_Min1      Importance: 0.0\n",
      "Variable: Functional_Min2      Importance: 0.0\n",
      "Variable: Functional_Mod       Importance: 0.0\n",
      "Variable: Functional_Sev       Importance: 0.0\n",
      "Variable: Functional_Typ       Importance: 0.0\n",
      "Variable: FireplaceQu_Fa       Importance: 0.0\n",
      "Variable: FireplaceQu_Gd       Importance: 0.0\n",
      "Variable: FireplaceQu_None     Importance: 0.0\n",
      "Variable: FireplaceQu_Po       Importance: 0.0\n",
      "Variable: FireplaceQu_TA       Importance: 0.0\n",
      "Variable: GarageType_Attchd    Importance: 0.0\n",
      "Variable: GarageType_Basment   Importance: 0.0\n",
      "Variable: GarageType_BuiltIn   Importance: 0.0\n",
      "Variable: GarageType_CarPort   Importance: 0.0\n",
      "Variable: GarageType_Detchd    Importance: 0.0\n",
      "Variable: GarageType_None      Importance: 0.0\n",
      "Variable: GarageFinish_None    Importance: 0.0\n",
      "Variable: GarageFinish_RFn     Importance: 0.0\n",
      "Variable: GarageFinish_Unf     Importance: 0.0\n",
      "Variable: GarageQual_Fa        Importance: 0.0\n",
      "Variable: GarageQual_Gd        Importance: 0.0\n",
      "Variable: GarageQual_None      Importance: 0.0\n",
      "Variable: GarageQual_Po        Importance: 0.0\n",
      "Variable: GarageQual_TA        Importance: 0.0\n",
      "Variable: GarageCond_Fa        Importance: 0.0\n",
      "Variable: GarageCond_Gd        Importance: 0.0\n",
      "Variable: GarageCond_None      Importance: 0.0\n",
      "Variable: GarageCond_Po        Importance: 0.0\n",
      "Variable: GarageCond_TA        Importance: 0.0\n",
      "Variable: PavedDrive_P         Importance: 0.0\n",
      "Variable: PavedDrive_Y         Importance: 0.0\n",
      "Variable: PoolQC_Fa            Importance: 0.0\n",
      "Variable: PoolQC_Gd            Importance: 0.0\n",
      "Variable: PoolQC_None          Importance: 0.0\n",
      "Variable: Fence_GdWo           Importance: 0.0\n",
      "Variable: Fence_MnPrv          Importance: 0.0\n",
      "Variable: Fence_MnWw           Importance: 0.0\n",
      "Variable: Fence_None           Importance: 0.0\n",
      "Variable: MiscFeature_None     Importance: 0.0\n",
      "Variable: MiscFeature_Othr     Importance: 0.0\n",
      "Variable: MiscFeature_Shed     Importance: 0.0\n",
      "Variable: MiscFeature_TenC     Importance: 0.0\n",
      "Variable: SaleType_CWD         Importance: 0.0\n",
      "Variable: SaleType_Con         Importance: 0.0\n",
      "Variable: SaleType_ConLD       Importance: 0.0\n",
      "Variable: SaleType_ConLI       Importance: 0.0\n",
      "Variable: SaleType_ConLw       Importance: 0.0\n",
      "Variable: SaleType_New         Importance: 0.0\n",
      "Variable: SaleType_Oth         Importance: 0.0\n",
      "Variable: SaleType_WD          Importance: 0.0\n",
      "Variable: SaleCondition_AdjLand Importance: 0.0\n",
      "Variable: SaleCondition_Alloca Importance: 0.0\n",
      "Variable: SaleCondition_Family Importance: 0.0\n",
      "Variable: SaleCondition_Normal Importance: 0.0\n",
      "Variable: SaleCondition_Partial Importance: 0.0\n"
     ]
    }
   ],
   "source": [
    "# Get numerical feature importances\n",
    "importances = list(rf.feature_importances_)\n",
    "# List of tuples with variable and importance\n",
    "\n",
    "feature_importances = [(feature, round(importance, 2)) for feature, importance in zip(feature_list, importances)]\n",
    "# Sort the feature importances by most important first\n",
    "feature_importances = sorted(feature_importances, key = lambda x: x[1], reverse = True)\n",
    "# Print out the feature and importances \n",
    "[print('Variable: {:20} Importance: {}'.format(*pair)) for pair in feature_importances];"
   ]
  },
  {
   "cell_type": "code",
   "execution_count": 99,
   "metadata": {
    "colab": {
     "base_uri": "https://localhost:8080/",
     "height": 277
    },
    "colab_type": "code",
    "id": "npp6-Zs9DiMt",
    "outputId": "9f1a3a70-8044-4790-e6b6-6dd238c28521"
   },
   "outputs": [
    {
     "data": {
      "text/plain": [
       "[('OverallQual', 0.56),\n",
       " ('GrLivArea', 0.13),\n",
       " ('2ndFlrSF', 0.04),\n",
       " ('TotalBsmtSF', 0.03),\n",
       " ('GarageCars', 0.03),\n",
       " ('BsmtFinSF1', 0.02),\n",
       " ('1stFlrSF', 0.02),\n",
       " ('GarageArea', 0.02),\n",
       " ('LotArea', 0.01),\n",
       " ('YearBuilt', 0.01),\n",
       " ('YearRemodAdd', 0.01),\n",
       " ('MasVnrArea', 0.01),\n",
       " ('FullBath', 0.01),\n",
       " ('TotRmsAbvGrd', 0.01),\n",
       " ('GarageYrBlt', 0.01)]"
      ]
     },
     "execution_count": 99,
     "metadata": {
      "tags": []
     },
     "output_type": "execute_result"
    }
   ],
   "source": [
    "#select the variables with importance value greater than 0\n",
    "[t for t in feature_importances if t[1]>0]"
   ]
  },
  {
   "cell_type": "code",
   "execution_count": 0,
   "metadata": {
    "colab": {},
    "colab_type": "code",
    "id": "GdBQ2rJ_D6r5"
   },
   "outputs": [],
   "source": [
    "features=[t[0] for t in feature_importances if t[1]>0]"
   ]
  },
  {
   "cell_type": "code",
   "execution_count": 0,
   "metadata": {
    "colab": {},
    "colab_type": "code",
    "id": "x5AbgE24DMf7"
   },
   "outputs": [],
   "source": [
    "#Use only the features than with importance higher than 0.0 and run linear regression"
   ]
  },
  {
   "cell_type": "code",
   "execution_count": 102,
   "metadata": {
    "colab": {
     "base_uri": "https://localhost:8080/",
     "height": 35
    },
    "colab_type": "code",
    "id": "nHV_7Eg3EBHL",
    "outputId": "c90caeb0-2901-4725-d64d-da87011807eb"
   },
   "outputs": [
    {
     "data": {
      "text/plain": [
       "LinearRegression(copy_X=True, fit_intercept=True, n_jobs=None, normalize=False)"
      ]
     },
     "execution_count": 102,
     "metadata": {
      "tags": []
     },
     "output_type": "execute_result"
    }
   ],
   "source": [
    "X_train,X_test,y_train,y_test=train_test_split(X_orig[features],Y,test_size=0.3,random_state=3)\n",
    "lr = LinearRegression()\n",
    "lr.fit(X_train, y_train)"
   ]
  },
  {
   "cell_type": "code",
   "execution_count": 0,
   "metadata": {
    "colab": {},
    "colab_type": "code",
    "id": "sc_yhSZ6EL-y"
   },
   "outputs": [],
   "source": [
    "#R-square of the linear regression on training dataset seleted by random forest\n",
    "tree_lr_rs=lr.score(X_train,y_train)\n",
    "\n",
    "#R-square of the linear regression on test dataset seleted by random forest\n",
    "tree_lr_trs=lr.score(X_test,y_test)\n",
    "\n",
    "\n",
    "#Prediction result \n",
    "tree_lr_msle=mean_squared_log_error(y_test, lr.predict(X_test))  "
   ]
  },
  {
   "cell_type": "markdown",
   "metadata": {
    "colab_type": "text",
    "id": "IuAoBJpuFPMN"
   },
   "source": [
    "### Compare result of ridge, lasso and tree"
   ]
  },
  {
   "cell_type": "code",
   "execution_count": 104,
   "metadata": {
    "colab": {
     "base_uri": "https://localhost:8080/",
     "height": 281
    },
    "colab_type": "code",
    "id": "aVsYvmFVFSZ5",
    "outputId": "818b7189-4136-43d3-dae6-964690a1d3e9"
   },
   "outputs": [
    {
     "data": {
      "image/png": "[encoded data removed]",
      "text/plain": [
       "<Figure size 432x288 with 1 Axes>"
      ]
     },
     "metadata": {
      "tags": []
     },
     "output_type": "display_data"
    }
   ],
   "source": [
    " \n",
    "  \n",
    "# Make fake dataset\n",
    "height = [orig_lr_msle,rr_msle, ls_msle, tree_lr_msle]\n",
    "bars = ('Original', 'Ridge','Lasso','Tree')\n",
    " \n",
    "# Choose the position of each barplots on the x-axis (space=1,4,3,1)\n",
    "y_pos = [0,1,2,3]\n",
    " \n",
    "# Create bars\n",
    "plt.bar(y_pos, height,color=['deepskyblue','mediumturquoise', 'pink', 'darkorange'])\n",
    " \n",
    "# Create names on the x-axis\n",
    "plt.xticks(y_pos, bars)\n",
    "\n",
    "plt.title(\"Mean Square Log Error\")\n",
    " \n",
    "# Show graphic\n",
    "plt.show()\n",
    "\n"
   ]
  },
  {
   "cell_type": "code",
   "execution_count": 106,
   "metadata": {
    "colab": {
     "base_uri": "https://localhost:8080/",
     "height": 281
    },
    "colab_type": "code",
    "id": "zwMp8NvyGH15",
    "outputId": "0a65928c-4f49-4b48-8016-dcea8319d21d"
   },
   "outputs": [
    {
     "data": {
      "image/png": "[encoded data removed]",
      "text/plain": [
       "<Figure size 432x288 with 1 Axes>"
      ]
     },
     "metadata": {
      "tags": []
     },
     "output_type": "display_data"
    }
   ],
   "source": [
    "\n",
    "height = [orig_lr_trs,rr_trs, ls_trs, tree_lr_trs]\n",
    "bars = ('Original','Ridge', 'Lasso', 'Tree')\n",
    " \n",
    "# Choose the position of each barplots on the x-axis (space=1,4,3,1)\n",
    "y_pos = [0,1,2,3]\n",
    " \n",
    "# Create bars\n",
    "plt.bar(y_pos, height,color=['deepskyblue','mediumturquoise', 'pink', 'darkorange'])\n",
    " \n",
    "# Create names on the x-axis\n",
    "plt.xticks(y_pos, bars)\n",
    "\n",
    "plt.title(\"R Square on Test Dataset\")\n",
    " \n",
    "# Show graphic\n",
    "plt.show()\n",
    "\n"
   ]
  },
  {
   "cell_type": "markdown",
   "metadata": {
    "colab_type": "text",
    "id": "vVV40QxeGaC-"
   },
   "source": [
    "Lasso regression with alpha value =100 has the best performance.  "
   ]
  },
  {
   "cell_type": "markdown",
   "metadata": {
    "colab_type": "text",
    "id": "wT7uygeN_lmH"
   },
   "source": [
    "### Stepwise Selection"
   ]
  },
  {
   "cell_type": "code",
   "execution_count": 24,
   "metadata": {
    "colab": {
     "base_uri": "https://localhost:8080/",
     "height": 539
    },
    "colab_type": "code",
    "id": "o2A1lPfpAJ25",
    "outputId": "a2c2236b-09a5-4c6e-ed48-12299da09d93"
   },
   "outputs": [],
   "source": [
    "import pandas as pd\n",
    "import numpy  as np\n",
    "import psycopg2 as ps\n",
    "import matplotlib.pyplot as plt\n",
    "\n",
    "import scipy.stats as scp_stats\n",
    "\n",
    "import statsmodels.api as sm"
   ]
  },
  {
   "cell_type": "code",
   "execution_count": 39,
   "metadata": {
    "colab": {},
    "colab_type": "code",
    "id": "tG9lWP4H_1SV"
   },
   "outputs": [],
   "source": [
    "import statsmodels.api as sm\n",
    "from sklearn.model_selection import train_test_split\n",
    "\n",
    "X_train,X_test,y_train,y_test=train_test_split(X_orig,Y,test_size=0.3,random_state=3)\n"
   ]
  },
  {
   "cell_type": "code",
   "execution_count": 40,
   "metadata": {
    "colab": {},
    "colab_type": "code",
    "id": "Iu9KRri0jmb0"
   },
   "outputs": [
    {
     "name": "stderr",
     "output_type": "stream",
     "text": [
      "C:\\Users\\nicol\\Anaconda3\\lib\\site-packages\\statsmodels\\base\\model.py:1100: RuntimeWarning: invalid value encountered in true_divide\n",
      "  return self.params / self.bse\n",
      "C:\\Users\\nicol\\Anaconda3\\lib\\site-packages\\scipy\\stats\\_distn_infrastructure.py:879: RuntimeWarning: invalid value encountered in greater\n",
      "  return (self.a < x) & (x < self.b)\n",
      "C:\\Users\\nicol\\Anaconda3\\lib\\site-packages\\scipy\\stats\\_distn_infrastructure.py:879: RuntimeWarning: invalid value encountered in less\n",
      "  return (self.a < x) & (x < self.b)\n",
      "C:\\Users\\nicol\\Anaconda3\\lib\\site-packages\\scipy\\stats\\_distn_infrastructure.py:1821: RuntimeWarning: invalid value encountered in less_equal\n",
      "  cond2 = cond0 & (x <= self.a)\n",
      "C:\\Users\\nicol\\Anaconda3\\lib\\site-packages\\ipykernel_launcher.py:33: FutureWarning: 'argmin' is deprecated, use 'idxmin' instead. The behavior of 'argmin'\n",
      "will be corrected to return the positional minimum in the future.\n",
      "Use 'series.values.argmin' to get the position of the minimum now.\n"
     ]
    },
    {
     "name": "stdout",
     "output_type": "stream",
     "text": [
      "Add  OverallQual                    with p-value 7.90915e-218\n",
      "Add  GrLivArea                      with p-value 1.34453e-72\n",
      "Add  GarageCars                     with p-value 3.02103e-24\n",
      "Add  BsmtFinSF1                     with p-value 7.32571e-20\n",
      "Add  Neighborhood_NridgHt           with p-value 2.98653e-12\n",
      "Add  Neighborhood_NoRidge           with p-value 3.04027e-14\n",
      "Add  MSSubClass                     with p-value 5.7848e-12\n",
      "Add  BsmtExposure_No                with p-value 1.45413e-11\n",
      "Add  Exterior1st_CemntBd            with p-value 3.62205e-10\n",
      "Add  PoolQC_Gd                      with p-value 2.95518e-09\n",
      "Add  PoolArea                       with p-value 1.19879e-10\n",
      "Add  PoolQC_None                    with p-value 1.17519e-23\n",
      "Add  SaleType_New                   with p-value 1.63961e-15\n",
      "Add  RoofMatl_WdShngl               with p-value 3.59291e-09\n",
      "Add  YearRemodAdd                   with p-value 2.46867e-10\n",
      "Add  MasVnrArea                     with p-value 5.38579e-08\n",
      "Add  Neighborhood_StoneBr           with p-value 2.19666e-08\n",
      "Add  BsmtExposure_Gd                with p-value 1.21936e-08\n",
      "Add  Functional_Typ                 with p-value 9.42765e-09\n",
      "Add  Neighborhood_Crawfor           with p-value 2.32504e-07\n",
      "Add  MiscFeature_TenC               with p-value 1.1587e-06\n",
      "Add  PoolQC_Fa                      with p-value 1.1587e-06\n",
      "Add  LotArea                        with p-value 8.13557e-06\n",
      "Add  YearBuilt                      with p-value 6.1589e-06\n",
      "Add  OverallCond                    with p-value 3.64209e-08\n",
      "Add  Exterior1st_BrkFace            with p-value 5.68828e-06\n",
      "Add  Neighborhood_Somerst           with p-value 1.00561e-05\n",
      "Add  BsmtQual_Gd                    with p-value 9.94827e-06\n",
      "Add  BedroomAbvGr                   with p-value 1.11278e-05\n",
      "Add  BldgType_2fmCon                with p-value 8.4338e-05\n",
      "Add  Condition1_Norm                with p-value 7.8033e-05\n",
      "Add  Neighborhood_BrkSide           with p-value 0.000126789\n",
      "Add  LotShape_IR2                   with p-value 0.000149042\n",
      "Add  BsmtFullBath                   with p-value 0.000276937\n",
      "Add  RoofMatl_CompShg               with p-value 0.000317282\n",
      "Add  BsmtQual_TA                    with p-value 0.000628167\n",
      "Add  BsmtQual_None                  with p-value 2.9477e-07\n",
      "Add  BsmtCond_None                  with p-value 2.9477e-07\n",
      "Add  BsmtFinType1_None              with p-value 2.9477e-07\n",
      "Add  BsmtExposure_None              with p-value 2.9477e-07\n",
      "Add  BsmtQual_Fa                    with p-value 0.000482663\n",
      "Add  GarageCond_Gd                  with p-value 0.00164506\n",
      "Add  MSZoning_RL                    with p-value 0.00169841\n",
      "Add  ExterQual_TA                   with p-value 0.0051086\n",
      "Add  ExterQual_Gd                   with p-value 2.26272e-06\n",
      "Add  Fireplaces                     with p-value 0.00364987\n",
      "Add  MasVnrType_None                with p-value 0.00628341\n",
      "Add  RoofMatl_Membran               with p-value 0.00743072\n",
      "resulting features:\n",
      "['OverallQual', 'GrLivArea', 'GarageCars', 'BsmtFinSF1', 'Neighborhood_NridgHt', 'Neighborhood_NoRidge', 'MSSubClass', 'BsmtExposure_No', 'Exterior1st_CemntBd', 'PoolQC_Gd', 'PoolArea', 'PoolQC_None', 'SaleType_New', 'RoofMatl_WdShngl', 'YearRemodAdd', 'MasVnrArea', 'Neighborhood_StoneBr', 'BsmtExposure_Gd', 'Functional_Typ', 'Neighborhood_Crawfor', 'MiscFeature_TenC', 'PoolQC_Fa', 'LotArea', 'YearBuilt', 'OverallCond', 'Exterior1st_BrkFace', 'Neighborhood_Somerst', 'BsmtQual_Gd', 'BedroomAbvGr', 'BldgType_2fmCon', 'Condition1_Norm', 'Neighborhood_BrkSide', 'LotShape_IR2', 'BsmtFullBath', 'RoofMatl_CompShg', 'BsmtQual_TA', 'BsmtQual_None', 'BsmtCond_None', 'BsmtFinType1_None', 'BsmtExposure_None', 'BsmtQual_Fa', 'GarageCond_Gd', 'MSZoning_RL', 'ExterQual_TA', 'ExterQual_Gd', 'Fireplaces', 'MasVnrType_None', 'RoofMatl_Membran']\n"
     ]
    }
   ],
   "source": [
    "\n",
    "def stepwise_selection(X, y, \n",
    "                       initial_list=[], \n",
    "                       threshold_in=0.01, \n",
    "                       threshold_out = 0.05, \n",
    "                       verbose=True):\n",
    "    \"\"\" Perform a forward-backward feature selection \n",
    "    based on p-value from statsmodels.api.OLS\n",
    "    Arguments:\n",
    "        X - pandas.DataFrame with candidate features\n",
    "        y - list-like with the target\n",
    "        initial_list - list of features to start with (column names of X)\n",
    "        threshold_in - include a feature if its p-value < threshold_in\n",
    "        threshold_out - exclude a feature if its p-value > threshold_out\n",
    "        verbose - whether to print the sequence of inclusions and exclusions\n",
    "    Returns: list of selected features \n",
    "    Always set threshold_in < threshold_out to avoid infinite looping.\n",
    "    See https://en.wikipedia.org/wiki/Stepwise_regression for the details\n",
    "    \"\"\"\n",
    "    aics=[]\n",
    "    bics=[]\n",
    "    included = list(initial_list)\n",
    "    while True:\n",
    "        changed=False\n",
    "        # forward step\n",
    "        excluded = list(set(X.columns)-set(included))\n",
    "        new_pval = pd.Series(index=excluded)\n",
    "        for new_column in excluded:\n",
    "            model = sm.OLS(y, sm.add_constant(pd.DataFrame(X[included+[new_column]]))).fit()\n",
    "            new_pval[new_column] = model.pvalues[new_column]\n",
    "        best_pval = new_pval.min()\n",
    "        if best_pval < threshold_in:\n",
    "            best_feature = new_pval.argmin()\n",
    "            included.append(best_feature)\n",
    "            changed=True\n",
    "            if verbose:\n",
    "                print('Add  {:30} with p-value {:.6}'.format(best_feature, best_pval))\n",
    "\n",
    "        # backward step\n",
    "        model = sm.OLS(y, sm.add_constant(pd.DataFrame(X[included]))).fit()\n",
    "        # use all coefs except intercept\n",
    "        pvalues = model.pvalues.iloc[1:]\n",
    "        worst_pval = pvalues.max() # null if pvalues is empty\n",
    "        if worst_pval > threshold_out:\n",
    "            changed=True\n",
    "            worst_feature = pvalues.argmax()\n",
    "            included.remove(worst_feature)\n",
    "            if verbose:\n",
    "                print('Drop {:30} with p-value {:.6}'.format(worst_feature, worst_pval))\n",
    "        if not changed:\n",
    "            break\n",
    "        model = sm.OLS(y, sm.add_constant(pd.DataFrame(X[included]))).fit()\n",
    "        aics.append(model.aic)\n",
    "        bics.append(model.bic)\n",
    "    return included,aics,bics\n",
    "\n",
    "features,aics,bics = stepwise_selection(X_train, y_train)\n",
    "\n",
    "print('resulting features:')\n",
    "print(features)\n"
   ]
  },
  {
   "cell_type": "code",
   "execution_count": 41,
   "metadata": {
    "colab": {},
    "colab_type": "code",
    "id": "NnaH1-Ajjmb-"
   },
   "outputs": [
    {
     "data": {
      "text/plain": [
       "48"
      ]
     },
     "execution_count": 41,
     "metadata": {},
     "output_type": "execute_result"
    }
   ],
   "source": [
    "len(features)"
   ]
  },
  {
   "cell_type": "code",
   "execution_count": 42,
   "metadata": {
    "colab": {},
    "colab_type": "code",
    "id": "483XKQpVjmcE"
   },
   "outputs": [],
   "source": [
    "x=np.arange(1,len(aics)+1)"
   ]
  },
  {
   "cell_type": "code",
   "execution_count": 43,
   "metadata": {
    "colab": {},
    "colab_type": "code",
    "id": "SppN4R8rjmcI"
   },
   "outputs": [
    {
     "data": {
      "text/plain": [
       "Text(0.5,1,'Stepwise Selection')"
      ]
     },
     "execution_count": 43,
     "metadata": {},
     "output_type": "execute_result"
    },
    {
     "data": {
      "image/png": "[encoded data removed]",
      "text/plain": [
       "<Figure size 432x288 with 1 Axes>"
      ]
     },
     "metadata": {},
     "output_type": "display_data"
    }
   ],
   "source": [
    "\n",
    "plt.plot(x, aics, 'bo')\n",
    "plt.plot(x, bics, 'go')\n",
    "plt.legend([\"AIC\",\"BIC\"])\n",
    "plt.title(\"Stepwise Selection\")"
   ]
  },
  {
   "cell_type": "code",
   "execution_count": 46,
   "metadata": {
    "colab": {},
    "colab_type": "code",
    "id": "TkJzJEwJjmcS"
   },
   "outputs": [
    {
     "name": "stdout",
     "output_type": "stream",
     "text": [
      "Coefficients: \n",
      " [ 8.65051409e+03  6.38666687e+01  6.79824973e+03  9.74427016e+00\n",
      "  2.67380091e+04  4.17615331e+04 -2.38871817e+02 -7.50733059e+03\n",
      "  1.61783179e+04 -4.43060992e+05  2.18605172e+03  9.75051567e+05\n",
      "  1.85327621e+04  9.93634312e+04  1.29137301e+02  3.88575149e+01\n",
      "  4.34874588e+04  1.89891870e+04  1.57859203e+04  2.36587934e+04\n",
      " -7.88015505e+04 -7.88015505e+04  2.71642824e-01  3.84790276e+02\n",
      "  6.34212925e+03  2.11419138e+04  2.13658971e+04 -2.78472049e+04\n",
      " -4.04429530e+03  1.97767536e+04  1.07554726e+04  1.39931936e+04\n",
      "  1.73663466e+04  6.81079090e+03  2.97572032e+04 -2.54987676e+04\n",
      " -9.72185039e+03 -9.72185039e+03 -9.72185038e+03 -9.72185038e+03\n",
      " -2.12065576e+04 -3.49797491e+04  7.71789552e+03 -2.61694666e+04\n",
      " -2.07065857e+04  4.01391043e+03  5.97157993e+03  6.44139998e+04]\n",
      "Mean squared error: 1443633886.26\n",
      "Variance score: 0.76\n"
     ]
    }
   ],
   "source": [
    "import sklearn.linear_model as linear_model\n",
    "\n",
    "from sklearn.metrics import mean_squared_error, r2_score\n",
    "# Create linear regression object\n",
    "regr = linear_model.LinearRegression()\n",
    "\n",
    "# Train the model using the training sets\n",
    "regr.fit(X_train[features], y_train)\n",
    "\n",
    "# Make predictions using the testing set\n",
    "y_pred = regr.predict(X_test[features])\n",
    "\n",
    "stepwise_mse=mean_squared_error(y_test, y_pred)\n",
    "stepwise_r2=r2_score(y_test, y_pred)\n",
    "\n",
    "# The coefficients\n",
    "print('Coefficients: \\n', regr.coef_)\n",
    "# The mean squared error\n",
    "print(\"Mean squared error: %.2f\"\n",
    "      % mean_squared_error(y_test, y_pred))\n",
    "# Explained variance score: 1 is perfect prediction\n",
    "print('Variance score: %.2f' % r2_score(y_test, y_pred))"
   ]
  },
  {
   "cell_type": "markdown",
   "metadata": {
    "colab_type": "text",
    "id": "Rx_kj9PzjmcX"
   },
   "source": [
    "### Forward Selection "
   ]
  },
  {
   "cell_type": "code",
   "execution_count": 47,
   "metadata": {
    "colab": {},
    "colab_type": "code",
    "id": "NIK6KwDOjmcZ"
   },
   "outputs": [
    {
     "name": "stderr",
     "output_type": "stream",
     "text": [
      "C:\\Users\\nicol\\Anaconda3\\lib\\site-packages\\statsmodels\\base\\model.py:1100: RuntimeWarning: invalid value encountered in true_divide\n",
      "  return self.params / self.bse\n",
      "C:\\Users\\nicol\\Anaconda3\\lib\\site-packages\\scipy\\stats\\_distn_infrastructure.py:879: RuntimeWarning: invalid value encountered in greater\n",
      "  return (self.a < x) & (x < self.b)\n",
      "C:\\Users\\nicol\\Anaconda3\\lib\\site-packages\\scipy\\stats\\_distn_infrastructure.py:879: RuntimeWarning: invalid value encountered in less\n",
      "  return (self.a < x) & (x < self.b)\n",
      "C:\\Users\\nicol\\Anaconda3\\lib\\site-packages\\scipy\\stats\\_distn_infrastructure.py:1821: RuntimeWarning: invalid value encountered in less_equal\n",
      "  cond2 = cond0 & (x <= self.a)\n",
      "C:\\Users\\nicol\\Anaconda3\\lib\\site-packages\\ipykernel_launcher.py:32: FutureWarning: 'argmin' is deprecated, use 'idxmin' instead. The behavior of 'argmin'\n",
      "will be corrected to return the positional minimum in the future.\n",
      "Use 'series.values.argmin' to get the position of the minimum now.\n"
     ]
    },
    {
     "name": "stdout",
     "output_type": "stream",
     "text": [
      "Add  OverallQual                    with p-value 7.90915e-218\n",
      "Add  GrLivArea                      with p-value 1.34453e-72\n",
      "Add  GarageCars                     with p-value 3.02103e-24\n",
      "Add  BsmtFinSF1                     with p-value 7.32571e-20\n",
      "Add  Neighborhood_NridgHt           with p-value 2.98653e-12\n",
      "Add  Neighborhood_NoRidge           with p-value 3.04027e-14\n",
      "Add  MSSubClass                     with p-value 5.7848e-12\n",
      "Add  BsmtExposure_No                with p-value 1.45413e-11\n",
      "Add  Exterior1st_CemntBd            with p-value 3.62205e-10\n",
      "Add  PoolQC_Gd                      with p-value 2.95518e-09\n",
      "Add  PoolArea                       with p-value 1.19879e-10\n",
      "Add  PoolQC_None                    with p-value 1.17519e-23\n",
      "Add  SaleType_New                   with p-value 1.63961e-15\n",
      "Add  RoofMatl_WdShngl               with p-value 3.59291e-09\n",
      "Add  YearRemodAdd                   with p-value 2.46867e-10\n",
      "Add  MasVnrArea                     with p-value 5.38579e-08\n",
      "Add  Neighborhood_StoneBr           with p-value 2.19666e-08\n",
      "Add  BsmtExposure_Gd                with p-value 1.21936e-08\n",
      "Add  Functional_Typ                 with p-value 9.42765e-09\n",
      "Add  Neighborhood_Crawfor           with p-value 2.32504e-07\n",
      "Add  MiscFeature_TenC               with p-value 1.1587e-06\n",
      "Add  PoolQC_Fa                      with p-value 1.1587e-06\n",
      "Add  LotArea                        with p-value 8.13557e-06\n",
      "Add  YearBuilt                      with p-value 6.1589e-06\n",
      "Add  OverallCond                    with p-value 3.64209e-08\n",
      "Add  Exterior1st_BrkFace            with p-value 5.68828e-06\n",
      "Add  Neighborhood_Somerst           with p-value 1.00561e-05\n",
      "Add  BsmtQual_Gd                    with p-value 9.94827e-06\n",
      "Add  BedroomAbvGr                   with p-value 1.11278e-05\n",
      "Add  BldgType_2fmCon                with p-value 8.4338e-05\n",
      "Add  Condition1_Norm                with p-value 7.8033e-05\n",
      "Add  Neighborhood_BrkSide           with p-value 0.000126789\n",
      "Add  LotShape_IR2                   with p-value 0.000149042\n",
      "Add  BsmtFullBath                   with p-value 0.000276937\n",
      "Add  RoofMatl_CompShg               with p-value 0.000317282\n",
      "Add  BsmtQual_TA                    with p-value 0.000628167\n",
      "Add  BsmtQual_None                  with p-value 2.9477e-07\n",
      "Add  BsmtCond_None                  with p-value 2.9477e-07\n",
      "Add  BsmtFinType1_None              with p-value 2.9477e-07\n",
      "Add  BsmtExposure_None              with p-value 2.9477e-07\n",
      "Add  BsmtQual_Fa                    with p-value 0.000482663\n",
      "Add  GarageCond_Gd                  with p-value 0.00164506\n",
      "Add  MSZoning_RL                    with p-value 0.00169841\n",
      "Add  ExterQual_TA                   with p-value 0.0051086\n",
      "Add  ExterQual_Gd                   with p-value 2.26272e-06\n",
      "Add  Fireplaces                     with p-value 0.00364987\n",
      "Add  MasVnrType_None                with p-value 0.00628341\n",
      "Add  RoofMatl_Membran               with p-value 0.00743072\n",
      "resulting features:\n",
      "['OverallQual', 'GrLivArea', 'GarageCars', 'BsmtFinSF1', 'Neighborhood_NridgHt', 'Neighborhood_NoRidge', 'MSSubClass', 'BsmtExposure_No', 'Exterior1st_CemntBd', 'PoolQC_Gd', 'PoolArea', 'PoolQC_None', 'SaleType_New', 'RoofMatl_WdShngl', 'YearRemodAdd', 'MasVnrArea', 'Neighborhood_StoneBr', 'BsmtExposure_Gd', 'Functional_Typ', 'Neighborhood_Crawfor', 'MiscFeature_TenC', 'PoolQC_Fa', 'LotArea', 'YearBuilt', 'OverallCond', 'Exterior1st_BrkFace', 'Neighborhood_Somerst', 'BsmtQual_Gd', 'BedroomAbvGr', 'BldgType_2fmCon', 'Condition1_Norm', 'Neighborhood_BrkSide', 'LotShape_IR2', 'BsmtFullBath', 'RoofMatl_CompShg', 'BsmtQual_TA', 'BsmtQual_None', 'BsmtCond_None', 'BsmtFinType1_None', 'BsmtExposure_None', 'BsmtQual_Fa', 'GarageCond_Gd', 'MSZoning_RL', 'ExterQual_TA', 'ExterQual_Gd', 'Fireplaces', 'MasVnrType_None', 'RoofMatl_Membran']\n"
     ]
    }
   ],
   "source": [
    "import statsmodels.api as sm\n",
    "\n",
    "def forward_selection(X, y, \n",
    "                       initial_list=[], \n",
    "                       threshold_in=0.01, \n",
    "                       verbose=True):\n",
    "    \"\"\" Perform a forward-backward feature selection \n",
    "    based on p-value from statsmodels.api.OLS\n",
    "    Arguments:\n",
    "        X - pandas.DataFrame with candidate features\n",
    "        y - list-like with the target\n",
    "        initial_list - list of features to start with (column names of X)\n",
    "        threshold_in - include a feature if its p-value < threshold_in\n",
    "        verbose - whether to print the sequence of inclusions and exclusions\n",
    "    Returns: list of selected features \n",
    "    Always set threshold_in < threshold_out to avoid infinite looping.\n",
    "    See https://en.wikipedia.org/wiki/Stepwise_regression for the details\n",
    "    \"\"\"\n",
    "    aics=[]\n",
    "    bics=[]\n",
    "    included = list(initial_list)\n",
    "    while True:\n",
    "        changed=False\n",
    "        # forward step\n",
    "        excluded = list(set(X.columns)-set(included))\n",
    "        new_pval = pd.Series(index=excluded)\n",
    "        for new_column in excluded:\n",
    "            model = sm.OLS(y, sm.add_constant(pd.DataFrame(X[included+[new_column]]))).fit()\n",
    "            new_pval[new_column] = model.pvalues[new_column]\n",
    "        best_pval = new_pval.min()\n",
    "        if best_pval < threshold_in:\n",
    "            best_feature = new_pval.argmin()\n",
    "            included.append(best_feature)\n",
    "            changed=True\n",
    "            if verbose:\n",
    "                print('Add  {:30} with p-value {:.6}'.format(best_feature, best_pval))\n",
    "        if not changed:\n",
    "            break\n",
    "        model = sm.OLS(y, sm.add_constant(pd.DataFrame(X[included]))).fit()\n",
    "        aics.append(model.aic)\n",
    "        bics.append(model.bic)\n",
    "    return included,aics,bics\n",
    "\n",
    "features,aics,bics = forward_selection(X_train, y_train)\n",
    "\n",
    "print('resulting features:')\n",
    "print(features)\n"
   ]
  },
  {
   "cell_type": "code",
   "execution_count": 50,
   "metadata": {},
   "outputs": [
    {
     "data": {
      "text/plain": [
       "48"
      ]
     },
     "execution_count": 50,
     "metadata": {},
     "output_type": "execute_result"
    }
   ],
   "source": [
    "len(features)"
   ]
  },
  {
   "cell_type": "code",
   "execution_count": 48,
   "metadata": {
    "colab": {},
    "colab_type": "code",
    "id": "5s_SD_mYjmc1"
   },
   "outputs": [
    {
     "data": {
      "text/plain": [
       "Text(0.5,1,'Forward Selection')"
      ]
     },
     "execution_count": 48,
     "metadata": {},
     "output_type": "execute_result"
    },
    {
     "data": {
      "image/png": "[encoded data removed]",
      "text/plain": [
       "<Figure size 432x288 with 1 Axes>"
      ]
     },
     "metadata": {},
     "output_type": "display_data"
    }
   ],
   "source": [
    "plt.plot(x, aics, 'bo')\n",
    "plt.plot(x, bics, 'go')\n",
    "plt.legend([\"AIC\",\"BIC\"])\n",
    "plt.title(\"Forward Selection\")"
   ]
  },
  {
   "cell_type": "code",
   "execution_count": 49,
   "metadata": {
    "colab": {},
    "colab_type": "code",
    "id": "_Oz8ehMSjmc5"
   },
   "outputs": [
    {
     "name": "stdout",
     "output_type": "stream",
     "text": [
      "Coefficients: \n",
      " [ 8.65051409e+03  6.38666687e+01  6.79824973e+03  9.74427016e+00\n",
      "  2.67380091e+04  4.17615331e+04 -2.38871817e+02 -7.50733059e+03\n",
      "  1.61783179e+04 -4.43060992e+05  2.18605172e+03  9.75051567e+05\n",
      "  1.85327621e+04  9.93634312e+04  1.29137301e+02  3.88575149e+01\n",
      "  4.34874588e+04  1.89891870e+04  1.57859203e+04  2.36587934e+04\n",
      " -7.88015505e+04 -7.88015505e+04  2.71642824e-01  3.84790276e+02\n",
      "  6.34212925e+03  2.11419138e+04  2.13658971e+04 -2.78472049e+04\n",
      " -4.04429530e+03  1.97767536e+04  1.07554726e+04  1.39931936e+04\n",
      "  1.73663466e+04  6.81079090e+03  2.97572032e+04 -2.54987676e+04\n",
      " -9.72185039e+03 -9.72185039e+03 -9.72185038e+03 -9.72185038e+03\n",
      " -2.12065576e+04 -3.49797491e+04  7.71789552e+03 -2.61694666e+04\n",
      " -2.07065857e+04  4.01391043e+03  5.97157993e+03  6.44139998e+04]\n",
      "Mean squared error: 1443633886.26\n",
      "Variance score: 0.76\n"
     ]
    }
   ],
   "source": [
    "from sklearn.metrics import mean_squared_error, r2_score\n",
    "# Create linear regression object\n",
    "regr = linear_model.LinearRegression()\n",
    "\n",
    "# Train the model using the training sets\n",
    "regr.fit(X_train[features], y_train)\n",
    "\n",
    "# Make predictions using the testing set\n",
    "y_pred = regr.predict(X_test[features])\n",
    "\n",
    "\n",
    "forward_mse=mean_squared_error(y_test, y_pred)\n",
    "forward_r2=r2_score(y_test, y_pred)\n",
    "# The coefficients\n",
    "print('Coefficients: \\n', regr.coef_)\n",
    "# The mean squared error\n",
    "print(\"Mean squared error: %.2f\"\n",
    "      % mean_squared_error(y_test, y_pred))\n",
    "# Explained variance score: 1 is perfect prediction\n",
    "print('Variance score: %.2f' % r2_score(y_test, y_pred))"
   ]
  },
  {
   "cell_type": "markdown",
   "metadata": {
    "colab_type": "text",
    "id": "WngLV5KEjmdC"
   },
   "source": [
    "### Backward Selection "
   ]
  },
  {
   "cell_type": "code",
   "execution_count": 52,
   "metadata": {
    "colab": {},
    "colab_type": "code",
    "id": "xKjCyhkljmdD"
   },
   "outputs": [
    {
     "name": "stderr",
     "output_type": "stream",
     "text": [
      "C:\\Users\\nicol\\Anaconda3\\lib\\site-packages\\ipykernel_launcher.py:31: FutureWarning: 'argmax' is deprecated, use 'idxmax' instead. The behavior of 'argmax'\n",
      "will be corrected to return the positional maximum in the future.\n",
      "Use 'series.values.argmax' to get the position of the maximum now.\n"
     ]
    },
    {
     "name": "stdout",
     "output_type": "stream",
     "text": [
      "Drop Exterior2nd_Wd Sdng            with p-value 0.995328\n",
      "Drop ExterCond_TA                   with p-value 0.992476\n",
      "Drop BsmtFinType2_LwQ               with p-value 0.99111\n",
      "Drop Condition2_Norm                with p-value 0.991225\n",
      "Drop Condition1_RRNn                with p-value 0.983057\n",
      "Drop Exterior2nd_Brk Cmn            with p-value 0.979869\n",
      "Drop Heating_GasW                   with p-value 0.972932\n",
      "Drop SaleType_New                   with p-value 0.958343\n",
      "Drop Exterior1st_MetalSd            with p-value 0.949921\n",
      "Drop BsmtCond_None                  with p-value 0.939768\n",
      "Drop BsmtFinType1_None              with p-value 0.939768\n",
      "Drop BsmtExposure_None              with p-value 0.939768\n",
      "Drop BsmtQual_None                  with p-value 0.939768\n",
      "Drop Condition1_PosA                with p-value 0.938827\n",
      "Drop HeatingQC_Fa                   with p-value 0.923342\n",
      "Drop BsmtFinType1_LwQ               with p-value 0.914709\n",
      "Drop Foundation_CBlock              with p-value 0.909262\n",
      "Drop FireplaceQu_Po                 with p-value 0.905012\n",
      "Drop LowQualFinSF                   with p-value 0.896247\n",
      "Drop BsmtFinType2_None              with p-value 0.89293\n",
      "Drop BsmtFinType2_Rec               with p-value 0.89588\n",
      "Drop SaleType_CWD                   with p-value 0.903817\n",
      "Drop PavedDrive_Y                   with p-value 0.893682\n",
      "Drop MasVnrType_BrkFace             with p-value 0.885829\n",
      "Drop Exterior1st_Stone              with p-value 0.871403\n",
      "Drop Exterior2nd_AsphShn            with p-value 0.87605\n",
      "Drop CentralAir_Y                   with p-value 0.877651\n",
      "Drop BsmtUnfSF                      with p-value 0.868083\n",
      "Drop TotRmsAbvGrd                   with p-value 0.854366\n",
      "Drop BsmtHalfBath                   with p-value 0.85019\n",
      "Drop LandContour_Lvl                with p-value 0.853763\n",
      "Drop LandContour_HLS                with p-value 0.898379\n",
      "Drop BldgType_2fmCon                with p-value 0.825782\n",
      "Drop SaleType_ConLw                 with p-value 0.813691\n",
      "Drop ExterCond_Gd                   with p-value 0.815822\n",
      "Drop BsmtCond_Gd                    with p-value 0.811114\n",
      "Drop Neighborhood_BrDale            with p-value 0.818623\n",
      "Drop Neighborhood_BrkSide           with p-value 0.880191\n",
      "Drop Neighborhood_Somerst           with p-value 0.903723\n",
      "Drop FireplaceQu_None               with p-value 0.812976\n",
      "Drop Exterior2nd_Plywood            with p-value 0.816104\n",
      "Drop Exterior2nd_HdBoard            with p-value 0.804419\n",
      "Drop ExterCond_Fa                   with p-value 0.79065\n",
      "Drop Condition1_Feedr               with p-value 0.792333\n",
      "Drop Condition2_PosA                with p-value 0.854283\n",
      "Drop HalfBath                       with p-value 0.725733\n",
      "Drop BsmtFinType2_Unf               with p-value 0.717199\n",
      "Drop ScreenPorch                    with p-value 0.710241\n",
      "Drop Condition2_RRAn                with p-value 0.84946\n",
      "Drop GarageType_None                with p-value 0.709255\n",
      "Drop GarageQual_None                with p-value 0.709255\n",
      "Drop GarageCond_None                with p-value 0.709255\n",
      "Drop Condition2_RRAe                with p-value 0.813168\n",
      "Drop GarageFinish_None              with p-value 0.709255\n",
      "Drop ExterCond_Po                   with p-value 0.776471\n",
      "Drop SaleType_ConLI                 with p-value 0.706705\n",
      "Drop Fence_MnWw                     with p-value 0.71006\n",
      "Drop GarageYrBlt                    with p-value 0.725882\n",
      "Drop LotShape_Reg                   with p-value 0.725938\n",
      "Drop GarageType_Basment             with p-value 0.706237\n",
      "Drop Heating_Grav                   with p-value 0.667882\n",
      "Drop Foundation_Stone               with p-value 0.673035\n",
      "Drop Exterior2nd_VinylSd            with p-value 0.664267\n",
      "Drop GarageType_CarPort             with p-value 0.658527\n",
      "Drop Exterior1st_BrkComm            with p-value 0.654049\n",
      "Drop Neighborhood_Blueste           with p-value 0.603114\n",
      "Drop Foundation_PConc               with p-value 0.613182\n",
      "Drop Condition1_RRNe                with p-value 0.621999\n",
      "Drop SaleType_WD                    with p-value 0.569554\n",
      "Drop Condition2_PosN                with p-value 0.903265\n",
      "Drop Functional_Maj2                with p-value 0.566872\n",
      "Drop SaleCondition_Family           with p-value 0.559309\n",
      "Drop Neighborhood_Veenker           with p-value 0.535015\n",
      "Drop LotShape_IR3                   with p-value 0.528661\n",
      "Drop GarageArea                     with p-value 0.519628\n",
      "Drop LandSlope_Mod                  with p-value 0.519425\n",
      "Drop RoofStyle_Hip                  with p-value 0.557161\n",
      "Drop PoolArea                       with p-value 0.566005\n",
      "Drop Exterior2nd_ImStucc            with p-value 0.535127\n",
      "Drop RoofStyle_Shed                 with p-value 0.626383\n",
      "Drop Exterior2nd_BrkFace            with p-value 0.494596\n",
      "Drop Electrical_SBrkr               with p-value 0.470299\n",
      "Drop Electrical_FuseF               with p-value 0.580581\n",
      "Drop Heating_OthW                   with p-value 0.834952\n",
      "Drop Utilities_NoSeWa               with p-value 0.495175\n",
      "Drop RoofStyle_Gable                with p-value 0.465376\n",
      "Drop Exterior2nd_Other              with p-value 0.636139\n",
      "Drop RoofStyle_Mansard              with p-value 0.475362\n",
      "Drop HeatingQC_Po                   with p-value 0.759148\n",
      "Drop HouseStyle_SFoyer              with p-value 0.456247\n",
      "Drop Exterior2nd_Wd Shng            with p-value 0.450559\n",
      "Drop Neighborhood_MeadowV           with p-value 0.438717\n",
      "Drop PavedDrive_P                   with p-value 0.429824\n",
      "Drop SaleType_ConLD                 with p-value 0.427186\n",
      "Drop Condition2_Feedr               with p-value 0.465682\n",
      "Drop BsmtFinType1_Rec               with p-value 0.445286\n",
      "Drop Functional_Mod                 with p-value 0.47313\n",
      "Drop BsmtFinType2_GLQ               with p-value 0.415766\n",
      "Drop MSZoning_RM                    with p-value 0.386793\n",
      "Drop MSZoning_RH                    with p-value 0.476415\n",
      "Drop Condition2_RRNn                with p-value 0.402707\n",
      "Drop MiscFeature_TenC               with p-value 0.395379\n",
      "Drop PoolQC_Fa                      with p-value 0.395379\n",
      "Drop Exterior1st_BrkFace            with p-value 0.39148\n",
      "Drop ExterQual_Fa                   with p-value 0.370512\n",
      "Drop Alley_None                     with p-value 0.343917\n",
      "Drop Neighborhood_NridgHt           with p-value 0.329944\n",
      "Drop FullBath                       with p-value 0.305698\n",
      "Drop BsmtFinType1_BLQ               with p-value 0.295745\n",
      "Drop GarageType_BuiltIn             with p-value 0.314161\n",
      "Drop GarageType_Attchd              with p-value 0.396637\n",
      "Drop HouseStyle_SLvl                with p-value 0.293166\n",
      "Drop LotConfig_Inside               with p-value 0.284903\n",
      "Drop Condition1_PosN                with p-value 0.28351\n",
      "Drop Condition1_RRAn                with p-value 0.306141\n",
      "Drop LotFrontage                    with p-value 0.291252\n",
      "Drop RoofStyle_Gambrel              with p-value 0.268733\n",
      "Drop WoodDeckSF                     with p-value 0.270696\n",
      "Drop Exterior1st_ImStucc            with p-value 0.237193\n",
      "Drop YrSold                         with p-value 0.247875\n",
      "Drop MSSubClass                     with p-value 0.232998\n",
      "Drop 1stFlrSF                       with p-value 0.214618\n",
      "Drop BldgType_Duplex                with p-value 0.200893\n",
      "Drop YearRemodAdd                   with p-value 0.180623\n",
      "Drop Fence_GdWo                     with p-value 0.185721\n",
      "Drop Fence_None                     with p-value 0.442662\n",
      "Drop Fence_MnPrv                    with p-value 0.536194\n",
      "Drop LotConfig_FR3                  with p-value 0.180568\n",
      "Drop FireplaceQu_Fa                 with p-value 0.156855\n",
      "Drop FireplaceQu_Gd                 with p-value 0.18814\n",
      "Drop FireplaceQu_TA                 with p-value 0.240966\n",
      "Drop Fireplaces                     with p-value 0.20991\n",
      "Drop Condition1_RRAe                with p-value 0.158602\n",
      "Drop GarageType_Detchd              with p-value 0.172983\n",
      "Drop GarageFinish_Unf               with p-value 0.253402\n",
      "Drop Electrical_Mix                 with p-value 0.164908\n",
      "Drop BsmtCond_Po                    with p-value 0.164908\n",
      "Drop SaleCondition_Alloca           with p-value 0.176244\n",
      "Drop Neighborhood_IDOTRR            with p-value 0.180466\n",
      "Drop EnclosedPorch                  with p-value 0.180985\n",
      "Drop Neighborhood_SWISU             with p-value 0.169881\n",
      "Drop MoSold                         with p-value 0.170473\n",
      "Drop Alley_Pave                     with p-value 0.152408\n"
     ]
    },
    {
     "name": "stdout",
     "output_type": "stream",
     "text": [
      "Drop 3SsnPorch                      with p-value 0.131276\n",
      "Drop BsmtFinType1_Unf               with p-value 0.158439\n",
      "Drop Exterior1st_CemntBd            with p-value 0.133571\n",
      "Drop Neighborhood_NPkVill           with p-value 0.114422\n",
      "Drop Exterior2nd_Stucco             with p-value 0.103269\n",
      "Drop Heating_GasA                   with p-value 0.154574\n",
      "Drop Heating_Wall                   with p-value 0.145048\n",
      "Drop Foundation_Slab                with p-value 0.184741\n",
      "Drop Exterior1st_AsphShn            with p-value 0.169201\n",
      "Drop Exterior1st_Stucco             with p-value 0.128425\n",
      "Drop BsmtFullBath                   with p-value 0.114955\n",
      "Drop MSZoning_FV                    with p-value 0.106482\n",
      "Drop BsmtExposure_Mn                with p-value 0.111444\n",
      "Drop GarageFinish_RFn               with p-value 0.0977489\n",
      "Drop LandSlope_Sev                  with p-value 0.0958069\n",
      "Drop Exterior1st_WdShing            with p-value 0.0930737\n",
      "Drop Exterior2nd_Stone              with p-value 0.106289\n",
      "Drop Electrical_FuseP               with p-value 0.0772318\n",
      "Drop Exterior2nd_CmentBd            with p-value 0.103893\n",
      "Drop LotConfig_FR2                  with p-value 0.0791945\n",
      "Drop BsmtCond_TA                    with p-value 0.0844217\n",
      "Drop BsmtQual_Fa                    with p-value 0.0920327\n",
      "Drop Exterior2nd_CBlock             with p-value 0.0716686\n",
      "Drop Exterior1st_CBlock             with p-value 0.0716686\n",
      "Drop BsmtFinType2_BLQ               with p-value 0.0675334\n",
      "Drop BsmtFinSF2                     with p-value 0.136582\n",
      "Drop SaleType_Oth                   with p-value 0.069278\n",
      "Drop HeatingQC_Gd                   with p-value 0.071366\n",
      "Drop HeatingQC_TA                   with p-value 0.091329\n",
      "Drop SaleCondition_AdjLand          with p-value 0.07246\n",
      "resulting features:\n",
      "['LotArea', 'OverallQual', 'OverallCond', 'YearBuilt', 'MasVnrArea', 'BsmtFinSF1', 'TotalBsmtSF', '2ndFlrSF', 'GrLivArea', 'BedroomAbvGr', 'KitchenAbvGr', 'GarageCars', 'OpenPorchSF', 'MiscVal', 'MSZoning_RL', 'Street_Pave', 'LotShape_IR2', 'LandContour_Low', 'LotConfig_CulDSac', 'Neighborhood_ClearCr', 'Neighborhood_CollgCr', 'Neighborhood_Crawfor', 'Neighborhood_Edwards', 'Neighborhood_Gilbert', 'Neighborhood_Mitchel', 'Neighborhood_NAmes', 'Neighborhood_NWAmes', 'Neighborhood_NoRidge', 'Neighborhood_OldTown', 'Neighborhood_Sawyer', 'Neighborhood_SawyerW', 'Neighborhood_StoneBr', 'Neighborhood_Timber', 'Condition1_Norm', 'BldgType_Twnhs', 'BldgType_TwnhsE', 'HouseStyle_1.5Unf', 'HouseStyle_1Story', 'HouseStyle_2.5Fin', 'HouseStyle_2.5Unf', 'HouseStyle_2Story', 'RoofMatl_CompShg', 'RoofMatl_Membran', 'RoofMatl_Metal', 'RoofMatl_Roll', 'RoofMatl_Tar&Grv', 'RoofMatl_WdShake', 'RoofMatl_WdShngl', 'Exterior1st_HdBoard', 'Exterior1st_Plywood', 'Exterior1st_VinylSd', 'Exterior1st_Wd Sdng', 'Exterior2nd_MetalSd', 'MasVnrType_None', 'MasVnrType_Stone', 'ExterQual_Gd', 'ExterQual_TA', 'Foundation_Wood', 'BsmtQual_Gd', 'BsmtQual_TA', 'BsmtExposure_Gd', 'BsmtExposure_No', 'BsmtFinType1_GLQ', 'KitchenQual_Fa', 'KitchenQual_Gd', 'KitchenQual_TA', 'Functional_Min1', 'Functional_Min2', 'Functional_Sev', 'Functional_Typ', 'GarageQual_Fa', 'GarageQual_Gd', 'GarageQual_Po', 'GarageQual_TA', 'GarageCond_Fa', 'GarageCond_Gd', 'GarageCond_Po', 'GarageCond_TA', 'PoolQC_Gd', 'PoolQC_None', 'MiscFeature_None', 'MiscFeature_Othr', 'MiscFeature_Shed', 'SaleType_Con', 'SaleCondition_Normal', 'SaleCondition_Partial']\n"
     ]
    }
   ],
   "source": [
    "import statsmodels.api as sm\n",
    "\n",
    "def back_selection(X, y, \n",
    "                       threshold_out = 0.05, \n",
    "                       verbose=True):\n",
    "    \"\"\" Perform a forward-backward feature selection \n",
    "    based on p-value from statsmodels.api.OLS\n",
    "    Arguments:\n",
    "        X - pandas.DataFrame with candidate features\n",
    "        y - list-like with the target\n",
    "        initial_list - list of features to start with (column names of X)\n",
    "        threshold_in - include a feature if its p-value < threshold_in\n",
    "        threshold_out - exclude a feature if its p-value > threshold_out\n",
    "        verbose - whether to print the sequence of inclusions and exclusions\n",
    "    Returns: list of selected features \n",
    "    Always set threshold_in < threshold_out to avoid infinite looping.\n",
    "    See https://en.wikipedia.org/wiki/Stepwise_regression for the details\n",
    "    \"\"\"\n",
    "    aics=[]\n",
    "    bics=[]\n",
    "    included = X.columns.tolist()\n",
    "    while True:\n",
    "        changed=False\n",
    "        # backward step\n",
    "        model = sm.OLS(y, sm.add_constant(pd.DataFrame(X[included]))).fit()\n",
    "        # use all coefs except intercept\n",
    "        pvalues = model.pvalues.iloc[1:]\n",
    "        worst_pval = pvalues.max() # null if pvalues is empty\n",
    "        if worst_pval > threshold_out:\n",
    "            changed=True\n",
    "            worst_feature = pvalues.argmax()\n",
    "            included.remove(worst_feature)\n",
    "            if verbose:\n",
    "                print('Drop {:30} with p-value {:.6}'.format(worst_feature, worst_pval))\n",
    "        if not changed:\n",
    "            break\n",
    "        model = sm.OLS(y, sm.add_constant(pd.DataFrame(X[included]))).fit()\n",
    "        aics.append(model.aic)\n",
    "        bics.append(model.bic)\n",
    "    return included,aics,bics\n",
    "\n",
    "features,aics,bics = back_selection(X_train, y_train)\n",
    "\n",
    "print('resulting features:')\n",
    "print(features)\n"
   ]
  },
  {
   "cell_type": "code",
   "execution_count": 53,
   "metadata": {
    "colab": {},
    "colab_type": "code",
    "id": "TR4o2f1ijmdO"
   },
   "outputs": [
    {
     "name": "stdout",
     "output_type": "stream",
     "text": [
      "Coefficients: \n",
      " [ 6.44131349e-01  6.45216824e+03  6.84235704e+03  5.28377980e+02\n",
      "  3.71604217e+01  1.55293240e+01  2.30815263e+01  2.14831505e+01\n",
      "  5.74041516e+01 -4.21693898e+03 -2.20459211e+04  8.21048924e+03\n",
      "  2.31542901e+01  1.40541108e+01  5.59242109e+03  3.83093941e+04\n",
      "  9.47876775e+03 -1.14524662e+04  6.79995272e+03 -1.60634240e+04\n",
      " -1.33989224e+04  1.69536447e+04 -1.35512315e+04 -1.46595235e+04\n",
      " -2.08802592e+04 -1.26918624e+04 -1.75372442e+04  1.53140284e+04\n",
      " -8.83602489e+03 -8.16663176e+03 -1.11000306e+04  2.04770485e+04\n",
      " -2.11721256e+04  9.73145659e+03 -2.42746929e+04 -1.86689060e+04\n",
      "  1.74487802e+04  9.40262394e+03 -3.87622147e+04 -2.27561879e+04\n",
      " -6.36356883e+03  7.14735971e+05  7.82628097e+05  7.39456084e+05\n",
      "  6.93685226e+05  7.14384455e+05  7.19920049e+05  7.63076159e+05\n",
      " -7.05464568e+03 -1.33516666e+04 -5.63966838e+03 -6.55695663e+03\n",
      " -7.39722106e+03  7.65358469e+03  7.01514255e+03 -1.88856593e+04\n",
      " -2.24610310e+04 -2.96096622e+04 -1.95003776e+04 -1.63089499e+04\n",
      "  1.71241710e+04 -4.58058189e+03  4.69994099e+03 -1.89439778e+04\n",
      " -1.96676219e+04 -2.01910702e+04  1.16362332e+04  1.23439235e+04\n",
      " -4.92940305e+04  2.50241077e+04 -1.07177486e+05 -1.01686601e+05\n",
      " -1.21035882e+05 -1.06298793e+05  9.76583967e+04  9.17838572e+04\n",
      "  1.01079645e+05  1.00560322e+05 -1.44467061e+05 -2.00727087e+05\n",
      "  2.24687040e+05  2.20266641e+05  2.20047796e+05  4.45092514e+04\n",
      "  5.38112017e+03  2.24614167e+04]\n",
      "Mean squared error: 1375115398.28\n",
      "Variance score: 0.77\n"
     ]
    }
   ],
   "source": [
    "from sklearn.metrics import mean_squared_error, r2_score\n",
    "# Create linear regression object\n",
    "regr = linear_model.LinearRegression()\n",
    "\n",
    "# Train the model using the training sets\n",
    "regr.fit(X_train[features], y_train)\n",
    "\n",
    "# Make predictions using the testing set\n",
    "y_pred = regr.predict(X_test[features])\n",
    "\n",
    "\n",
    "backward_mse=mean_squared_error(y_test, y_pred)\n",
    "backward_r2=r2_score(y_test, y_pred)\n",
    "# The coefficients\n",
    "print('Coefficients: \\n', regr.coef_)\n",
    "# The mean squared error\n",
    "print(\"Mean squared error: %.2f\"\n",
    "      % mean_squared_error(y_test, y_pred))\n",
    "# Explained variance score: 1 is perfect prediction\n",
    "print('Variance score: %.2f' % r2_score(y_test, y_pred))"
   ]
  },
  {
   "cell_type": "code",
   "execution_count": 55,
   "metadata": {},
   "outputs": [
    {
     "data": {
      "text/plain": [
       "86"
      ]
     },
     "execution_count": 55,
     "metadata": {},
     "output_type": "execute_result"
    }
   ],
   "source": [
    "len(features)"
   ]
  },
  {
   "cell_type": "code",
   "execution_count": 56,
   "metadata": {},
   "outputs": [],
   "source": [
    "x=np.arange(1,len(aics)+1)"
   ]
  },
  {
   "cell_type": "code",
   "execution_count": 57,
   "metadata": {
    "colab": {},
    "colab_type": "code",
    "id": "UmxBxvEOjmdR"
   },
   "outputs": [
    {
     "data": {
      "text/plain": [
       "Text(0.5,1,'Backward Selection')"
      ]
     },
     "execution_count": 57,
     "metadata": {},
     "output_type": "execute_result"
    },
    {
     "data": {
      "image/png": "[encoded data removed]",
      "text/plain": [
       "<Figure size 432x288 with 1 Axes>"
      ]
     },
     "metadata": {},
     "output_type": "display_data"
    }
   ],
   "source": [
    "plt.plot(x, aics, 'bo')\n",
    "plt.plot(x, bics, 'go')\n",
    "plt.legend([\"AIC\",\"BIC\"])\n",
    "plt.title(\"Backward Selection\")"
   ]
  },
  {
   "cell_type": "code",
   "execution_count": 59,
   "metadata": {
    "colab": {},
    "colab_type": "code",
    "id": "-fRAqWvvjmdU"
   },
   "outputs": [
    {
     "data": {
      "image/png": "[encoded data removed]",
      "text/plain": [
       "<Figure size 640x480 with 1 Axes>"
      ]
     },
     "metadata": {},
     "output_type": "display_data"
    }
   ],
   "source": [
    "import matplotlib.pyplot as plt; plt.rcdefaults()\n",
    "\n",
    "objects = ('Stepwise', 'Forward', 'Backward')\n",
    "y_pos = np.arange(len(objects))\n",
    "performance = [stepwise_mse,forward_mse,backward_mse]\n",
    "\n",
    "plt.bar(y_pos, performance, align='center', alpha=0.5,color=['deepskyblue','mediumturquoise', 'darkorange'])\n",
    "plt.xticks(y_pos, objects)\n",
    "plt.ylabel('Feature Selection Method')\n",
    "plt.title('Mean Square Errors on Test Dataset')\n",
    "\n",
    "plt.show()"
   ]
  }
 ],
 "metadata": {
  "colab": {
   "name": "Feature Selection.ipynb",
   "provenance": [],
   "version": "0.3.2"
  },
  "kernelspec": {
   "display_name": "Python 3",
   "language": "python",
   "name": "python3"
  },
  "language_info": {
   "codemirror_mode": {
    "name": "ipython",
    "version": 3
   },
   "file_extension": ".py",
   "mimetype": "text/x-python",
   "name": "python",
   "nbconvert_exporter": "python",
   "pygments_lexer": "ipython3",
   "version": "3.6.6"
  }
 },
 "nbformat": 4,
 "nbformat_minor": 1
}
